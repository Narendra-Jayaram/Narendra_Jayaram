{
 "cells": [
  {
   "cell_type": "code",
   "execution_count": null,
   "metadata": {},
   "outputs": [],
   "source": [
    "# @hidden_cell\n",
    "# The project token is an authorization token that is used to access project resources like data sources, connections, and used by platform APIs.\n",
    "from project_lib import Project\n",
    "project = Project(project_id='7277e3bb-3263-42c6-ad28-1dd39f45a854', project_access_token='p-eb83b8006b6f565f24114be4a6dced016e917565')\n",
    "pc = project.project_context\n"
   ]
  },
  {
   "cell_type": "markdown",
   "metadata": {
    "collapsed": true
   },
   "source": [
    "# IBM Data Science Capstone Jupyter Notebook #1:\n",
    "\n",
    "Data Examination and Exploratory Analysis\n",
    "Author: Narendra Jayaram Date: 09/01/2020\n",
    "\n",
    "This project uses data from previous vehicle collisions to try and build a machine learning model that predicts the severity of accidents based on certain features.   \n",
    "This notebook will focus on data examination, initial feature selection and exploratory analysis.\n",
    "\n",
    "The data comes from collision records recorded by the Seattle Police Department from 2004 through May of 2020\n"
   ]
  },
  {
   "cell_type": "code",
   "execution_count": 7,
   "metadata": {},
   "outputs": [],
   "source": [
    "#import required libraries for handling and visualizing data\n",
    "import pandas as pd\n",
    "import numpy as np\n",
    "%matplotlib inline\n",
    "import matplotlib.pyplot as plt\n",
    "import seaborn as sns\n",
    "#more libraries from the sklearn package will be imported later for modeling and evaluation\n",
    "%matplotlib inline\n",
    "import warnings\n",
    "warnings.filterwarnings('ignore')"
   ]
  },
  {
   "cell_type": "code",
   "execution_count": 8,
   "metadata": {},
   "outputs": [
    {
     "data": {
      "text/html": [
       "<div>\n",
       "<style scoped>\n",
       "    .dataframe tbody tr th:only-of-type {\n",
       "        vertical-align: middle;\n",
       "    }\n",
       "\n",
       "    .dataframe tbody tr th {\n",
       "        vertical-align: top;\n",
       "    }\n",
       "\n",
       "    .dataframe thead th {\n",
       "        text-align: right;\n",
       "    }\n",
       "</style>\n",
       "<table border=\"1\" class=\"dataframe\">\n",
       "  <thead>\n",
       "    <tr style=\"text-align: right;\">\n",
       "      <th></th>\n",
       "      <th>SEVERITYCODE</th>\n",
       "      <th>X</th>\n",
       "      <th>Y</th>\n",
       "      <th>OBJECTID</th>\n",
       "      <th>INCKEY</th>\n",
       "      <th>COLDETKEY</th>\n",
       "      <th>REPORTNO</th>\n",
       "      <th>STATUS</th>\n",
       "      <th>ADDRTYPE</th>\n",
       "      <th>INTKEY</th>\n",
       "      <th>...</th>\n",
       "      <th>ROADCOND</th>\n",
       "      <th>LIGHTCOND</th>\n",
       "      <th>PEDROWNOTGRNT</th>\n",
       "      <th>SDOTCOLNUM</th>\n",
       "      <th>SPEEDING</th>\n",
       "      <th>ST_COLCODE</th>\n",
       "      <th>ST_COLDESC</th>\n",
       "      <th>SEGLANEKEY</th>\n",
       "      <th>CROSSWALKKEY</th>\n",
       "      <th>HITPARKEDCAR</th>\n",
       "    </tr>\n",
       "  </thead>\n",
       "  <tbody>\n",
       "    <tr>\n",
       "      <th>0</th>\n",
       "      <td>2</td>\n",
       "      <td>-122.323148</td>\n",
       "      <td>47.703140</td>\n",
       "      <td>1</td>\n",
       "      <td>1307</td>\n",
       "      <td>1307</td>\n",
       "      <td>3502005</td>\n",
       "      <td>Matched</td>\n",
       "      <td>Intersection</td>\n",
       "      <td>37475.0</td>\n",
       "      <td>...</td>\n",
       "      <td>Wet</td>\n",
       "      <td>Daylight</td>\n",
       "      <td>NaN</td>\n",
       "      <td>NaN</td>\n",
       "      <td>NaN</td>\n",
       "      <td>10</td>\n",
       "      <td>Entering at angle</td>\n",
       "      <td>0</td>\n",
       "      <td>0</td>\n",
       "      <td>N</td>\n",
       "    </tr>\n",
       "    <tr>\n",
       "      <th>1</th>\n",
       "      <td>1</td>\n",
       "      <td>-122.347294</td>\n",
       "      <td>47.647172</td>\n",
       "      <td>2</td>\n",
       "      <td>52200</td>\n",
       "      <td>52200</td>\n",
       "      <td>2607959</td>\n",
       "      <td>Matched</td>\n",
       "      <td>Block</td>\n",
       "      <td>NaN</td>\n",
       "      <td>...</td>\n",
       "      <td>Wet</td>\n",
       "      <td>Dark - Street Lights On</td>\n",
       "      <td>NaN</td>\n",
       "      <td>6354039.0</td>\n",
       "      <td>NaN</td>\n",
       "      <td>11</td>\n",
       "      <td>From same direction - both going straight - bo...</td>\n",
       "      <td>0</td>\n",
       "      <td>0</td>\n",
       "      <td>N</td>\n",
       "    </tr>\n",
       "    <tr>\n",
       "      <th>2</th>\n",
       "      <td>1</td>\n",
       "      <td>-122.334540</td>\n",
       "      <td>47.607871</td>\n",
       "      <td>3</td>\n",
       "      <td>26700</td>\n",
       "      <td>26700</td>\n",
       "      <td>1482393</td>\n",
       "      <td>Matched</td>\n",
       "      <td>Block</td>\n",
       "      <td>NaN</td>\n",
       "      <td>...</td>\n",
       "      <td>Dry</td>\n",
       "      <td>Daylight</td>\n",
       "      <td>NaN</td>\n",
       "      <td>4323031.0</td>\n",
       "      <td>NaN</td>\n",
       "      <td>32</td>\n",
       "      <td>One parked--one moving</td>\n",
       "      <td>0</td>\n",
       "      <td>0</td>\n",
       "      <td>N</td>\n",
       "    </tr>\n",
       "  </tbody>\n",
       "</table>\n",
       "<p>3 rows × 38 columns</p>\n",
       "</div>"
      ],
      "text/plain": [
       "   SEVERITYCODE           X          Y  OBJECTID  INCKEY  COLDETKEY REPORTNO  \\\n",
       "0             2 -122.323148  47.703140         1    1307       1307  3502005   \n",
       "1             1 -122.347294  47.647172         2   52200      52200  2607959   \n",
       "2             1 -122.334540  47.607871         3   26700      26700  1482393   \n",
       "\n",
       "    STATUS      ADDRTYPE   INTKEY  ... ROADCOND                LIGHTCOND  \\\n",
       "0  Matched  Intersection  37475.0  ...      Wet                 Daylight   \n",
       "1  Matched         Block      NaN  ...      Wet  Dark - Street Lights On   \n",
       "2  Matched         Block      NaN  ...      Dry                 Daylight   \n",
       "\n",
       "  PEDROWNOTGRNT  SDOTCOLNUM SPEEDING ST_COLCODE  \\\n",
       "0           NaN         NaN      NaN         10   \n",
       "1           NaN   6354039.0      NaN         11   \n",
       "2           NaN   4323031.0      NaN         32   \n",
       "\n",
       "                                          ST_COLDESC  SEGLANEKEY  \\\n",
       "0                                  Entering at angle           0   \n",
       "1  From same direction - both going straight - bo...           0   \n",
       "2                             One parked--one moving           0   \n",
       "\n",
       "   CROSSWALKKEY  HITPARKEDCAR  \n",
       "0             0             N  \n",
       "1             0             N  \n",
       "2             0             N  \n",
       "\n",
       "[3 rows x 38 columns]"
      ]
     },
     "execution_count": 8,
     "metadata": {},
     "output_type": "execute_result"
    }
   ],
   "source": [
    "\n",
    "import types\n",
    "import pandas as pd\n",
    "from botocore.client import Config\n",
    "import ibm_boto3\n",
    "\n",
    "def __iter__(self): return 0\n",
    "\n",
    "# @hidden_cell\n",
    "# The following code accesses a file in your IBM Cloud Object Storage. It includes your credentials.\n",
    "# You might want to remove those credentials before you share the notebook.\n",
    "client_fc970d3ef8cd46d4a2428def16cea59d = ibm_boto3.client(service_name='s3',\n",
    "    ibm_api_key_id='USMY-agKGfme_dlapbsBuhXMCVan-ZqcoC1QX3nYsHMy',\n",
    "    ibm_auth_endpoint=\"https://iam.cloud.ibm.com/oidc/token\",\n",
    "    config=Config(signature_version='oauth'),\n",
    "    endpoint_url='https://s3.eu-geo.objectstorage.service.networklayer.com')\n",
    "\n",
    "body = client_fc970d3ef8cd46d4a2428def16cea59d.get_object(Bucket='courseracapstonenj-donotdelete-pr-bsbb2ht9aiegvj',Key='Data_Collisions.csv')['Body']\n",
    "# add missing __iter__ method, so pandas accepts body as file-like object\n",
    "if not hasattr(body, \"__iter__\"): body.__iter__ = types.MethodType( __iter__, body )\n",
    "\n",
    "dt = pd.read_csv(body)\n",
    "dt.head(3)\n"
   ]
  },
  {
   "cell_type": "code",
   "execution_count": 9,
   "metadata": {},
   "outputs": [
    {
     "data": {
      "text/plain": [
       "(194673, 38)"
      ]
     },
     "execution_count": 9,
     "metadata": {},
     "output_type": "execute_result"
    }
   ],
   "source": [
    "dt.shape"
   ]
  },
  {
   "cell_type": "code",
   "execution_count": 10,
   "metadata": {},
   "outputs": [
    {
     "data": {
      "text/html": [
       "<div>\n",
       "<style scoped>\n",
       "    .dataframe tbody tr th:only-of-type {\n",
       "        vertical-align: middle;\n",
       "    }\n",
       "\n",
       "    .dataframe tbody tr th {\n",
       "        vertical-align: top;\n",
       "    }\n",
       "\n",
       "    .dataframe thead th {\n",
       "        text-align: right;\n",
       "    }\n",
       "</style>\n",
       "<table border=\"1\" class=\"dataframe\">\n",
       "  <thead>\n",
       "    <tr style=\"text-align: right;\">\n",
       "      <th></th>\n",
       "      <th>X</th>\n",
       "      <th>Y</th>\n",
       "      <th>OBJECTID</th>\n",
       "      <th>INCKEY</th>\n",
       "      <th>COLDETKEY</th>\n",
       "      <th>REPORTNO</th>\n",
       "      <th>STATUS</th>\n",
       "      <th>ADDRTYPE</th>\n",
       "      <th>INTKEY</th>\n",
       "      <th>LOCATION</th>\n",
       "      <th>...</th>\n",
       "      <th>ROADCOND</th>\n",
       "      <th>LIGHTCOND</th>\n",
       "      <th>PEDROWNOTGRNT</th>\n",
       "      <th>SDOTCOLNUM</th>\n",
       "      <th>SPEEDING</th>\n",
       "      <th>ST_COLCODE</th>\n",
       "      <th>ST_COLDESC</th>\n",
       "      <th>SEGLANEKEY</th>\n",
       "      <th>CROSSWALKKEY</th>\n",
       "      <th>HITPARKEDCAR</th>\n",
       "    </tr>\n",
       "  </thead>\n",
       "  <tbody>\n",
       "    <tr>\n",
       "      <th>0</th>\n",
       "      <td>-122.323148</td>\n",
       "      <td>47.703140</td>\n",
       "      <td>1</td>\n",
       "      <td>1307</td>\n",
       "      <td>1307</td>\n",
       "      <td>3502005</td>\n",
       "      <td>Matched</td>\n",
       "      <td>Intersection</td>\n",
       "      <td>37475.0</td>\n",
       "      <td>5TH AVE NE AND NE 103RD ST</td>\n",
       "      <td>...</td>\n",
       "      <td>Wet</td>\n",
       "      <td>Daylight</td>\n",
       "      <td>NaN</td>\n",
       "      <td>NaN</td>\n",
       "      <td>NaN</td>\n",
       "      <td>10</td>\n",
       "      <td>Entering at angle</td>\n",
       "      <td>0</td>\n",
       "      <td>0</td>\n",
       "      <td>N</td>\n",
       "    </tr>\n",
       "    <tr>\n",
       "      <th>1</th>\n",
       "      <td>-122.347294</td>\n",
       "      <td>47.647172</td>\n",
       "      <td>2</td>\n",
       "      <td>52200</td>\n",
       "      <td>52200</td>\n",
       "      <td>2607959</td>\n",
       "      <td>Matched</td>\n",
       "      <td>Block</td>\n",
       "      <td>NaN</td>\n",
       "      <td>AURORA BR BETWEEN RAYE ST AND BRIDGE WAY N</td>\n",
       "      <td>...</td>\n",
       "      <td>Wet</td>\n",
       "      <td>Dark - Street Lights On</td>\n",
       "      <td>NaN</td>\n",
       "      <td>6354039.0</td>\n",
       "      <td>NaN</td>\n",
       "      <td>11</td>\n",
       "      <td>From same direction - both going straight - bo...</td>\n",
       "      <td>0</td>\n",
       "      <td>0</td>\n",
       "      <td>N</td>\n",
       "    </tr>\n",
       "    <tr>\n",
       "      <th>2</th>\n",
       "      <td>-122.334540</td>\n",
       "      <td>47.607871</td>\n",
       "      <td>3</td>\n",
       "      <td>26700</td>\n",
       "      <td>26700</td>\n",
       "      <td>1482393</td>\n",
       "      <td>Matched</td>\n",
       "      <td>Block</td>\n",
       "      <td>NaN</td>\n",
       "      <td>4TH AVE BETWEEN SENECA ST AND UNIVERSITY ST</td>\n",
       "      <td>...</td>\n",
       "      <td>Dry</td>\n",
       "      <td>Daylight</td>\n",
       "      <td>NaN</td>\n",
       "      <td>4323031.0</td>\n",
       "      <td>NaN</td>\n",
       "      <td>32</td>\n",
       "      <td>One parked--one moving</td>\n",
       "      <td>0</td>\n",
       "      <td>0</td>\n",
       "      <td>N</td>\n",
       "    </tr>\n",
       "  </tbody>\n",
       "</table>\n",
       "<p>3 rows × 37 columns</p>\n",
       "</div>"
      ],
      "text/plain": [
       "            X          Y  OBJECTID  INCKEY  COLDETKEY REPORTNO   STATUS  \\\n",
       "0 -122.323148  47.703140         1    1307       1307  3502005  Matched   \n",
       "1 -122.347294  47.647172         2   52200      52200  2607959  Matched   \n",
       "2 -122.334540  47.607871         3   26700      26700  1482393  Matched   \n",
       "\n",
       "       ADDRTYPE   INTKEY                                     LOCATION  ...  \\\n",
       "0  Intersection  37475.0                   5TH AVE NE AND NE 103RD ST  ...   \n",
       "1         Block      NaN   AURORA BR BETWEEN RAYE ST AND BRIDGE WAY N  ...   \n",
       "2         Block      NaN  4TH AVE BETWEEN SENECA ST AND UNIVERSITY ST  ...   \n",
       "\n",
       "  ROADCOND                LIGHTCOND  PEDROWNOTGRNT SDOTCOLNUM SPEEDING  \\\n",
       "0      Wet                 Daylight            NaN        NaN      NaN   \n",
       "1      Wet  Dark - Street Lights On            NaN  6354039.0      NaN   \n",
       "2      Dry                 Daylight            NaN  4323031.0      NaN   \n",
       "\n",
       "   ST_COLCODE                                         ST_COLDESC  SEGLANEKEY  \\\n",
       "0          10                                  Entering at angle           0   \n",
       "1          11  From same direction - both going straight - bo...           0   \n",
       "2          32                             One parked--one moving           0   \n",
       "\n",
       "   CROSSWALKKEY HITPARKEDCAR  \n",
       "0             0            N  \n",
       "1             0            N  \n",
       "2             0            N  \n",
       "\n",
       "[3 rows x 37 columns]"
      ]
     },
     "execution_count": 10,
     "metadata": {},
     "output_type": "execute_result"
    }
   ],
   "source": [
    "\n",
    "body = client_fc970d3ef8cd46d4a2428def16cea59d.get_object(Bucket='courseracapstonenj-donotdelete-pr-bsbb2ht9aiegvj',Key='Data_Collisions_test.csv')['Body']\n",
    "# add missing __iter__ method, so pandas accepts body as file-like object\n",
    "if not hasattr(body, \"__iter__\"): body.__iter__ = types.MethodType( __iter__, body )\n",
    "\n",
    "test1 = pd.read_csv(body)\n",
    "test1.head(3)\n"
   ]
  },
  {
   "cell_type": "code",
   "execution_count": 11,
   "metadata": {},
   "outputs": [
    {
     "data": {
      "text/plain": [
       "(194673, 37)"
      ]
     },
     "execution_count": 11,
     "metadata": {},
     "output_type": "execute_result"
    }
   ],
   "source": [
    "test1.shape"
   ]
  },
  {
   "cell_type": "markdown",
   "metadata": {},
   "source": [
    "#  1.0 Data Exploration"
   ]
  },
  {
   "cell_type": "markdown",
   "metadata": {},
   "source": [
    "## We will do some preliminary examination of the dataset to: \n",
    "\n",
    "understand the dataset (incl. the datatypes of different columns)  \n",
    "identify possible independent parameters that could be useful for the model   \n",
    "identify what data cleansing and pre-processing might be required   \n"
   ]
  },
  {
   "cell_type": "code",
   "execution_count": 12,
   "metadata": {},
   "outputs": [
    {
     "name": "stdout",
     "output_type": "stream",
     "text": [
      "Type 1 collisions (property damage) =  136485\n",
      "Type 2 collisions (with injury) =  58188\n",
      "Ratio of Collisions with property damage only to those with injuries: 2.35\n",
      "Ratio of Collisions with injuries to those with property damage: 0.43\n"
     ]
    }
   ],
   "source": [
    "coll_1 = dt[dt['SEVERITYCODE']==1].count()['SEVERITYCODE']\n",
    "coll_2 = dt[dt['SEVERITYCODE']==2].count()['SEVERITYCODE']\n",
    "print('Type 1 collisions (property damage) = ', coll_1)\n",
    "print('Type 2 collisions (with injury) = ', coll_2)\n",
    "print('Ratio of Collisions with property damage only to those with injuries: '+'{:.2f}'.format(coll_1/coll_2))\n",
    "print('Ratio of Collisions with injuries to those with property damage: '+'{:.2f}'.format(coll_2/coll_1))\n"
   ]
  },
  {
   "cell_type": "code",
   "execution_count": 13,
   "metadata": {},
   "outputs": [
    {
     "data": {
      "text/plain": [
       "Index(['SEVERITYCODE', 'X', 'Y', 'OBJECTID', 'INCKEY', 'COLDETKEY', 'REPORTNO',\n",
       "       'STATUS', 'ADDRTYPE', 'INTKEY', 'LOCATION', 'EXCEPTRSNCODE',\n",
       "       'EXCEPTRSNDESC', 'SEVERITYCODE.1', 'SEVERITYDESC', 'COLLISIONTYPE',\n",
       "       'PERSONCOUNT', 'PEDCOUNT', 'PEDCYLCOUNT', 'VEHCOUNT', 'INCDATE',\n",
       "       'INCDTTM', 'JUNCTIONTYPE', 'SDOT_COLCODE', 'SDOT_COLDESC',\n",
       "       'INATTENTIONIND', 'UNDERINFL', 'WEATHER', 'ROADCOND', 'LIGHTCOND',\n",
       "       'PEDROWNOTGRNT', 'SDOTCOLNUM', 'SPEEDING', 'ST_COLCODE', 'ST_COLDESC',\n",
       "       'SEGLANEKEY', 'CROSSWALKKEY', 'HITPARKEDCAR'],\n",
       "      dtype='object')"
      ]
     },
     "execution_count": 13,
     "metadata": {},
     "output_type": "execute_result"
    }
   ],
   "source": [
    "dt.columns"
   ]
  },
  {
   "cell_type": "code",
   "execution_count": 14,
   "metadata": {},
   "outputs": [
    {
     "name": "stdout",
     "output_type": "stream",
     "text": [
      "INCDATE    object\n",
      "INCDTTM    object\n",
      "dtype: object\n",
      "                       INCDATE    INCDTTM\n",
      "count                   194673     194673\n",
      "unique                    5985     162058\n",
      "top     2006/11/02 00:00:00+00  11/2/2006\n",
      "freq                        96         96\n"
     ]
    },
    {
     "data": {
      "text/html": [
       "<div>\n",
       "<style scoped>\n",
       "    .dataframe tbody tr th:only-of-type {\n",
       "        vertical-align: middle;\n",
       "    }\n",
       "\n",
       "    .dataframe tbody tr th {\n",
       "        vertical-align: top;\n",
       "    }\n",
       "\n",
       "    .dataframe thead th {\n",
       "        text-align: right;\n",
       "    }\n",
       "</style>\n",
       "<table border=\"1\" class=\"dataframe\">\n",
       "  <thead>\n",
       "    <tr style=\"text-align: right;\">\n",
       "      <th></th>\n",
       "      <th>INCDATE</th>\n",
       "      <th>INCDTTM</th>\n",
       "    </tr>\n",
       "  </thead>\n",
       "  <tbody>\n",
       "    <tr>\n",
       "      <th>0</th>\n",
       "      <td>2013/03/27 00:00:00+00</td>\n",
       "      <td>3/27/2013 2:54:00 PM</td>\n",
       "    </tr>\n",
       "    <tr>\n",
       "      <th>1</th>\n",
       "      <td>2006/12/20 00:00:00+00</td>\n",
       "      <td>12/20/2006 6:55:00 PM</td>\n",
       "    </tr>\n",
       "    <tr>\n",
       "      <th>2</th>\n",
       "      <td>2004/11/18 00:00:00+00</td>\n",
       "      <td>11/18/2004 10:20:00 AM</td>\n",
       "    </tr>\n",
       "    <tr>\n",
       "      <th>3</th>\n",
       "      <td>2013/03/29 00:00:00+00</td>\n",
       "      <td>3/29/2013 9:26:00 AM</td>\n",
       "    </tr>\n",
       "    <tr>\n",
       "      <th>4</th>\n",
       "      <td>2004/01/28 00:00:00+00</td>\n",
       "      <td>1/28/2004 8:04:00 AM</td>\n",
       "    </tr>\n",
       "    <tr>\n",
       "      <th>5</th>\n",
       "      <td>2019/04/20 00:00:00+00</td>\n",
       "      <td>4/20/2019 5:42:00 PM</td>\n",
       "    </tr>\n",
       "    <tr>\n",
       "      <th>6</th>\n",
       "      <td>2008/12/09 00:00:00+00</td>\n",
       "      <td>12/9/2008</td>\n",
       "    </tr>\n",
       "    <tr>\n",
       "      <th>7</th>\n",
       "      <td>2020/04/15 00:00:00+00</td>\n",
       "      <td>4/15/2020 5:47:00 PM</td>\n",
       "    </tr>\n",
       "    <tr>\n",
       "      <th>8</th>\n",
       "      <td>2006/06/15 00:00:00+00</td>\n",
       "      <td>6/15/2006 1:00:00 PM</td>\n",
       "    </tr>\n",
       "    <tr>\n",
       "      <th>9</th>\n",
       "      <td>2006/03/20 00:00:00+00</td>\n",
       "      <td>3/20/2006 3:49:00 PM</td>\n",
       "    </tr>\n",
       "    <tr>\n",
       "      <th>10</th>\n",
       "      <td>2006/05/25 00:00:00+00</td>\n",
       "      <td>5/25/2006 6:20:00 PM</td>\n",
       "    </tr>\n",
       "    <tr>\n",
       "      <th>11</th>\n",
       "      <td>2005/08/11 00:00:00+00</td>\n",
       "      <td>8/11/2005 5:30:00 PM</td>\n",
       "    </tr>\n",
       "    <tr>\n",
       "      <th>12</th>\n",
       "      <td>2006/05/17 00:00:00+00</td>\n",
       "      <td>5/17/2006 12:51:00 PM</td>\n",
       "    </tr>\n",
       "    <tr>\n",
       "      <th>13</th>\n",
       "      <td>2005/12/22 00:00:00+00</td>\n",
       "      <td>12/22/2005 5:13:00 PM</td>\n",
       "    </tr>\n",
       "    <tr>\n",
       "      <th>14</th>\n",
       "      <td>2013/03/31 00:00:00+00</td>\n",
       "      <td>3/31/2013 2:09:00 AM</td>\n",
       "    </tr>\n",
       "    <tr>\n",
       "      <th>15</th>\n",
       "      <td>2020/04/20 00:00:00+00</td>\n",
       "      <td>4/20/2020</td>\n",
       "    </tr>\n",
       "    <tr>\n",
       "      <th>16</th>\n",
       "      <td>2005/07/01 00:00:00+00</td>\n",
       "      <td>7/1/2005</td>\n",
       "    </tr>\n",
       "    <tr>\n",
       "      <th>17</th>\n",
       "      <td>2004/01/16 00:00:00+00</td>\n",
       "      <td>1/16/2004 8:25:00 AM</td>\n",
       "    </tr>\n",
       "    <tr>\n",
       "      <th>18</th>\n",
       "      <td>2020/04/17 00:00:00+00</td>\n",
       "      <td>4/17/2020 2:44:00 PM</td>\n",
       "    </tr>\n",
       "    <tr>\n",
       "      <th>19</th>\n",
       "      <td>2009/06/01 00:00:00+00</td>\n",
       "      <td>6/1/2009</td>\n",
       "    </tr>\n",
       "  </tbody>\n",
       "</table>\n",
       "</div>"
      ],
      "text/plain": [
       "                   INCDATE                 INCDTTM\n",
       "0   2013/03/27 00:00:00+00    3/27/2013 2:54:00 PM\n",
       "1   2006/12/20 00:00:00+00   12/20/2006 6:55:00 PM\n",
       "2   2004/11/18 00:00:00+00  11/18/2004 10:20:00 AM\n",
       "3   2013/03/29 00:00:00+00    3/29/2013 9:26:00 AM\n",
       "4   2004/01/28 00:00:00+00    1/28/2004 8:04:00 AM\n",
       "5   2019/04/20 00:00:00+00    4/20/2019 5:42:00 PM\n",
       "6   2008/12/09 00:00:00+00               12/9/2008\n",
       "7   2020/04/15 00:00:00+00    4/15/2020 5:47:00 PM\n",
       "8   2006/06/15 00:00:00+00    6/15/2006 1:00:00 PM\n",
       "9   2006/03/20 00:00:00+00    3/20/2006 3:49:00 PM\n",
       "10  2006/05/25 00:00:00+00    5/25/2006 6:20:00 PM\n",
       "11  2005/08/11 00:00:00+00    8/11/2005 5:30:00 PM\n",
       "12  2006/05/17 00:00:00+00   5/17/2006 12:51:00 PM\n",
       "13  2005/12/22 00:00:00+00   12/22/2005 5:13:00 PM\n",
       "14  2013/03/31 00:00:00+00    3/31/2013 2:09:00 AM\n",
       "15  2020/04/20 00:00:00+00               4/20/2020\n",
       "16  2005/07/01 00:00:00+00                7/1/2005\n",
       "17  2004/01/16 00:00:00+00    1/16/2004 8:25:00 AM\n",
       "18  2020/04/17 00:00:00+00    4/17/2020 2:44:00 PM\n",
       "19  2009/06/01 00:00:00+00                6/1/2009"
      ]
     },
     "execution_count": 14,
     "metadata": {},
     "output_type": "execute_result"
    }
   ],
   "source": [
    "\n",
    "#first lets look at the two date/time columns for format, samples, etc.\n",
    "\n",
    "print(dt[['INCDATE','INCDTTM']].dtypes)\n",
    "\n",
    "print(dt[['INCDATE','INCDTTM']].describe())\n",
    "\n",
    "dt[['INCDATE','INCDTTM']].head(20)"
   ]
  },
  {
   "cell_type": "code",
   "execution_count": 15,
   "metadata": {},
   "outputs": [
    {
     "name": "stdout",
     "output_type": "stream",
     "text": [
      "datetime64[ns]\n",
      "count                  194673\n",
      "unique                 162058\n",
      "top       2006-11-02 00:00:00\n",
      "freq                       96\n",
      "first     2004-01-01 00:00:00\n",
      "last      2020-05-20 00:00:00\n",
      "Name: DATETIME, dtype: object\n"
     ]
    },
    {
     "data": {
      "text/html": [
       "<div>\n",
       "<style scoped>\n",
       "    .dataframe tbody tr th:only-of-type {\n",
       "        vertical-align: middle;\n",
       "    }\n",
       "\n",
       "    .dataframe tbody tr th {\n",
       "        vertical-align: top;\n",
       "    }\n",
       "\n",
       "    .dataframe thead th {\n",
       "        text-align: right;\n",
       "    }\n",
       "</style>\n",
       "<table border=\"1\" class=\"dataframe\">\n",
       "  <thead>\n",
       "    <tr style=\"text-align: right;\">\n",
       "      <th></th>\n",
       "      <th>DATETIME</th>\n",
       "    </tr>\n",
       "  </thead>\n",
       "  <tbody>\n",
       "    <tr>\n",
       "      <th>0</th>\n",
       "      <td>2013-03-27 14:54:00</td>\n",
       "    </tr>\n",
       "    <tr>\n",
       "      <th>1</th>\n",
       "      <td>2006-12-20 18:55:00</td>\n",
       "    </tr>\n",
       "    <tr>\n",
       "      <th>2</th>\n",
       "      <td>2004-11-18 10:20:00</td>\n",
       "    </tr>\n",
       "    <tr>\n",
       "      <th>3</th>\n",
       "      <td>2013-03-29 09:26:00</td>\n",
       "    </tr>\n",
       "    <tr>\n",
       "      <th>4</th>\n",
       "      <td>2004-01-28 08:04:00</td>\n",
       "    </tr>\n",
       "    <tr>\n",
       "      <th>5</th>\n",
       "      <td>2019-04-20 17:42:00</td>\n",
       "    </tr>\n",
       "    <tr>\n",
       "      <th>6</th>\n",
       "      <td>2008-12-09 00:00:00</td>\n",
       "    </tr>\n",
       "    <tr>\n",
       "      <th>7</th>\n",
       "      <td>2020-04-15 17:47:00</td>\n",
       "    </tr>\n",
       "    <tr>\n",
       "      <th>8</th>\n",
       "      <td>2006-06-15 13:00:00</td>\n",
       "    </tr>\n",
       "    <tr>\n",
       "      <th>9</th>\n",
       "      <td>2006-03-20 15:49:00</td>\n",
       "    </tr>\n",
       "    <tr>\n",
       "      <th>10</th>\n",
       "      <td>2006-05-25 18:20:00</td>\n",
       "    </tr>\n",
       "    <tr>\n",
       "      <th>11</th>\n",
       "      <td>2005-08-11 17:30:00</td>\n",
       "    </tr>\n",
       "    <tr>\n",
       "      <th>12</th>\n",
       "      <td>2006-05-17 12:51:00</td>\n",
       "    </tr>\n",
       "    <tr>\n",
       "      <th>13</th>\n",
       "      <td>2005-12-22 17:13:00</td>\n",
       "    </tr>\n",
       "    <tr>\n",
       "      <th>14</th>\n",
       "      <td>2013-03-31 02:09:00</td>\n",
       "    </tr>\n",
       "  </tbody>\n",
       "</table>\n",
       "</div>"
      ],
      "text/plain": [
       "              DATETIME\n",
       "0  2013-03-27 14:54:00\n",
       "1  2006-12-20 18:55:00\n",
       "2  2004-11-18 10:20:00\n",
       "3  2013-03-29 09:26:00\n",
       "4  2004-01-28 08:04:00\n",
       "5  2019-04-20 17:42:00\n",
       "6  2008-12-09 00:00:00\n",
       "7  2020-04-15 17:47:00\n",
       "8  2006-06-15 13:00:00\n",
       "9  2006-03-20 15:49:00\n",
       "10 2006-05-25 18:20:00\n",
       "11 2005-08-11 17:30:00\n",
       "12 2006-05-17 12:51:00\n",
       "13 2005-12-22 17:13:00\n",
       "14 2013-03-31 02:09:00"
      ]
     },
     "execution_count": 15,
     "metadata": {},
     "output_type": "execute_result"
    }
   ],
   "source": [
    "#the format for both columns is 'object' and not the datetime type that we would like and there are issues with the timestamp\n",
    "#this may be and issue, but lets leave for now\n",
    "\n",
    "#lets look at the volume of incidents overtime... first we need to convert the time to the right format.\n",
    "#lets use the INCDTTM column since that atleast captures the time for some records\n",
    "dt['DATETIME']=dt['INCDTTM'].astype('datetime64[ns]')\n",
    "print(dt['DATETIME'].dtypes)\n",
    "print(dt['DATETIME'].describe())\n",
    "dt[['DATETIME']].head(15)"
   ]
  },
  {
   "cell_type": "code",
   "execution_count": 16,
   "metadata": {},
   "outputs": [
    {
     "data": {
      "text/html": [
       "<div>\n",
       "<style scoped>\n",
       "    .dataframe tbody tr th:only-of-type {\n",
       "        vertical-align: middle;\n",
       "    }\n",
       "\n",
       "    .dataframe tbody tr th {\n",
       "        vertical-align: top;\n",
       "    }\n",
       "\n",
       "    .dataframe thead th {\n",
       "        text-align: right;\n",
       "    }\n",
       "</style>\n",
       "<table border=\"1\" class=\"dataframe\">\n",
       "  <thead>\n",
       "    <tr style=\"text-align: right;\">\n",
       "      <th>SEVERITYCODE</th>\n",
       "      <th>1</th>\n",
       "      <th>2</th>\n",
       "    </tr>\n",
       "    <tr>\n",
       "      <th>DATETIME</th>\n",
       "      <th></th>\n",
       "      <th></th>\n",
       "    </tr>\n",
       "  </thead>\n",
       "  <tbody>\n",
       "    <tr>\n",
       "      <th>2004</th>\n",
       "      <td>8218</td>\n",
       "      <td>3647</td>\n",
       "    </tr>\n",
       "    <tr>\n",
       "      <th>2005</th>\n",
       "      <td>10665</td>\n",
       "      <td>4450</td>\n",
       "    </tr>\n",
       "    <tr>\n",
       "      <th>2006</th>\n",
       "      <td>10838</td>\n",
       "      <td>4350</td>\n",
       "    </tr>\n",
       "    <tr>\n",
       "      <th>2007</th>\n",
       "      <td>10439</td>\n",
       "      <td>4017</td>\n",
       "    </tr>\n",
       "    <tr>\n",
       "      <th>2008</th>\n",
       "      <td>9893</td>\n",
       "      <td>3767</td>\n",
       "    </tr>\n",
       "    <tr>\n",
       "      <th>2009</th>\n",
       "      <td>8356</td>\n",
       "      <td>3378</td>\n",
       "    </tr>\n",
       "    <tr>\n",
       "      <th>2010</th>\n",
       "      <td>7563</td>\n",
       "      <td>3245</td>\n",
       "    </tr>\n",
       "    <tr>\n",
       "      <th>2011</th>\n",
       "      <td>7820</td>\n",
       "      <td>3099</td>\n",
       "    </tr>\n",
       "    <tr>\n",
       "      <th>2012</th>\n",
       "      <td>7440</td>\n",
       "      <td>3467</td>\n",
       "    </tr>\n",
       "    <tr>\n",
       "      <th>2013</th>\n",
       "      <td>7287</td>\n",
       "      <td>3290</td>\n",
       "    </tr>\n",
       "    <tr>\n",
       "      <th>2014</th>\n",
       "      <td>8351</td>\n",
       "      <td>3490</td>\n",
       "    </tr>\n",
       "    <tr>\n",
       "      <th>2015</th>\n",
       "      <td>9243</td>\n",
       "      <td>3752</td>\n",
       "    </tr>\n",
       "    <tr>\n",
       "      <th>2016</th>\n",
       "      <td>7945</td>\n",
       "      <td>3714</td>\n",
       "    </tr>\n",
       "    <tr>\n",
       "      <th>2017</th>\n",
       "      <td>7454</td>\n",
       "      <td>3419</td>\n",
       "    </tr>\n",
       "    <tr>\n",
       "      <th>2018</th>\n",
       "      <td>7061</td>\n",
       "      <td>3358</td>\n",
       "    </tr>\n",
       "    <tr>\n",
       "      <th>2019</th>\n",
       "      <td>6350</td>\n",
       "      <td>3062</td>\n",
       "    </tr>\n",
       "    <tr>\n",
       "      <th>2020</th>\n",
       "      <td>1562</td>\n",
       "      <td>683</td>\n",
       "    </tr>\n",
       "  </tbody>\n",
       "</table>\n",
       "</div>"
      ],
      "text/plain": [
       "SEVERITYCODE      1     2\n",
       "DATETIME                 \n",
       "2004           8218  3647\n",
       "2005          10665  4450\n",
       "2006          10838  4350\n",
       "2007          10439  4017\n",
       "2008           9893  3767\n",
       "2009           8356  3378\n",
       "2010           7563  3245\n",
       "2011           7820  3099\n",
       "2012           7440  3467\n",
       "2013           7287  3290\n",
       "2014           8351  3490\n",
       "2015           9243  3752\n",
       "2016           7945  3714\n",
       "2017           7454  3419\n",
       "2018           7061  3358\n",
       "2019           6350  3062\n",
       "2020           1562   683"
      ]
     },
     "execution_count": 16,
     "metadata": {},
     "output_type": "execute_result"
    }
   ],
   "source": [
    "# group the incidents by year and severity classifiation for plotting\n",
    "df_annual = dt.groupby([dt.DATETIME.dt.year,'SEVERITYCODE']).size().unstack(fill_value=0)\n",
    "df_annual.head(24)"
   ]
  },
  {
   "cell_type": "code",
   "execution_count": 17,
   "metadata": {},
   "outputs": [
    {
     "data": {
      "text/html": [
       "<div>\n",
       "<style scoped>\n",
       "    .dataframe tbody tr th:only-of-type {\n",
       "        vertical-align: middle;\n",
       "    }\n",
       "\n",
       "    .dataframe tbody tr th {\n",
       "        vertical-align: top;\n",
       "    }\n",
       "\n",
       "    .dataframe thead th {\n",
       "        text-align: right;\n",
       "    }\n",
       "</style>\n",
       "<table border=\"1\" class=\"dataframe\">\n",
       "  <thead>\n",
       "    <tr style=\"text-align: right;\">\n",
       "      <th>SEVERITYCODE</th>\n",
       "      <th>1</th>\n",
       "      <th>2</th>\n",
       "    </tr>\n",
       "    <tr>\n",
       "      <th>DATETIME</th>\n",
       "      <th></th>\n",
       "      <th></th>\n",
       "    </tr>\n",
       "  </thead>\n",
       "  <tbody>\n",
       "    <tr>\n",
       "      <th>1</th>\n",
       "      <td>11704</td>\n",
       "      <td>4703</td>\n",
       "    </tr>\n",
       "    <tr>\n",
       "      <th>2</th>\n",
       "      <td>10293</td>\n",
       "      <td>4097</td>\n",
       "    </tr>\n",
       "    <tr>\n",
       "      <th>3</th>\n",
       "      <td>11415</td>\n",
       "      <td>4735</td>\n",
       "    </tr>\n",
       "    <tr>\n",
       "      <th>4</th>\n",
       "      <td>11216</td>\n",
       "      <td>4762</td>\n",
       "    </tr>\n",
       "    <tr>\n",
       "      <th>5</th>\n",
       "      <td>11567</td>\n",
       "      <td>5196</td>\n",
       "    </tr>\n",
       "    <tr>\n",
       "      <th>6</th>\n",
       "      <td>11638</td>\n",
       "      <td>4928</td>\n",
       "    </tr>\n",
       "    <tr>\n",
       "      <th>7</th>\n",
       "      <td>11227</td>\n",
       "      <td>5137</td>\n",
       "    </tr>\n",
       "    <tr>\n",
       "      <th>8</th>\n",
       "      <td>11214</td>\n",
       "      <td>5082</td>\n",
       "    </tr>\n",
       "    <tr>\n",
       "      <th>9</th>\n",
       "      <td>11053</td>\n",
       "      <td>4811</td>\n",
       "    </tr>\n",
       "    <tr>\n",
       "      <th>10</th>\n",
       "      <td>12273</td>\n",
       "      <td>5495</td>\n",
       "    </tr>\n",
       "    <tr>\n",
       "      <th>11</th>\n",
       "      <td>11683</td>\n",
       "      <td>4899</td>\n",
       "    </tr>\n",
       "    <tr>\n",
       "      <th>12</th>\n",
       "      <td>11202</td>\n",
       "      <td>4343</td>\n",
       "    </tr>\n",
       "  </tbody>\n",
       "</table>\n",
       "</div>"
      ],
      "text/plain": [
       "SEVERITYCODE      1     2\n",
       "DATETIME                 \n",
       "1             11704  4703\n",
       "2             10293  4097\n",
       "3             11415  4735\n",
       "4             11216  4762\n",
       "5             11567  5196\n",
       "6             11638  4928\n",
       "7             11227  5137\n",
       "8             11214  5082\n",
       "9             11053  4811\n",
       "10            12273  5495\n",
       "11            11683  4899\n",
       "12            11202  4343"
      ]
     },
     "execution_count": 17,
     "metadata": {},
     "output_type": "execute_result"
    }
   ],
   "source": [
    "#group the incidents by year and severity classifiation for plotting\n",
    "df_month = dt.groupby([dt.DATETIME.dt.month,'SEVERITYCODE']).size().unstack(fill_value=0)\n",
    "df_month.head(24)"
   ]
  },
  {
   "cell_type": "code",
   "execution_count": 18,
   "metadata": {},
   "outputs": [
    {
     "data": {
      "text/html": [
       "<div>\n",
       "<style scoped>\n",
       "    .dataframe tbody tr th:only-of-type {\n",
       "        vertical-align: middle;\n",
       "    }\n",
       "\n",
       "    .dataframe tbody tr th {\n",
       "        vertical-align: top;\n",
       "    }\n",
       "\n",
       "    .dataframe thead th {\n",
       "        text-align: right;\n",
       "    }\n",
       "</style>\n",
       "<table border=\"1\" class=\"dataframe\">\n",
       "  <thead>\n",
       "    <tr style=\"text-align: right;\">\n",
       "      <th></th>\n",
       "      <th>Year</th>\n",
       "      <th>Property</th>\n",
       "      <th>Injury</th>\n",
       "    </tr>\n",
       "  </thead>\n",
       "  <tbody>\n",
       "    <tr>\n",
       "      <th>0</th>\n",
       "      <td>2004</td>\n",
       "      <td>8218</td>\n",
       "      <td>3647</td>\n",
       "    </tr>\n",
       "    <tr>\n",
       "      <th>1</th>\n",
       "      <td>2005</td>\n",
       "      <td>10665</td>\n",
       "      <td>4450</td>\n",
       "    </tr>\n",
       "    <tr>\n",
       "      <th>2</th>\n",
       "      <td>2006</td>\n",
       "      <td>10838</td>\n",
       "      <td>4350</td>\n",
       "    </tr>\n",
       "    <tr>\n",
       "      <th>3</th>\n",
       "      <td>2007</td>\n",
       "      <td>10439</td>\n",
       "      <td>4017</td>\n",
       "    </tr>\n",
       "    <tr>\n",
       "      <th>4</th>\n",
       "      <td>2008</td>\n",
       "      <td>9893</td>\n",
       "      <td>3767</td>\n",
       "    </tr>\n",
       "  </tbody>\n",
       "</table>\n",
       "</div>"
      ],
      "text/plain": [
       "   Year  Property  Injury\n",
       "0  2004      8218    3647\n",
       "1  2005     10665    4450\n",
       "2  2006     10838    4350\n",
       "3  2007     10439    4017\n",
       "4  2008      9893    3767"
      ]
     },
     "execution_count": 18,
     "metadata": {},
     "output_type": "execute_result"
    }
   ],
   "source": [
    "#reformat the dataframe\n",
    "df_annual.reset_index(drop=False,inplace=True)\n",
    "df_annual.columns = ['Year','Property','Injury']\n",
    "df_annual.head()"
   ]
  },
  {
   "cell_type": "code",
   "execution_count": 19,
   "metadata": {},
   "outputs": [
    {
     "data": {
      "text/html": [
       "<div>\n",
       "<style scoped>\n",
       "    .dataframe tbody tr th:only-of-type {\n",
       "        vertical-align: middle;\n",
       "    }\n",
       "\n",
       "    .dataframe tbody tr th {\n",
       "        vertical-align: top;\n",
       "    }\n",
       "\n",
       "    .dataframe thead th {\n",
       "        text-align: right;\n",
       "    }\n",
       "</style>\n",
       "<table border=\"1\" class=\"dataframe\">\n",
       "  <thead>\n",
       "    <tr style=\"text-align: right;\">\n",
       "      <th>SEVERITYCODE</th>\n",
       "      <th>1</th>\n",
       "      <th>2</th>\n",
       "    </tr>\n",
       "    <tr>\n",
       "      <th>DATETIME</th>\n",
       "      <th></th>\n",
       "      <th></th>\n",
       "    </tr>\n",
       "  </thead>\n",
       "  <tbody>\n",
       "    <tr>\n",
       "      <th>1</th>\n",
       "      <td>11704</td>\n",
       "      <td>4703</td>\n",
       "    </tr>\n",
       "    <tr>\n",
       "      <th>2</th>\n",
       "      <td>10293</td>\n",
       "      <td>4097</td>\n",
       "    </tr>\n",
       "    <tr>\n",
       "      <th>3</th>\n",
       "      <td>11415</td>\n",
       "      <td>4735</td>\n",
       "    </tr>\n",
       "    <tr>\n",
       "      <th>4</th>\n",
       "      <td>11216</td>\n",
       "      <td>4762</td>\n",
       "    </tr>\n",
       "    <tr>\n",
       "      <th>5</th>\n",
       "      <td>11567</td>\n",
       "      <td>5196</td>\n",
       "    </tr>\n",
       "    <tr>\n",
       "      <th>6</th>\n",
       "      <td>11638</td>\n",
       "      <td>4928</td>\n",
       "    </tr>\n",
       "    <tr>\n",
       "      <th>7</th>\n",
       "      <td>11227</td>\n",
       "      <td>5137</td>\n",
       "    </tr>\n",
       "    <tr>\n",
       "      <th>8</th>\n",
       "      <td>11214</td>\n",
       "      <td>5082</td>\n",
       "    </tr>\n",
       "    <tr>\n",
       "      <th>9</th>\n",
       "      <td>11053</td>\n",
       "      <td>4811</td>\n",
       "    </tr>\n",
       "    <tr>\n",
       "      <th>10</th>\n",
       "      <td>12273</td>\n",
       "      <td>5495</td>\n",
       "    </tr>\n",
       "    <tr>\n",
       "      <th>11</th>\n",
       "      <td>11683</td>\n",
       "      <td>4899</td>\n",
       "    </tr>\n",
       "    <tr>\n",
       "      <th>12</th>\n",
       "      <td>11202</td>\n",
       "      <td>4343</td>\n",
       "    </tr>\n",
       "  </tbody>\n",
       "</table>\n",
       "</div>"
      ],
      "text/plain": [
       "SEVERITYCODE      1     2\n",
       "DATETIME                 \n",
       "1             11704  4703\n",
       "2             10293  4097\n",
       "3             11415  4735\n",
       "4             11216  4762\n",
       "5             11567  5196\n",
       "6             11638  4928\n",
       "7             11227  5137\n",
       "8             11214  5082\n",
       "9             11053  4811\n",
       "10            12273  5495\n",
       "11            11683  4899\n",
       "12            11202  4343"
      ]
     },
     "execution_count": 19,
     "metadata": {},
     "output_type": "execute_result"
    }
   ],
   "source": [
    "#reformat the dataframe\n",
    "#df_month.reset_index(drop=False,inplace=True)\n",
    "#df_month.columns = ['month','Property','Injury']\n",
    "df_month.head(24)"
   ]
  },
  {
   "cell_type": "code",
   "execution_count": 20,
   "metadata": {},
   "outputs": [
    {
     "data": {
      "text/html": [
       "<div>\n",
       "<style scoped>\n",
       "    .dataframe tbody tr th:only-of-type {\n",
       "        vertical-align: middle;\n",
       "    }\n",
       "\n",
       "    .dataframe tbody tr th {\n",
       "        vertical-align: top;\n",
       "    }\n",
       "\n",
       "    .dataframe thead th {\n",
       "        text-align: right;\n",
       "    }\n",
       "</style>\n",
       "<table border=\"1\" class=\"dataframe\">\n",
       "  <thead>\n",
       "    <tr style=\"text-align: right;\">\n",
       "      <th></th>\n",
       "      <th>Year</th>\n",
       "      <th>Property</th>\n",
       "      <th>Injury</th>\n",
       "      <th>Total</th>\n",
       "      <th>Severe_rate</th>\n",
       "    </tr>\n",
       "  </thead>\n",
       "  <tbody>\n",
       "    <tr>\n",
       "      <th>11</th>\n",
       "      <td>2015</td>\n",
       "      <td>9243</td>\n",
       "      <td>3752</td>\n",
       "      <td>12995</td>\n",
       "      <td>0.288726</td>\n",
       "    </tr>\n",
       "    <tr>\n",
       "      <th>12</th>\n",
       "      <td>2016</td>\n",
       "      <td>7945</td>\n",
       "      <td>3714</td>\n",
       "      <td>11659</td>\n",
       "      <td>0.318552</td>\n",
       "    </tr>\n",
       "    <tr>\n",
       "      <th>13</th>\n",
       "      <td>2017</td>\n",
       "      <td>7454</td>\n",
       "      <td>3419</td>\n",
       "      <td>10873</td>\n",
       "      <td>0.314449</td>\n",
       "    </tr>\n",
       "    <tr>\n",
       "      <th>14</th>\n",
       "      <td>2018</td>\n",
       "      <td>7061</td>\n",
       "      <td>3358</td>\n",
       "      <td>10419</td>\n",
       "      <td>0.322296</td>\n",
       "    </tr>\n",
       "    <tr>\n",
       "      <th>15</th>\n",
       "      <td>2019</td>\n",
       "      <td>6350</td>\n",
       "      <td>3062</td>\n",
       "      <td>9412</td>\n",
       "      <td>0.325329</td>\n",
       "    </tr>\n",
       "  </tbody>\n",
       "</table>\n",
       "</div>"
      ],
      "text/plain": [
       "    Year  Property  Injury  Total  Severe_rate\n",
       "11  2015      9243    3752  12995     0.288726\n",
       "12  2016      7945    3714  11659     0.318552\n",
       "13  2017      7454    3419  10873     0.314449\n",
       "14  2018      7061    3358  10419     0.322296\n",
       "15  2019      6350    3062   9412     0.325329"
      ]
     },
     "execution_count": 20,
     "metadata": {},
     "output_type": "execute_result"
    }
   ],
   "source": [
    "#lets add a Total colum to sum the number of total incidents per year, and calculate the fraction that are severe\n",
    "df_annual['Total'] = df_annual['Property'] + df_annual['Injury']\n",
    "df_annual['Severe_rate'] = df_annual['Injury'] / df_annual['Total']\n",
    "#drop the 2020 row since the year is not complete... we want to look at the recent trend\n",
    "df_annual.drop(df_annual.tail(1).index,inplace=True)\n",
    "df_annual.tail()"
   ]
  },
  {
   "cell_type": "markdown",
   "metadata": {},
   "source": [
    "#### Correlation of the features are potted for visualisation"
   ]
  },
  {
   "cell_type": "code",
   "execution_count": 21,
   "metadata": {},
   "outputs": [
    {
     "data": {
      "image/png": "[encoded data removed]",
      "text/plain": [
       "<Figure size 1440x648 with 2 Axes>"
      ]
     },
     "metadata": {
      "needs_background": "light"
     },
     "output_type": "display_data"
    }
   ],
   "source": [
    "import matplotlib.pyplot as plt\n",
    "import seaborn as sns\n",
    "corrmat = dt.corr()\n",
    "f, ax = plt.subplots(figsize=(20, 9))\n",
    "sns.heatmap(corrmat, vmax=.8, annot=True);"
   ]
  },
  {
   "cell_type": "code",
   "execution_count": 22,
   "metadata": {},
   "outputs": [
    {
     "data": {
      "text/plain": [
       "PEDROWNOTGRNT     190006\n",
       "EXCEPTRSNDESC     189035\n",
       "SPEEDING          185340\n",
       "INATTENTIONIND    164868\n",
       "INTKEY            129603\n",
       "EXCEPTRSNCODE     109862\n",
       "SDOTCOLNUM         79737\n",
       "JUNCTIONTYPE        6329\n",
       "X                   5334\n",
       "Y                   5334\n",
       "LIGHTCOND           5170\n",
       "WEATHER             5081\n",
       "ROADCOND            5012\n",
       "ST_COLDESC          4904\n",
       "COLLISIONTYPE       4904\n",
       "UNDERINFL           4884\n",
       "LOCATION            2677\n",
       "ADDRTYPE            1926\n",
       "ST_COLCODE            18\n",
       "INCKEY                 0\n",
       "COLDETKEY              0\n",
       "REPORTNO               0\n",
       "STATUS                 0\n",
       "OBJECTID               0\n",
       "DATETIME               0\n",
       "VEHCOUNT               0\n",
       "SEVERITYCODE.1         0\n",
       "SEVERITYDESC           0\n",
       "PERSONCOUNT            0\n",
       "PEDCOUNT               0\n",
       "PEDCYLCOUNT            0\n",
       "HITPARKEDCAR           0\n",
       "INCDATE                0\n",
       "INCDTTM                0\n",
       "SDOT_COLCODE           0\n",
       "SDOT_COLDESC           0\n",
       "SEGLANEKEY             0\n",
       "CROSSWALKKEY           0\n",
       "SEVERITYCODE           0\n",
       "dtype: int64"
      ]
     },
     "execution_count": 22,
     "metadata": {},
     "output_type": "execute_result"
    }
   ],
   "source": [
    "# train_nas = dt.isnull().sum().sort_values(descending=0)\n",
    "train_nas = dt.isnull().sum().sort_values(ascending=False)\n",
    "train_nas"
   ]
  },
  {
   "cell_type": "code",
   "execution_count": 23,
   "metadata": {},
   "outputs": [
    {
     "data": {
      "text/plain": [
       "PEDROWNOTGRNT     190006\n",
       "EXCEPTRSNDESC     189035\n",
       "SPEEDING          185340\n",
       "INATTENTIONIND    164868\n",
       "INTKEY            129603\n",
       "EXCEPTRSNCODE     109862\n",
       "SDOTCOLNUM         79737\n",
       "JUNCTIONTYPE        6329\n",
       "X                   5334\n",
       "Y                   5334\n",
       "LIGHTCOND           5170\n",
       "WEATHER             5081\n",
       "ROADCOND            5012\n",
       "ST_COLDESC          4904\n",
       "COLLISIONTYPE       4904\n",
       "UNDERINFL           4884\n",
       "LOCATION            2677\n",
       "ADDRTYPE            1926\n",
       "ST_COLCODE            18\n",
       "dtype: int64"
      ]
     },
     "execution_count": 23,
     "metadata": {},
     "output_type": "execute_result"
    }
   ],
   "source": [
    "train_nas = train_nas[train_nas>0]\n",
    "train_nas.sort_values(ascending = False)"
   ]
  },
  {
   "cell_type": "code",
   "execution_count": 24,
   "metadata": {},
   "outputs": [
    {
     "data": {
      "text/plain": [
       "Series([], dtype: int64)"
      ]
     },
     "execution_count": 24,
     "metadata": {},
     "output_type": "execute_result"
    }
   ],
   "source": [
    "train_nas = train_nas[train_nas==0]\n",
    "train_nas.sort_values\n",
    "train_nas"
   ]
  },
  {
   "cell_type": "markdown",
   "metadata": {},
   "source": [
    "# Differentiate numerical features (minus the target) and categorical features"
   ]
  },
  {
   "cell_type": "code",
   "execution_count": 25,
   "metadata": {},
   "outputs": [
    {
     "data": {
      "text/plain": [
       "Index(['REPORTNO', 'STATUS', 'ADDRTYPE', 'LOCATION', 'EXCEPTRSNCODE',\n",
       "       'EXCEPTRSNDESC', 'SEVERITYDESC', 'COLLISIONTYPE', 'INCDATE', 'INCDTTM',\n",
       "       'JUNCTIONTYPE', 'SDOT_COLDESC', 'INATTENTIONIND', 'UNDERINFL',\n",
       "       'WEATHER', 'ROADCOND', 'LIGHTCOND', 'PEDROWNOTGRNT', 'SPEEDING',\n",
       "       'ST_COLCODE', 'ST_COLDESC', 'HITPARKEDCAR'],\n",
       "      dtype='object')"
      ]
     },
     "execution_count": 25,
     "metadata": {},
     "output_type": "execute_result"
    }
   ],
   "source": [
    "\n",
    "categorical_features = dt.select_dtypes(include=['object']).columns\n",
    "categorical_features"
   ]
  },
  {
   "cell_type": "code",
   "execution_count": 26,
   "metadata": {},
   "outputs": [
    {
     "data": {
      "text/plain": [
       "Index(['SEVERITYCODE', 'X', 'Y', 'OBJECTID', 'INCKEY', 'COLDETKEY', 'INTKEY',\n",
       "       'SEVERITYCODE.1', 'PERSONCOUNT', 'PEDCOUNT', 'PEDCYLCOUNT', 'VEHCOUNT',\n",
       "       'SDOT_COLCODE', 'SDOTCOLNUM', 'SEGLANEKEY', 'CROSSWALKKEY', 'DATETIME'],\n",
       "      dtype='object')"
      ]
     },
     "execution_count": 26,
     "metadata": {},
     "output_type": "execute_result"
    }
   ],
   "source": [
    "numerical_features = dt.select_dtypes(exclude = [\"object\"]).columns\n",
    "numerical_features"
   ]
  },
  {
   "cell_type": "code",
   "execution_count": 27,
   "metadata": {},
   "outputs": [
    {
     "name": "stdout",
     "output_type": "stream",
     "text": [
      "Numerical features : 16\n",
      "Categorical features : 22\n"
     ]
    }
   ],
   "source": [
    "numerical_features = numerical_features.drop(\"SEVERITYCODE\")\n",
    "print(\"Numerical features : \" + str(len(numerical_features)))\n",
    "print(\"Categorical features : \" + str(len(categorical_features)))"
   ]
  },
  {
   "cell_type": "code",
   "execution_count": 28,
   "metadata": {},
   "outputs": [
    {
     "data": {
      "text/html": [
       "<div>\n",
       "<style scoped>\n",
       "    .dataframe tbody tr th:only-of-type {\n",
       "        vertical-align: middle;\n",
       "    }\n",
       "\n",
       "    .dataframe tbody tr th {\n",
       "        vertical-align: top;\n",
       "    }\n",
       "\n",
       "    .dataframe thead th {\n",
       "        text-align: right;\n",
       "    }\n",
       "</style>\n",
       "<table border=\"1\" class=\"dataframe\">\n",
       "  <thead>\n",
       "    <tr style=\"text-align: right;\">\n",
       "      <th>SEVERITYCODE</th>\n",
       "      <th>1</th>\n",
       "      <th>2</th>\n",
       "    </tr>\n",
       "    <tr>\n",
       "      <th>DATETIME</th>\n",
       "      <th></th>\n",
       "      <th></th>\n",
       "    </tr>\n",
       "  </thead>\n",
       "  <tbody>\n",
       "    <tr>\n",
       "      <th>2004</th>\n",
       "      <td>8218</td>\n",
       "      <td>3647</td>\n",
       "    </tr>\n",
       "    <tr>\n",
       "      <th>2005</th>\n",
       "      <td>10665</td>\n",
       "      <td>4450</td>\n",
       "    </tr>\n",
       "    <tr>\n",
       "      <th>2006</th>\n",
       "      <td>10838</td>\n",
       "      <td>4350</td>\n",
       "    </tr>\n",
       "    <tr>\n",
       "      <th>2007</th>\n",
       "      <td>10439</td>\n",
       "      <td>4017</td>\n",
       "    </tr>\n",
       "    <tr>\n",
       "      <th>2008</th>\n",
       "      <td>9893</td>\n",
       "      <td>3767</td>\n",
       "    </tr>\n",
       "  </tbody>\n",
       "</table>\n",
       "</div>"
      ],
      "text/plain": [
       "SEVERITYCODE      1     2\n",
       "DATETIME                 \n",
       "2004           8218  3647\n",
       "2005          10665  4450\n",
       "2006          10838  4350\n",
       "2007          10439  4017\n",
       "2008           9893  3767"
      ]
     },
     "execution_count": 28,
     "metadata": {},
     "output_type": "execute_result"
    }
   ],
   "source": [
    "\n",
    "#group the incidents by year and severity classifiation for plotting\n",
    "df_annual = dt.groupby([dt.DATETIME.dt.year,'SEVERITYCODE']).size().unstack(fill_value=0)\n",
    "df_annual.head()"
   ]
  },
  {
   "cell_type": "code",
   "execution_count": 29,
   "metadata": {},
   "outputs": [
    {
     "data": {
      "text/html": [
       "<div>\n",
       "<style scoped>\n",
       "    .dataframe tbody tr th:only-of-type {\n",
       "        vertical-align: middle;\n",
       "    }\n",
       "\n",
       "    .dataframe tbody tr th {\n",
       "        vertical-align: top;\n",
       "    }\n",
       "\n",
       "    .dataframe thead th {\n",
       "        text-align: right;\n",
       "    }\n",
       "</style>\n",
       "<table border=\"1\" class=\"dataframe\">\n",
       "  <thead>\n",
       "    <tr style=\"text-align: right;\">\n",
       "      <th></th>\n",
       "      <th>Year</th>\n",
       "      <th>Property</th>\n",
       "      <th>Injury</th>\n",
       "    </tr>\n",
       "  </thead>\n",
       "  <tbody>\n",
       "    <tr>\n",
       "      <th>0</th>\n",
       "      <td>2004</td>\n",
       "      <td>8218</td>\n",
       "      <td>3647</td>\n",
       "    </tr>\n",
       "    <tr>\n",
       "      <th>1</th>\n",
       "      <td>2005</td>\n",
       "      <td>10665</td>\n",
       "      <td>4450</td>\n",
       "    </tr>\n",
       "    <tr>\n",
       "      <th>2</th>\n",
       "      <td>2006</td>\n",
       "      <td>10838</td>\n",
       "      <td>4350</td>\n",
       "    </tr>\n",
       "    <tr>\n",
       "      <th>3</th>\n",
       "      <td>2007</td>\n",
       "      <td>10439</td>\n",
       "      <td>4017</td>\n",
       "    </tr>\n",
       "    <tr>\n",
       "      <th>4</th>\n",
       "      <td>2008</td>\n",
       "      <td>9893</td>\n",
       "      <td>3767</td>\n",
       "    </tr>\n",
       "  </tbody>\n",
       "</table>\n",
       "</div>"
      ],
      "text/plain": [
       "   Year  Property  Injury\n",
       "0  2004      8218    3647\n",
       "1  2005     10665    4450\n",
       "2  2006     10838    4350\n",
       "3  2007     10439    4017\n",
       "4  2008      9893    3767"
      ]
     },
     "execution_count": 29,
     "metadata": {},
     "output_type": "execute_result"
    }
   ],
   "source": [
    "\n",
    "#reformat the dataframe\n",
    "df_annual.reset_index(drop=False,inplace=True)\n",
    "df_annual.columns = ['Year','Property','Injury']\n",
    "df_annual.head()"
   ]
  },
  {
   "cell_type": "code",
   "execution_count": 30,
   "metadata": {},
   "outputs": [
    {
     "data": {
      "text/html": [
       "<div>\n",
       "<style scoped>\n",
       "    .dataframe tbody tr th:only-of-type {\n",
       "        vertical-align: middle;\n",
       "    }\n",
       "\n",
       "    .dataframe tbody tr th {\n",
       "        vertical-align: top;\n",
       "    }\n",
       "\n",
       "    .dataframe thead th {\n",
       "        text-align: right;\n",
       "    }\n",
       "</style>\n",
       "<table border=\"1\" class=\"dataframe\">\n",
       "  <thead>\n",
       "    <tr style=\"text-align: right;\">\n",
       "      <th></th>\n",
       "      <th>Year</th>\n",
       "      <th>Property</th>\n",
       "      <th>Injury</th>\n",
       "      <th>Total</th>\n",
       "      <th>Severe_rate</th>\n",
       "    </tr>\n",
       "  </thead>\n",
       "  <tbody>\n",
       "    <tr>\n",
       "      <th>11</th>\n",
       "      <td>2015</td>\n",
       "      <td>9243</td>\n",
       "      <td>3752</td>\n",
       "      <td>12995</td>\n",
       "      <td>0.288726</td>\n",
       "    </tr>\n",
       "    <tr>\n",
       "      <th>12</th>\n",
       "      <td>2016</td>\n",
       "      <td>7945</td>\n",
       "      <td>3714</td>\n",
       "      <td>11659</td>\n",
       "      <td>0.318552</td>\n",
       "    </tr>\n",
       "    <tr>\n",
       "      <th>13</th>\n",
       "      <td>2017</td>\n",
       "      <td>7454</td>\n",
       "      <td>3419</td>\n",
       "      <td>10873</td>\n",
       "      <td>0.314449</td>\n",
       "    </tr>\n",
       "    <tr>\n",
       "      <th>14</th>\n",
       "      <td>2018</td>\n",
       "      <td>7061</td>\n",
       "      <td>3358</td>\n",
       "      <td>10419</td>\n",
       "      <td>0.322296</td>\n",
       "    </tr>\n",
       "    <tr>\n",
       "      <th>15</th>\n",
       "      <td>2019</td>\n",
       "      <td>6350</td>\n",
       "      <td>3062</td>\n",
       "      <td>9412</td>\n",
       "      <td>0.325329</td>\n",
       "    </tr>\n",
       "  </tbody>\n",
       "</table>\n",
       "</div>"
      ],
      "text/plain": [
       "    Year  Property  Injury  Total  Severe_rate\n",
       "11  2015      9243    3752  12995     0.288726\n",
       "12  2016      7945    3714  11659     0.318552\n",
       "13  2017      7454    3419  10873     0.314449\n",
       "14  2018      7061    3358  10419     0.322296\n",
       "15  2019      6350    3062   9412     0.325329"
      ]
     },
     "execution_count": 30,
     "metadata": {},
     "output_type": "execute_result"
    }
   ],
   "source": [
    "#lets add a Total colum to sum the number of total incidents per year, and calculate the fraction that are severe\n",
    "df_annual['Total'] = df_annual['Property'] + df_annual['Injury']\n",
    "df_annual['Severe_rate'] = df_annual['Injury'] / df_annual['Total']\n",
    "#drop the 2020 row since the year is not complete... we want to look at the recent trend\n",
    "df_annual.drop(df_annual.tail(1).index,inplace=True)\n",
    "df_annual.tail()"
   ]
  },
  {
   "cell_type": "code",
   "execution_count": 31,
   "metadata": {},
   "outputs": [
    {
     "data": {
      "image/png": "[encoded data removed]",
      "text/plain": [
       "<Figure size 1440x720 with 2 Axes>"
      ]
     },
     "metadata": {
      "needs_background": "light"
     },
     "output_type": "display_data"
    }
   ],
   "source": [
    "\n",
    "#lets plot the property and injury counts and rate of severe (injury) collisions versus year\n",
    "fig, (ax1, ax2) = plt.subplots(2,1, figsize=(20,10))\n",
    "\n",
    "ax1.plot('Year','Property',data=df_annual,marker='',color='blue')\n",
    "ax1.plot('Year','Injury',data=df_annual,marker='',color='red')\n",
    "ax1.plot('Year','Total',data=df_annual,marker='',color='k')\n",
    "ax1.set(title='Collision Incidents per Year',xlabel = 'Year',ylabel='Count of Incidents')\n",
    "ax1.legend()\n",
    "\n",
    "ax2.plot('Year','Severe_rate',data=df_annual,marker='o',color='blue')\n",
    "ax2.set(title='Severe Collisions as fraction of total',xlabel='Year',ylabel='Severe/Total Collisions')\n",
    "\n",
    "plt.show()"
   ]
  },
  {
   "cell_type": "markdown",
   "metadata": {},
   "source": [
    "### As we can see from the above chart, while the number of total incidents has decreased every year since 2015, the number of incidents where injuries occur has stayed mostly flat, accounting for a higher percentage of the total volume.    \n",
    "\n",
    "Building a model to predict the severity of collisions could benefit the Seattle DOT in a couple ways:\n",
    "\n",
    "* identifying the factors that most contribute to severe collisions, allowing more targetted improvements and changes\n",
    "* providing a means to quantify (evaluate) and select improvements options with the most benefit (reduction in severe incidents)\n",
    "* allow coordination with emergency response services on resource optimization and development of decision-support tools for dispatching (where response is most critical, etc)."
   ]
  },
  {
   "cell_type": "code",
   "execution_count": null,
   "metadata": {},
   "outputs": [],
   "source": []
  },
  {
   "cell_type": "markdown",
   "metadata": {},
   "source": [
    "#  lets plot the fatalities (property and injury counts) and rate of severe (injury) collisions versus year"
   ]
  },
  {
   "cell_type": "code",
   "execution_count": 33,
   "metadata": {},
   "outputs": [
    {
     "data": {
      "text/html": [
       "<div>\n",
       "<style scoped>\n",
       "    .dataframe tbody tr th:only-of-type {\n",
       "        vertical-align: middle;\n",
       "    }\n",
       "\n",
       "    .dataframe tbody tr th {\n",
       "        vertical-align: top;\n",
       "    }\n",
       "\n",
       "    .dataframe thead th {\n",
       "        text-align: right;\n",
       "    }\n",
       "</style>\n",
       "<table border=\"1\" class=\"dataframe\">\n",
       "  <thead>\n",
       "    <tr style=\"text-align: right;\">\n",
       "      <th>SEVERITYCODE</th>\n",
       "      <th>1</th>\n",
       "      <th>2</th>\n",
       "    </tr>\n",
       "    <tr>\n",
       "      <th>DATETIME</th>\n",
       "      <th></th>\n",
       "      <th></th>\n",
       "    </tr>\n",
       "  </thead>\n",
       "  <tbody>\n",
       "    <tr>\n",
       "      <th>2004</th>\n",
       "      <td>8218</td>\n",
       "      <td>3647</td>\n",
       "    </tr>\n",
       "    <tr>\n",
       "      <th>2005</th>\n",
       "      <td>10665</td>\n",
       "      <td>4450</td>\n",
       "    </tr>\n",
       "    <tr>\n",
       "      <th>2006</th>\n",
       "      <td>10838</td>\n",
       "      <td>4350</td>\n",
       "    </tr>\n",
       "    <tr>\n",
       "      <th>2007</th>\n",
       "      <td>10439</td>\n",
       "      <td>4017</td>\n",
       "    </tr>\n",
       "    <tr>\n",
       "      <th>2008</th>\n",
       "      <td>9893</td>\n",
       "      <td>3767</td>\n",
       "    </tr>\n",
       "  </tbody>\n",
       "</table>\n",
       "</div>"
      ],
      "text/plain": [
       "SEVERITYCODE      1     2\n",
       "DATETIME                 \n",
       "2004           8218  3647\n",
       "2005          10665  4450\n",
       "2006          10838  4350\n",
       "2007          10439  4017\n",
       "2008           9893  3767"
      ]
     },
     "execution_count": 33,
     "metadata": {},
     "output_type": "execute_result"
    }
   ],
   "source": [
    "df_annual1 = dt.groupby([dt.DATETIME.dt.year,'SEVERITYCODE']).size().unstack(fill_value=0)\n",
    "df_annual1.head()"
   ]
  },
  {
   "cell_type": "code",
   "execution_count": 34,
   "metadata": {},
   "outputs": [],
   "source": [
    "# df_annual1['Total'] = dt['PEDCOUNT'] + dt['PEDCYLCOUNT'] + dt['CROSSWALKKEY']\n",
    "# df_annual1['Severe_rate'] = df_annual['Injury'] / df_annual['Total']\n",
    "# df_annual1.head(25)"
   ]
  },
  {
   "cell_type": "code",
   "execution_count": null,
   "metadata": {},
   "outputs": [],
   "source": []
  },
  {
   "cell_type": "code",
   "execution_count": 35,
   "metadata": {},
   "outputs": [
    {
     "data": {
      "image/png": "[encoded data removed]",
      "text/plain": [
       "<Figure size 1080x360 with 1 Axes>"
      ]
     },
     "metadata": {
      "needs_background": "light"
     },
     "output_type": "display_data"
    },
    {
     "data": {
      "text/plain": [
       "<Figure size 432x288 with 0 Axes>"
      ]
     },
     "metadata": {},
     "output_type": "display_data"
    }
   ],
   "source": [
    "#Descriptive Stats\n",
    "descriptive_stats= dt.describe(include=\"all\")\n",
    "\n",
    "\n",
    "    #Plotting counts of selected variables\n",
    "descriptive_stats_plot=descriptive_stats[[\"INATTENTIONIND\",\"UNDERINFL\",\"WEATHER\",\"ROADCOND\",\"LIGHTCOND\",\"SPEEDING\",\"SEVERITYCODE\",\"PEDCOUNT\",\"PEDCYLCOUNT\"]]\n",
    "descriptive_stats_plot.drop(['unique','top','freq','mean','std','min','max','25%','50%','75%'],axis=0,inplace=True)\n",
    "descriptive_stats_plot=descriptive_stats_plot.transpose()\n",
    "\n",
    "\n",
    "color_yo=['sandybrown','sienna','sienna','sienna','sienna','sandybrown','sienna','sienna','magenta']\n",
    "descriptive_stats_plot.plot(kind='barh',alpha=0.70,color=[color_yo],figsize=(15,5))\n",
    "plt.title('Number of entries in data for each variable - Seattle, Washington', fontsize=20, fontweight='bold')\n",
    "plt.xlabel(\"Variables\",fontsize=15,labelpad=20)\n",
    "plt.ylabel(\"Frequency\",fontsize=15,labelpad=20)\n",
    "plt.xticks(rotation=360)\n",
    "plt.show()\n",
    "plt.savefig(\"barh_plot_matplotlib_descending_order_Python.png\")"
   ]
  },
  {
   "cell_type": "markdown",
   "metadata": {},
   "source": [
    "### Features speed and Inattentionind as low values , rest features have entires count well."
   ]
  },
  {
   "cell_type": "code",
   "execution_count": null,
   "metadata": {},
   "outputs": [],
   "source": []
  },
  {
   "cell_type": "code",
   "execution_count": 36,
   "metadata": {},
   "outputs": [
    {
     "name": "stdout",
     "output_type": "stream",
     "text": [
      "(194673, 13)\n"
     ]
    },
    {
     "data": {
      "text/html": [
       "<div>\n",
       "<style scoped>\n",
       "    .dataframe tbody tr th:only-of-type {\n",
       "        vertical-align: middle;\n",
       "    }\n",
       "\n",
       "    .dataframe tbody tr th {\n",
       "        vertical-align: top;\n",
       "    }\n",
       "\n",
       "    .dataframe thead th {\n",
       "        text-align: right;\n",
       "    }\n",
       "</style>\n",
       "<table border=\"1\" class=\"dataframe\">\n",
       "  <thead>\n",
       "    <tr style=\"text-align: right;\">\n",
       "      <th></th>\n",
       "      <th>DATETIME</th>\n",
       "      <th>COLLISIONTYPE</th>\n",
       "      <th>PERSONCOUNT</th>\n",
       "      <th>PEDCOUNT</th>\n",
       "      <th>PEDCYLCOUNT</th>\n",
       "      <th>VEHCOUNT</th>\n",
       "      <th>INATTENTIONIND</th>\n",
       "      <th>UNDERINFL</th>\n",
       "      <th>WEATHER</th>\n",
       "      <th>ROADCOND</th>\n",
       "      <th>LIGHTCOND</th>\n",
       "      <th>SPEEDING</th>\n",
       "      <th>SEVERITYCODE</th>\n",
       "    </tr>\n",
       "  </thead>\n",
       "  <tbody>\n",
       "    <tr>\n",
       "      <th>0</th>\n",
       "      <td>2013-03-27 14:54:00</td>\n",
       "      <td>Angles</td>\n",
       "      <td>2</td>\n",
       "      <td>0</td>\n",
       "      <td>0</td>\n",
       "      <td>2</td>\n",
       "      <td>NaN</td>\n",
       "      <td>N</td>\n",
       "      <td>Overcast</td>\n",
       "      <td>Wet</td>\n",
       "      <td>Daylight</td>\n",
       "      <td>NaN</td>\n",
       "      <td>2</td>\n",
       "    </tr>\n",
       "    <tr>\n",
       "      <th>1</th>\n",
       "      <td>2006-12-20 18:55:00</td>\n",
       "      <td>Sideswipe</td>\n",
       "      <td>2</td>\n",
       "      <td>0</td>\n",
       "      <td>0</td>\n",
       "      <td>2</td>\n",
       "      <td>NaN</td>\n",
       "      <td>0</td>\n",
       "      <td>Raining</td>\n",
       "      <td>Wet</td>\n",
       "      <td>Dark - Street Lights On</td>\n",
       "      <td>NaN</td>\n",
       "      <td>1</td>\n",
       "    </tr>\n",
       "    <tr>\n",
       "      <th>2</th>\n",
       "      <td>2004-11-18 10:20:00</td>\n",
       "      <td>Parked Car</td>\n",
       "      <td>4</td>\n",
       "      <td>0</td>\n",
       "      <td>0</td>\n",
       "      <td>3</td>\n",
       "      <td>NaN</td>\n",
       "      <td>0</td>\n",
       "      <td>Overcast</td>\n",
       "      <td>Dry</td>\n",
       "      <td>Daylight</td>\n",
       "      <td>NaN</td>\n",
       "      <td>1</td>\n",
       "    </tr>\n",
       "    <tr>\n",
       "      <th>3</th>\n",
       "      <td>2013-03-29 09:26:00</td>\n",
       "      <td>Other</td>\n",
       "      <td>3</td>\n",
       "      <td>0</td>\n",
       "      <td>0</td>\n",
       "      <td>3</td>\n",
       "      <td>NaN</td>\n",
       "      <td>N</td>\n",
       "      <td>Clear</td>\n",
       "      <td>Dry</td>\n",
       "      <td>Daylight</td>\n",
       "      <td>NaN</td>\n",
       "      <td>1</td>\n",
       "    </tr>\n",
       "    <tr>\n",
       "      <th>4</th>\n",
       "      <td>2004-01-28 08:04:00</td>\n",
       "      <td>Angles</td>\n",
       "      <td>2</td>\n",
       "      <td>0</td>\n",
       "      <td>0</td>\n",
       "      <td>2</td>\n",
       "      <td>NaN</td>\n",
       "      <td>0</td>\n",
       "      <td>Raining</td>\n",
       "      <td>Wet</td>\n",
       "      <td>Daylight</td>\n",
       "      <td>NaN</td>\n",
       "      <td>2</td>\n",
       "    </tr>\n",
       "  </tbody>\n",
       "</table>\n",
       "</div>"
      ],
      "text/plain": [
       "             DATETIME COLLISIONTYPE  PERSONCOUNT  PEDCOUNT  PEDCYLCOUNT  \\\n",
       "0 2013-03-27 14:54:00        Angles            2         0            0   \n",
       "1 2006-12-20 18:55:00     Sideswipe            2         0            0   \n",
       "2 2004-11-18 10:20:00    Parked Car            4         0            0   \n",
       "3 2013-03-29 09:26:00         Other            3         0            0   \n",
       "4 2004-01-28 08:04:00        Angles            2         0            0   \n",
       "\n",
       "   VEHCOUNT INATTENTIONIND UNDERINFL   WEATHER ROADCOND  \\\n",
       "0         2            NaN         N  Overcast      Wet   \n",
       "1         2            NaN         0   Raining      Wet   \n",
       "2         3            NaN         0  Overcast      Dry   \n",
       "3         3            NaN         N     Clear      Dry   \n",
       "4         2            NaN         0   Raining      Wet   \n",
       "\n",
       "                 LIGHTCOND SPEEDING  SEVERITYCODE  \n",
       "0                 Daylight      NaN             2  \n",
       "1  Dark - Street Lights On      NaN             1  \n",
       "2                 Daylight      NaN             1  \n",
       "3                 Daylight      NaN             1  \n",
       "4                 Daylight      NaN             2  "
      ]
     },
     "execution_count": 36,
     "metadata": {},
     "output_type": "execute_result"
    }
   ],
   "source": [
    "#lets keep exploring the data.. for simplicity, lets create a new df with the features that we want only\n",
    "\n",
    "df_exp = dt[['DATETIME','COLLISIONTYPE','PERSONCOUNT','PEDCOUNT','PEDCYLCOUNT','VEHCOUNT','INATTENTIONIND','UNDERINFL',\n",
    "                'WEATHER','ROADCOND','LIGHTCOND','SPEEDING','SEVERITYCODE']]\n",
    "print(df_exp.shape)\n",
    "df_exp.head()"
   ]
  },
  {
   "cell_type": "code",
   "execution_count": 37,
   "metadata": {},
   "outputs": [
    {
     "data": {
      "text/plain": [
       "Text(0, 0.5, 'Collision Type')"
      ]
     },
     "execution_count": 37,
     "metadata": {},
     "output_type": "execute_result"
    },
    {
     "data": {
      "image/png": "[encoded data removed]",
      "text/plain": [
       "<Figure size 576x360 with 1 Axes>"
      ]
     },
     "metadata": {
      "needs_background": "light"
     },
     "output_type": "display_data"
    }
   ],
   "source": [
    "\n",
    "#now lets explore severity versus the different types of collisions that occur\n",
    "df_type = df_exp.groupby(['COLLISIONTYPE','SEVERITYCODE']).size().unstack(fill_value=0)\n",
    "df_type.reset_index(drop=False,inplace=True)\n",
    "# df_type.sort_index(ascending=False)\n",
    "# df_type.sort_values('COLLISIONTYPE')\n",
    "df_type.columns = ['Type','Property','Injury']\n",
    "df_type['Total'] = df_type['Property'] + df_type['Injury']\n",
    "df_type['inj_rate'] = df_type['Injury'] / df_type['Total']\n",
    "\n",
    "plt.figure(figsize=(8,5))\n",
    "plt.barh(df_type['Type'],df_type['inj_rate'])\n",
    "plt.title('Severe collisions as fraction of total, by recorded type')\n",
    "plt.xlabel('Severe/Total Collisions')\n",
    "plt.xticks(rotation=90)\n",
    "plt.ylabel('Collision Type')\n",
    "\n",
    "\n"
   ]
  },
  {
   "cell_type": "markdown",
   "metadata": {},
   "source": [
    "## Pedestrian and Cycles have the high injury rate "
   ]
  },
  {
   "cell_type": "code",
   "execution_count": 38,
   "metadata": {},
   "outputs": [
    {
     "data": {
      "text/plain": [
       "Text(0, 0.5, 'WEATHER')"
      ]
     },
     "execution_count": 38,
     "metadata": {},
     "output_type": "execute_result"
    },
    {
     "data": {
      "image/png": "[encoded data removed]",
      "text/plain": [
       "<Figure size 720x360 with 1 Axes>"
      ]
     },
     "metadata": {
      "needs_background": "light"
     },
     "output_type": "display_data"
    }
   ],
   "source": [
    "\n",
    "#now lets explore severity versus the different types of Weather that occur\n",
    "df_type = df_exp.groupby(['WEATHER','SEVERITYCODE']).size().unstack(fill_value=0)\n",
    "df_type.reset_index(drop=False,inplace=True)\n",
    "df_type.columns = ['Type','Property','Injury']\n",
    "df_type['Total'] = df_type['Property'] + df_type['Injury']\n",
    "df_type['inj_rate'] = df_type['Injury'] / df_type['Total']\n",
    "\n",
    "plt.figure(figsize=(10,5))\n",
    "plt.barh(df_type['Type'],df_type['inj_rate'])\n",
    "plt.title('Severe collisions as fraction of total, by recorded type')\n",
    "plt.xlabel('Severe/Total Collisions')\n",
    "plt.xticks(rotation=90)\n",
    "plt.ylabel('WEATHER')"
   ]
  },
  {
   "cell_type": "markdown",
   "metadata": {},
   "source": [
    "## Partly cloudy has the high injury rate"
   ]
  },
  {
   "cell_type": "code",
   "execution_count": 39,
   "metadata": {},
   "outputs": [
    {
     "data": {
      "text/plain": [
       "Text(0, 0.5, 'ROADCOND')"
      ]
     },
     "execution_count": 39,
     "metadata": {},
     "output_type": "execute_result"
    },
    {
     "data": {
      "image/png": "[encoded data removed]",
      "text/plain": [
       "<Figure size 576x360 with 1 Axes>"
      ]
     },
     "metadata": {
      "needs_background": "light"
     },
     "output_type": "display_data"
    }
   ],
   "source": [
    "\n",
    "#now lets explore severity versus the different types of collisions that occur\n",
    "df_type = df_exp.groupby(['ROADCOND','SEVERITYCODE']).size().unstack(fill_value=0)\n",
    "df_type.reset_index(drop=False,inplace=True)\n",
    "df_type.columns = ['Type','Property','Injury']\n",
    "df_type['Total'] = df_type['Property'] + df_type['Injury']\n",
    "df_type['inj_rate'] = df_type['Injury'] / df_type['Total']\n",
    "\n",
    "plt.figure(figsize=(8,5))\n",
    "plt.barh(df_type['Type'],df_type['inj_rate'])\n",
    "plt.title('Severe collisions as fraction of total, by recorded type')\n",
    "plt.xlabel('Severe/Total Collisions')\n",
    "plt.xticks(rotation=90)\n",
    "plt.ylabel('ROADCOND')"
   ]
  },
  {
   "cell_type": "markdown",
   "metadata": {},
   "source": [
    "## oil and Wet Road has the high injury rate"
   ]
  },
  {
   "cell_type": "code",
   "execution_count": 40,
   "metadata": {},
   "outputs": [
    {
     "data": {
      "text/plain": [
       "Text(0, 0.5, 'LIGHTCOND')"
      ]
     },
     "execution_count": 40,
     "metadata": {},
     "output_type": "execute_result"
    },
    {
     "data": {
      "image/png": "[encoded data removed]",
      "text/plain": [
       "<Figure size 576x360 with 1 Axes>"
      ]
     },
     "metadata": {
      "needs_background": "light"
     },
     "output_type": "display_data"
    }
   ],
   "source": [
    "#now lets explore severity versus the different types of collisions that occur\n",
    "df_type = df_exp.groupby(['LIGHTCOND','SEVERITYCODE']).size().unstack(fill_value=0)\n",
    "df_type.reset_index(drop=False,inplace=True)\n",
    "df_type.columns = ['Type','Property','Injury']\n",
    "df_type['Total'] = df_type['Property'] + df_type['Injury']\n",
    "df_type['inj_rate'] = df_type['Injury'] / df_type['Total']\n",
    "\n",
    "plt.figure(figsize=(8,5))\n",
    "plt.barh(df_type['Type'],df_type['inj_rate'])\n",
    "plt.title('Severe collisions as fraction of total, by recorded type')\n",
    "plt.xlabel('Severe/Total Collisions')\n",
    "plt.xticks(rotation=90)\n",
    "plt.ylabel('LIGHTCOND')"
   ]
  },
  {
   "cell_type": "markdown",
   "metadata": {},
   "source": [
    "## Dark-unknown lighting has the high injury rate"
   ]
  },
  {
   "cell_type": "code",
   "execution_count": 41,
   "metadata": {},
   "outputs": [
    {
     "data": {
      "image/png": "[encoded data removed]",
      "text/plain": [
       "<Figure size 720x720 with 4 Axes>"
      ]
     },
     "metadata": {
      "needs_background": "light"
     },
     "output_type": "display_data"
    }
   ],
   "source": [
    "\n",
    "#visualization of the distribution of injury & property type collisions for different characteristics\n",
    "#including, influence, speeding, weather and road condition\n",
    "\n",
    "import matplotlib\n",
    "matplotlib.colors\n",
    "fig, ax = plt.subplots(2,2, figsize=(10,10))\n",
    "sns.countplot(x='UNDERINFL',hue='SEVERITYCODE',data=df_exp, ax=ax[0,0],color=\"Grey\")\n",
    "sns.countplot(x='SPEEDING',hue='SEVERITYCODE',data=df_exp,ax=ax[0,1],color=\"Red\")\n",
    "sns.countplot(x='WEATHER',hue='SEVERITYCODE',data=df_exp,ax=ax[1,0],color=\"Blue\")\n",
    "sns.countplot(x='ROADCOND',hue='SEVERITYCODE',data=df_exp,ax=ax[1,1],color=\"Grey\")\n",
    "\n",
    "for ax in fig.axes:\n",
    "    plt.sca(ax)\n",
    "    plt.xticks(rotation=90)"
   ]
  },
  {
   "cell_type": "markdown",
   "metadata": {},
   "source": [
    "## 3.0 Data Cleansing and Preparation\n",
    "Based on the feature selection table above, the following data cleansing and prep will be completed:\n",
    "\n",
    "drop PEDCOUNT / PEDCYLCOUNT / WEATHER / ROADCOND  / LIGHTCOND    \n",
    "drop rows where COLLISIONTYPE, INATTENTIONIND, UNDERINFL or SPEEDING are blank   \n",
    "drop rows where PERSONCOUNT is 0   \n",
    "drop rows where the timestamp is 00:00:00    \n",
    "\n",
    "create column to identify if time is during either rushhour (5-8 or 15-18), then drop DATETIME   \n",
    "create column to identify if PERSONCOUNT is >=3, then drop PERSONCOUNT   \n",
    "create column to identify if VEHCOUNT is 2 or not, then drop VEHCOUNT   \n",
    "for INATTENTIONIND, convert N to 0 and Y to 1   \n",
    "for UNDERINFL, convert N to 0 and Y to 1   \n",
    "for SPEEDING, convert N to 0 and Y to 1   \n",
    "transform COLLISION type to one-hot encoding using get_dummies   "
   ]
  },
  {
   "cell_type": "code",
   "execution_count": 42,
   "metadata": {},
   "outputs": [
    {
     "data": {
      "text/html": [
       "<div>\n",
       "<style scoped>\n",
       "    .dataframe tbody tr th:only-of-type {\n",
       "        vertical-align: middle;\n",
       "    }\n",
       "\n",
       "    .dataframe tbody tr th {\n",
       "        vertical-align: top;\n",
       "    }\n",
       "\n",
       "    .dataframe thead th {\n",
       "        text-align: right;\n",
       "    }\n",
       "</style>\n",
       "<table border=\"1\" class=\"dataframe\">\n",
       "  <thead>\n",
       "    <tr style=\"text-align: right;\">\n",
       "      <th></th>\n",
       "      <th>DATETIME</th>\n",
       "      <th>COLLISIONTYPE</th>\n",
       "      <th>PERSONCOUNT</th>\n",
       "      <th>PEDCOUNT</th>\n",
       "      <th>PEDCYLCOUNT</th>\n",
       "      <th>VEHCOUNT</th>\n",
       "      <th>INATTENTIONIND</th>\n",
       "      <th>UNDERINFL</th>\n",
       "      <th>WEATHER</th>\n",
       "      <th>ROADCOND</th>\n",
       "      <th>LIGHTCOND</th>\n",
       "      <th>SPEEDING</th>\n",
       "      <th>SEVERITYCODE</th>\n",
       "    </tr>\n",
       "  </thead>\n",
       "  <tbody>\n",
       "    <tr>\n",
       "      <th>0</th>\n",
       "      <td>2013-03-27 14:54:00</td>\n",
       "      <td>Angles</td>\n",
       "      <td>2</td>\n",
       "      <td>0</td>\n",
       "      <td>0</td>\n",
       "      <td>2</td>\n",
       "      <td>NaN</td>\n",
       "      <td>N</td>\n",
       "      <td>Overcast</td>\n",
       "      <td>Wet</td>\n",
       "      <td>Daylight</td>\n",
       "      <td>NaN</td>\n",
       "      <td>2</td>\n",
       "    </tr>\n",
       "    <tr>\n",
       "      <th>1</th>\n",
       "      <td>2006-12-20 18:55:00</td>\n",
       "      <td>Sideswipe</td>\n",
       "      <td>2</td>\n",
       "      <td>0</td>\n",
       "      <td>0</td>\n",
       "      <td>2</td>\n",
       "      <td>NaN</td>\n",
       "      <td>0</td>\n",
       "      <td>Raining</td>\n",
       "      <td>Wet</td>\n",
       "      <td>Dark - Street Lights On</td>\n",
       "      <td>NaN</td>\n",
       "      <td>1</td>\n",
       "    </tr>\n",
       "    <tr>\n",
       "      <th>2</th>\n",
       "      <td>2004-11-18 10:20:00</td>\n",
       "      <td>Parked Car</td>\n",
       "      <td>4</td>\n",
       "      <td>0</td>\n",
       "      <td>0</td>\n",
       "      <td>3</td>\n",
       "      <td>NaN</td>\n",
       "      <td>0</td>\n",
       "      <td>Overcast</td>\n",
       "      <td>Dry</td>\n",
       "      <td>Daylight</td>\n",
       "      <td>NaN</td>\n",
       "      <td>1</td>\n",
       "    </tr>\n",
       "    <tr>\n",
       "      <th>3</th>\n",
       "      <td>2013-03-29 09:26:00</td>\n",
       "      <td>Other</td>\n",
       "      <td>3</td>\n",
       "      <td>0</td>\n",
       "      <td>0</td>\n",
       "      <td>3</td>\n",
       "      <td>NaN</td>\n",
       "      <td>N</td>\n",
       "      <td>Clear</td>\n",
       "      <td>Dry</td>\n",
       "      <td>Daylight</td>\n",
       "      <td>NaN</td>\n",
       "      <td>1</td>\n",
       "    </tr>\n",
       "    <tr>\n",
       "      <th>4</th>\n",
       "      <td>2004-01-28 08:04:00</td>\n",
       "      <td>Angles</td>\n",
       "      <td>2</td>\n",
       "      <td>0</td>\n",
       "      <td>0</td>\n",
       "      <td>2</td>\n",
       "      <td>NaN</td>\n",
       "      <td>0</td>\n",
       "      <td>Raining</td>\n",
       "      <td>Wet</td>\n",
       "      <td>Daylight</td>\n",
       "      <td>NaN</td>\n",
       "      <td>2</td>\n",
       "    </tr>\n",
       "  </tbody>\n",
       "</table>\n",
       "</div>"
      ],
      "text/plain": [
       "             DATETIME COLLISIONTYPE  PERSONCOUNT  PEDCOUNT  PEDCYLCOUNT  \\\n",
       "0 2013-03-27 14:54:00        Angles            2         0            0   \n",
       "1 2006-12-20 18:55:00     Sideswipe            2         0            0   \n",
       "2 2004-11-18 10:20:00    Parked Car            4         0            0   \n",
       "3 2013-03-29 09:26:00         Other            3         0            0   \n",
       "4 2004-01-28 08:04:00        Angles            2         0            0   \n",
       "\n",
       "   VEHCOUNT INATTENTIONIND UNDERINFL   WEATHER ROADCOND  \\\n",
       "0         2            NaN         N  Overcast      Wet   \n",
       "1         2            NaN         0   Raining      Wet   \n",
       "2         3            NaN         0  Overcast      Dry   \n",
       "3         3            NaN         N     Clear      Dry   \n",
       "4         2            NaN         0   Raining      Wet   \n",
       "\n",
       "                 LIGHTCOND SPEEDING  SEVERITYCODE  \n",
       "0                 Daylight      NaN             2  \n",
       "1  Dark - Street Lights On      NaN             1  \n",
       "2                 Daylight      NaN             1  \n",
       "3                 Daylight      NaN             1  \n",
       "4                 Daylight      NaN             2  "
      ]
     },
     "execution_count": 42,
     "metadata": {},
     "output_type": "execute_result"
    }
   ],
   "source": [
    "df_exp.head()"
   ]
  },
  {
   "cell_type": "code",
   "execution_count": 43,
   "metadata": {},
   "outputs": [
    {
     "data": {
      "text/plain": [
       "2     114231\n",
       "3      35553\n",
       "4      14660\n",
       "1      13154\n",
       "5       6584\n",
       "0       5544\n",
       "6       2702\n",
       "7       1131\n",
       "8        533\n",
       "9        216\n",
       "10       128\n",
       "11        56\n",
       "12        33\n",
       "13        21\n",
       "14        19\n",
       "15        11\n",
       "17        11\n",
       "16         8\n",
       "44         6\n",
       "18         6\n",
       "20         6\n",
       "25         6\n",
       "19         5\n",
       "26         4\n",
       "22         4\n",
       "27         3\n",
       "28         3\n",
       "29         3\n",
       "47         3\n",
       "32         3\n",
       "34         3\n",
       "37         3\n",
       "23         2\n",
       "21         2\n",
       "24         2\n",
       "30         2\n",
       "36         2\n",
       "57         1\n",
       "31         1\n",
       "35         1\n",
       "39         1\n",
       "41         1\n",
       "43         1\n",
       "48         1\n",
       "53         1\n",
       "54         1\n",
       "81         1\n",
       "Name: PERSONCOUNT, dtype: int64"
      ]
     },
     "execution_count": 43,
     "metadata": {},
     "output_type": "execute_result"
    }
   ],
   "source": [
    "#lets look at collisions vs PERSONCOUNT (number of people involved)... first lets see the range of different values\n",
    "df_exp['PERSONCOUNT'].value_counts()"
   ]
  },
  {
   "cell_type": "code",
   "execution_count": 44,
   "metadata": {},
   "outputs": [
    {
     "data": {
      "text/plain": [
       "[(-1, 11)]"
      ]
     },
     "execution_count": 44,
     "metadata": {},
     "output_type": "execute_result"
    },
    {
     "data": {
      "image/png": "[encoded data removed]",
      "text/plain": [
       "<Figure size 432x288 with 1 Axes>"
      ]
     },
     "metadata": {
      "needs_background": "light"
     },
     "output_type": "display_data"
    }
   ],
   "source": [
    "\n",
    "#lets graph the count of property vs injury collisions for the different personcounts\n",
    "#lets cut the graph off at 11 which is the last count with >50 samples\n",
    "ax = sns.countplot(x='PERSONCOUNT',hue='SEVERITYCODE',data=df_exp,color='red')\n",
    "ax.set(xlim=(-1,11))"
   ]
  },
  {
   "cell_type": "markdown",
   "metadata": {},
   "source": [
    "#### >>First, clean the data to remove samples where the count of people is 0. Then, transform this feature to identify if there are more or less than 3 people involved (1 or 0, respectively) and use it in the model.\n",
    "\n",
    "#### it is unclear what to make of the samples with really high counts of people. Were these incidents incorrectly recorded or did they involved massive pileups, or busses of people? Similarly, there are over 5500 samples where the person count is 0. The majority of cases fall in the range of 1-5 people involved. It is probably best to focus on this area for modeling."
   ]
  },
  {
   "cell_type": "code",
   "execution_count": 45,
   "metadata": {},
   "outputs": [
    {
     "data": {
      "text/plain": [
       "0    187734\n",
       "1      6685\n",
       "2       226\n",
       "3        22\n",
       "4         4\n",
       "6         1\n",
       "5         1\n",
       "Name: PEDCOUNT, dtype: int64"
      ]
     },
     "execution_count": 45,
     "metadata": {},
     "output_type": "execute_result"
    }
   ],
   "source": [
    "#let apply the same visualization to PEDCOUNT\n",
    "df_exp['PEDCOUNT'].value_counts()"
   ]
  },
  {
   "cell_type": "code",
   "execution_count": 46,
   "metadata": {},
   "outputs": [
    {
     "data": {
      "text/plain": [
       "[(-1, 4)]"
      ]
     },
     "execution_count": 46,
     "metadata": {},
     "output_type": "execute_result"
    },
    {
     "data": {
      "image/png": "[encoded data removed]",
      "text/plain": [
       "<Figure size 432x288 with 1 Axes>"
      ]
     },
     "metadata": {
      "needs_background": "light"
     },
     "output_type": "display_data"
    }
   ],
   "source": [
    "\n",
    "#graph a countplot to see the distribution\n",
    "ax = sns.countplot(x='PEDCOUNT',hue='SEVERITYCODE',data=df_exp,color = 'Grey')\n",
    "ax.set(xlim=(-1,4))"
   ]
  },
  {
   "cell_type": "markdown",
   "metadata": {},
   "source": [
    "### when the pedcount is >1 (at least one pedestrian is involved) injuries are more likely to occur. However, this is already captured by the 'Pedestrian' collision type, which is already in the feature set."
   ]
  },
  {
   "cell_type": "code",
   "execution_count": 47,
   "metadata": {},
   "outputs": [
    {
     "data": {
      "text/plain": [
       "[(-1, 3)]"
      ]
     },
     "execution_count": 47,
     "metadata": {},
     "output_type": "execute_result"
    },
    {
     "data": {
      "image/png": "[encoded data removed]",
      "text/plain": [
       "<Figure size 432x288 with 1 Axes>"
      ]
     },
     "metadata": {
      "needs_background": "light"
     },
     "output_type": "display_data"
    }
   ],
   "source": [
    "\n",
    "#bicylce counts..\n",
    "df_exp['PEDCYLCOUNT'].value_counts()\n",
    "#count plot of severity\n",
    "ax = sns.countplot(x='PEDCYLCOUNT',hue='SEVERITYCODE',data=df_exp,color = 'Grey')\n",
    "ax.set(xlim=(-1,3))"
   ]
  },
  {
   "cell_type": "markdown",
   "metadata": {},
   "source": [
    "### When bicycles are involved, injuries are more likely to occur.\n",
    ">>The 'Cycles' COLLISIONTYPE already introduces this relationship."
   ]
  },
  {
   "cell_type": "code",
   "execution_count": 48,
   "metadata": {},
   "outputs": [
    {
     "data": {
      "text/plain": [
       "[(-1, 7)]"
      ]
     },
     "execution_count": 48,
     "metadata": {},
     "output_type": "execute_result"
    },
    {
     "data": {
      "image/png": "[encoded data removed]",
      "text/plain": [
       "<Figure size 432x288 with 1 Axes>"
      ]
     },
     "metadata": {
      "needs_background": "light"
     },
     "output_type": "display_data"
    }
   ],
   "source": [
    "#vehicle count...\n",
    "df_exp['VEHCOUNT'].value_counts()\n",
    "#count plot\n",
    "ax = sns.countplot(x='VEHCOUNT',hue='SEVERITYCODE',data=df_exp,color = 'Grey')\n",
    "ax.set(xlim=(-1,7))"
   ]
  },
  {
   "cell_type": "code",
   "execution_count": 49,
   "metadata": {},
   "outputs": [
    {
     "data": {
      "text/html": [
       "<div>\n",
       "<style scoped>\n",
       "    .dataframe tbody tr th:only-of-type {\n",
       "        vertical-align: middle;\n",
       "    }\n",
       "\n",
       "    .dataframe tbody tr th {\n",
       "        vertical-align: top;\n",
       "    }\n",
       "\n",
       "    .dataframe thead th {\n",
       "        text-align: right;\n",
       "    }\n",
       "</style>\n",
       "<table border=\"1\" class=\"dataframe\">\n",
       "  <thead>\n",
       "    <tr style=\"text-align: right;\">\n",
       "      <th>SEVERITYCODE</th>\n",
       "      <th>1</th>\n",
       "      <th>2</th>\n",
       "    </tr>\n",
       "    <tr>\n",
       "      <th>COLLISIONTYPE</th>\n",
       "      <th></th>\n",
       "      <th></th>\n",
       "    </tr>\n",
       "  </thead>\n",
       "  <tbody>\n",
       "    <tr>\n",
       "      <th>Angles</th>\n",
       "      <td>3</td>\n",
       "      <td>24</td>\n",
       "    </tr>\n",
       "    <tr>\n",
       "      <th>Cycles</th>\n",
       "      <td>660</td>\n",
       "      <td>4479</td>\n",
       "    </tr>\n",
       "    <tr>\n",
       "      <th>Head On</th>\n",
       "      <td>1</td>\n",
       "      <td>1</td>\n",
       "    </tr>\n",
       "    <tr>\n",
       "      <th>Left Turn</th>\n",
       "      <td>2</td>\n",
       "      <td>16</td>\n",
       "    </tr>\n",
       "    <tr>\n",
       "      <th>Other</th>\n",
       "      <td>10298</td>\n",
       "      <td>3688</td>\n",
       "    </tr>\n",
       "    <tr>\n",
       "      <th>Parked Car</th>\n",
       "      <td>10</td>\n",
       "      <td>5</td>\n",
       "    </tr>\n",
       "    <tr>\n",
       "      <th>Pedestrian</th>\n",
       "      <td>664</td>\n",
       "      <td>5868</td>\n",
       "    </tr>\n",
       "    <tr>\n",
       "      <th>Rear Ended</th>\n",
       "      <td>1</td>\n",
       "      <td>1</td>\n",
       "    </tr>\n",
       "    <tr>\n",
       "      <th>Right Turn</th>\n",
       "      <td>0</td>\n",
       "      <td>3</td>\n",
       "    </tr>\n",
       "    <tr>\n",
       "      <th>Sideswipe</th>\n",
       "      <td>1</td>\n",
       "      <td>8</td>\n",
       "    </tr>\n",
       "  </tbody>\n",
       "</table>\n",
       "</div>"
      ],
      "text/plain": [
       "SEVERITYCODE       1     2\n",
       "COLLISIONTYPE             \n",
       "Angles             3    24\n",
       "Cycles           660  4479\n",
       "Head On            1     1\n",
       "Left Turn          2    16\n",
       "Other          10298  3688\n",
       "Parked Car        10     5\n",
       "Pedestrian       664  5868\n",
       "Rear Ended         1     1\n",
       "Right Turn         0     3\n",
       "Sideswipe          1     8"
      ]
     },
     "execution_count": 49,
     "metadata": {},
     "output_type": "execute_result"
    }
   ],
   "source": [
    "#what does the distribution of collision types show for those involving only 1 vehicle?\n",
    "df_exp[df_exp['VEHCOUNT']==1].groupby(['COLLISIONTYPE','SEVERITYCODE']).size().unstack(fill_value=0)"
   ]
  },
  {
   "cell_type": "markdown",
   "metadata": {},
   "source": [
    "####  Collisions involving 2 vehicles are most common and therefore align to the property/injury proportion; collisions with 1 vehicle have high injury classification rate, but are often represented by ped/bike incidents which are already represented by the COLLISIONTYPE. \n",
    "#### Still overall, injuries seem to be more common when the vehicle count is something other than 2. Lets create a feature representing whether the collision has 2 vehicles or not (0,1)."
   ]
  },
  {
   "cell_type": "code",
   "execution_count": 50,
   "metadata": {},
   "outputs": [
    {
     "data": {
      "text/plain": [
       "N    164868\n",
       "Y     29805\n",
       "Name: INATTENTIONIND, dtype: int64"
      ]
     },
     "execution_count": 50,
     "metadata": {},
     "output_type": "execute_result"
    }
   ],
   "source": [
    "#now lets look at the some of the features that capture possible driver distractions, starting with inattentiveness\n",
    "df_exp['INATTENTIONIND'].value_counts()\n",
    "#this is likely because they are empty (blank).. lets assume that blank means 'No' and adjust the data\n",
    "df_exp['INATTENTIONIND'].fillna('N',inplace=True)\n",
    "df_exp['INATTENTIONIND'].value_counts()"
   ]
  },
  {
   "cell_type": "code",
   "execution_count": 51,
   "metadata": {},
   "outputs": [
    {
     "data": {
      "image/png": "[encoded data removed]",
      "text/plain": [
       "<Figure size 432x288 with 1 Axes>"
      ]
     },
     "metadata": {
      "needs_background": "light"
     },
     "output_type": "display_data"
    }
   ],
   "source": [
    "#look at the severity distribution\n",
    "ax = sns.countplot(x='INATTENTIONIND',hue='SEVERITYCODE',data=df_exp, color = 'Grey')"
   ]
  },
  {
   "cell_type": "code",
   "execution_count": 52,
   "metadata": {},
   "outputs": [
    {
     "name": "stdout",
     "output_type": "stream",
     "text": [
      "Rate of Injury for inattentive collisions (Y): 0.29\n",
      "Rate of Injury for attentive collisions (N): 0.35\n"
     ]
    },
    {
     "data": {
      "text/html": [
       "<div>\n",
       "<style scoped>\n",
       "    .dataframe tbody tr th:only-of-type {\n",
       "        vertical-align: middle;\n",
       "    }\n",
       "\n",
       "    .dataframe tbody tr th {\n",
       "        vertical-align: top;\n",
       "    }\n",
       "\n",
       "    .dataframe thead th {\n",
       "        text-align: right;\n",
       "    }\n",
       "</style>\n",
       "<table border=\"1\" class=\"dataframe\">\n",
       "  <thead>\n",
       "    <tr style=\"text-align: right;\">\n",
       "      <th></th>\n",
       "      <th>State</th>\n",
       "      <th>Property</th>\n",
       "      <th>Injury</th>\n",
       "      <th>Total</th>\n",
       "    </tr>\n",
       "  </thead>\n",
       "  <tbody>\n",
       "    <tr>\n",
       "      <th>0</th>\n",
       "      <td>N</td>\n",
       "      <td>117077</td>\n",
       "      <td>47791</td>\n",
       "      <td>164868</td>\n",
       "    </tr>\n",
       "    <tr>\n",
       "      <th>1</th>\n",
       "      <td>Y</td>\n",
       "      <td>19408</td>\n",
       "      <td>10397</td>\n",
       "      <td>29805</td>\n",
       "    </tr>\n",
       "  </tbody>\n",
       "</table>\n",
       "</div>"
      ],
      "text/plain": [
       "  State  Property  Injury   Total\n",
       "0     N    117077   47791  164868\n",
       "1     Y     19408   10397   29805"
      ]
     },
     "execution_count": 52,
     "metadata": {},
     "output_type": "execute_result"
    }
   ],
   "source": [
    "\n",
    "df_attn = df_exp.groupby(['INATTENTIONIND','SEVERITYCODE']).size().unstack(fill_value=0)\n",
    "df_attn.reset_index(drop=False,inplace=True)\n",
    "df_attn.columns = ['State','Property','Injury']\n",
    "df_attn['Total'] = df_attn['Property'] + df_attn['Injury']\n",
    "print('Rate of Injury for inattentive collisions (Y): '+'{:.2f}'.format(df_attn.loc[0,'Injury']/df_attn.loc[0,'Total']))\n",
    "print('Rate of Injury for attentive collisions (N): '+'{:.2f}'.format(df_attn.loc[1,'Injury']/df_attn.loc[1,'Total']))\n",
    "df_attn"
   ]
  },
  {
   "cell_type": "markdown",
   "metadata": {},
   "source": [
    "#### (INATTENTIONIND) Observation: collisions due to inattentive driving are slightly more likely to result in injuries than those where inattentiveness is not an issue; however, neither are more likely to result in injury than not.\n",
    "  >> Injuries occur in a higher percentage of collisions where inattentive driving is present, \n",
    "  ### so lets use this as a feature. (INATTENTIONIND)"
   ]
  },
  {
   "cell_type": "code",
   "execution_count": 53,
   "metadata": {},
   "outputs": [
    {
     "data": {
      "image/png": "[encoded data removed]",
      "text/plain": [
       "<Figure size 432x288 with 1 Axes>"
      ]
     },
     "metadata": {
      "needs_background": "light"
     },
     "output_type": "display_data"
    }
   ],
   "source": [
    "\n",
    "#lets observe the value counts for influenced driving\n",
    "ax = sns.countplot(x='UNDERINFL',hue='SEVERITYCODE',data=df_exp, color = 'Grey')"
   ]
  },
  {
   "cell_type": "code",
   "execution_count": 54,
   "metadata": {},
   "outputs": [
    {
     "data": {
      "text/plain": [
       "N    100274\n",
       "0     80394\n",
       "Y      5126\n",
       "1      3995\n",
       "Name: UNDERINFL, dtype: int64"
      ]
     },
     "execution_count": 54,
     "metadata": {},
     "output_type": "execute_result"
    }
   ],
   "source": [
    "#what about driving under the influence?\n",
    "df_exp['UNDERINFL'].value_counts()"
   ]
  },
  {
   "cell_type": "code",
   "execution_count": 55,
   "metadata": {},
   "outputs": [
    {
     "name": "stdout",
     "output_type": "stream",
     "text": [
      "Rate of Injury for influenced collisions (Y, 1): 0.39\n",
      "Rate of Injury for sober collisions (N, 0): 0.30\n"
     ]
    }
   ],
   "source": [
    "df_infl = df_exp.groupby(['UNDERINFL','SEVERITYCODE']).size().unstack(fill_value=0)\n",
    "df_infl.reset_index(drop=False,inplace=True)\n",
    "df_infl.columns = ['State','Property','Injury']\n",
    "df_infl['Total'] = df_infl['Property'] + df_infl['Injury']\n",
    "print('Rate of Injury for influenced collisions (Y, 1): '+'{:.2f}'.format(\n",
    "    (df_infl.loc[1,'Injury']+df_infl.loc[3,'Injury'])/(df_infl.loc[1,'Total']+df_infl.loc[3,'Total'])))\n",
    "print('Rate of Injury for sober collisions (N, 0): '+'{:.2f}'.format(\n",
    "    (df_infl.loc[0,'Injury']+df_infl.loc[2,'Injury'])/(df_infl.loc[0,'Total']+df_infl.loc[2,'Total'])))"
   ]
  },
  {
   "cell_type": "markdown",
   "metadata": {},
   "source": [
    "###  (UNDERINFL pt2) Observation: collisions where drugs or alcohol were involved resulted in injury at a higher rate than collisions where no drugs or alcohol were involved.\n",
    " ## Lets include this as a feature. ( UNDERINFL)"
   ]
  },
  {
   "cell_type": "code",
   "execution_count": 56,
   "metadata": {},
   "outputs": [
    {
     "data": {
      "text/plain": [
       "Y    9333\n",
       "Name: SPEEDING, dtype: int64"
      ]
     },
     "execution_count": 56,
     "metadata": {},
     "output_type": "execute_result"
    }
   ],
   "source": [
    " ### lets look at the outcomes for collisions where speeding is involved\n",
    "df_exp['SPEEDING'].value_counts()"
   ]
  },
  {
   "cell_type": "code",
   "execution_count": 57,
   "metadata": {},
   "outputs": [
    {
     "data": {
      "text/plain": [
       "N    185340\n",
       "Y      9333\n",
       "Name: SPEEDING, dtype: int64"
      ]
     },
     "execution_count": 57,
     "metadata": {},
     "output_type": "execute_result"
    }
   ],
   "source": [
    "#similar to the INATTENTIONIND feature, we have missing samples due to blank values. lets assume that blank means 'No'\n",
    "df_exp['SPEEDING'].fillna('N',inplace=True)\n",
    "df_exp['SPEEDING'].value_counts()"
   ]
  },
  {
   "cell_type": "code",
   "execution_count": 58,
   "metadata": {},
   "outputs": [
    {
     "data": {
      "image/png": "[encoded data removed]",
      "text/plain": [
       "<Figure size 432x288 with 1 Axes>"
      ]
     },
     "metadata": {
      "needs_background": "light"
     },
     "output_type": "display_data"
    }
   ],
   "source": [
    "#and now the severity distribution\n",
    "ax = sns.countplot(x='SPEEDING',hue='SEVERITYCODE',data=df_exp, color = 'Grey')"
   ]
  },
  {
   "cell_type": "code",
   "execution_count": 59,
   "metadata": {},
   "outputs": [
    {
     "data": {
      "text/html": [
       "<div>\n",
       "<style scoped>\n",
       "    .dataframe tbody tr th:only-of-type {\n",
       "        vertical-align: middle;\n",
       "    }\n",
       "\n",
       "    .dataframe tbody tr th {\n",
       "        vertical-align: top;\n",
       "    }\n",
       "\n",
       "    .dataframe thead th {\n",
       "        text-align: right;\n",
       "    }\n",
       "</style>\n",
       "<table border=\"1\" class=\"dataframe\">\n",
       "  <thead>\n",
       "    <tr style=\"text-align: right;\">\n",
       "      <th></th>\n",
       "      <th>Speeding</th>\n",
       "      <th>Property</th>\n",
       "      <th>Injury</th>\n",
       "      <th>Total</th>\n",
       "      <th>inj_rate</th>\n",
       "    </tr>\n",
       "  </thead>\n",
       "  <tbody>\n",
       "    <tr>\n",
       "      <th>0</th>\n",
       "      <td>N</td>\n",
       "      <td>130683</td>\n",
       "      <td>54657</td>\n",
       "      <td>185340</td>\n",
       "      <td>0.294901</td>\n",
       "    </tr>\n",
       "    <tr>\n",
       "      <th>1</th>\n",
       "      <td>Y</td>\n",
       "      <td>5802</td>\n",
       "      <td>3531</td>\n",
       "      <td>9333</td>\n",
       "      <td>0.378335</td>\n",
       "    </tr>\n",
       "  </tbody>\n",
       "</table>\n",
       "</div>"
      ],
      "text/plain": [
       "  Speeding  Property  Injury   Total  inj_rate\n",
       "0        N    130683   54657  185340  0.294901\n",
       "1        Y      5802    3531    9333  0.378335"
      ]
     },
     "execution_count": 59,
     "metadata": {},
     "output_type": "execute_result"
    }
   ],
   "source": [
    "#calculate the injury collision rates speeding vs no speeding samples\n",
    "df_speed = df_exp.groupby(['SPEEDING','SEVERITYCODE']).size().unstack(fill_value=0)\n",
    "df_speed.reset_index(drop=False,inplace=True)\n",
    "df_speed.columns = ['Speeding','Property','Injury']\n",
    "df_speed['Total'] = df_speed['Property'] + df_speed['Injury']\n",
    "df_speed['inj_rate'] = df_speed['Injury'] / df_speed['Total']\n",
    "df_speed"
   ]
  },
  {
   "cell_type": "markdown",
   "metadata": {},
   "source": [
    "### >SPEEDING will be selected as a feature"
   ]
  },
  {
   "cell_type": "markdown",
   "metadata": {},
   "source": [
    "### pedestrian and bicycle count showed obvious associations with injury rate, but these would make redundant features because collision type already captures these scenarios\n",
    "meanwhile, contrary to expectation, Weather, Road and Light conditions didnt show remarkable patterns with respect to the rate of injury in collisions"
   ]
  },
  {
   "cell_type": "code",
   "execution_count": 60,
   "metadata": {},
   "outputs": [],
   "source": [
    "df_exp.to_csv('explored_feature1.csv', index=False)"
   ]
  },
  {
   "cell_type": "code",
   "execution_count": 61,
   "metadata": {},
   "outputs": [
    {
     "data": {
      "text/html": [
       "<div>\n",
       "<style scoped>\n",
       "    .dataframe tbody tr th:only-of-type {\n",
       "        vertical-align: middle;\n",
       "    }\n",
       "\n",
       "    .dataframe tbody tr th {\n",
       "        vertical-align: top;\n",
       "    }\n",
       "\n",
       "    .dataframe thead th {\n",
       "        text-align: right;\n",
       "    }\n",
       "</style>\n",
       "<table border=\"1\" class=\"dataframe\">\n",
       "  <thead>\n",
       "    <tr style=\"text-align: right;\">\n",
       "      <th></th>\n",
       "      <th>DATETIME</th>\n",
       "      <th>COLLISIONTYPE</th>\n",
       "      <th>PERSONCOUNT</th>\n",
       "      <th>PEDCOUNT</th>\n",
       "      <th>PEDCYLCOUNT</th>\n",
       "      <th>VEHCOUNT</th>\n",
       "      <th>INATTENTIONIND</th>\n",
       "      <th>UNDERINFL</th>\n",
       "      <th>WEATHER</th>\n",
       "      <th>ROADCOND</th>\n",
       "      <th>LIGHTCOND</th>\n",
       "      <th>SPEEDING</th>\n",
       "      <th>SEVERITYCODE</th>\n",
       "    </tr>\n",
       "  </thead>\n",
       "  <tbody>\n",
       "    <tr>\n",
       "      <th>0</th>\n",
       "      <td>2013-03-27 14:54:00</td>\n",
       "      <td>Angles</td>\n",
       "      <td>2</td>\n",
       "      <td>0</td>\n",
       "      <td>0</td>\n",
       "      <td>2</td>\n",
       "      <td>N</td>\n",
       "      <td>N</td>\n",
       "      <td>Overcast</td>\n",
       "      <td>Wet</td>\n",
       "      <td>Daylight</td>\n",
       "      <td>N</td>\n",
       "      <td>2</td>\n",
       "    </tr>\n",
       "    <tr>\n",
       "      <th>1</th>\n",
       "      <td>2006-12-20 18:55:00</td>\n",
       "      <td>Sideswipe</td>\n",
       "      <td>2</td>\n",
       "      <td>0</td>\n",
       "      <td>0</td>\n",
       "      <td>2</td>\n",
       "      <td>N</td>\n",
       "      <td>0</td>\n",
       "      <td>Raining</td>\n",
       "      <td>Wet</td>\n",
       "      <td>Dark - Street Lights On</td>\n",
       "      <td>N</td>\n",
       "      <td>1</td>\n",
       "    </tr>\n",
       "    <tr>\n",
       "      <th>2</th>\n",
       "      <td>2004-11-18 10:20:00</td>\n",
       "      <td>Parked Car</td>\n",
       "      <td>4</td>\n",
       "      <td>0</td>\n",
       "      <td>0</td>\n",
       "      <td>3</td>\n",
       "      <td>N</td>\n",
       "      <td>0</td>\n",
       "      <td>Overcast</td>\n",
       "      <td>Dry</td>\n",
       "      <td>Daylight</td>\n",
       "      <td>N</td>\n",
       "      <td>1</td>\n",
       "    </tr>\n",
       "    <tr>\n",
       "      <th>3</th>\n",
       "      <td>2013-03-29 09:26:00</td>\n",
       "      <td>Other</td>\n",
       "      <td>3</td>\n",
       "      <td>0</td>\n",
       "      <td>0</td>\n",
       "      <td>3</td>\n",
       "      <td>N</td>\n",
       "      <td>N</td>\n",
       "      <td>Clear</td>\n",
       "      <td>Dry</td>\n",
       "      <td>Daylight</td>\n",
       "      <td>N</td>\n",
       "      <td>1</td>\n",
       "    </tr>\n",
       "    <tr>\n",
       "      <th>4</th>\n",
       "      <td>2004-01-28 08:04:00</td>\n",
       "      <td>Angles</td>\n",
       "      <td>2</td>\n",
       "      <td>0</td>\n",
       "      <td>0</td>\n",
       "      <td>2</td>\n",
       "      <td>N</td>\n",
       "      <td>0</td>\n",
       "      <td>Raining</td>\n",
       "      <td>Wet</td>\n",
       "      <td>Daylight</td>\n",
       "      <td>N</td>\n",
       "      <td>2</td>\n",
       "    </tr>\n",
       "  </tbody>\n",
       "</table>\n",
       "</div>"
      ],
      "text/plain": [
       "             DATETIME COLLISIONTYPE  PERSONCOUNT  PEDCOUNT  PEDCYLCOUNT  \\\n",
       "0 2013-03-27 14:54:00        Angles            2         0            0   \n",
       "1 2006-12-20 18:55:00     Sideswipe            2         0            0   \n",
       "2 2004-11-18 10:20:00    Parked Car            4         0            0   \n",
       "3 2013-03-29 09:26:00         Other            3         0            0   \n",
       "4 2004-01-28 08:04:00        Angles            2         0            0   \n",
       "\n",
       "   VEHCOUNT INATTENTIONIND UNDERINFL   WEATHER ROADCOND  \\\n",
       "0         2              N         N  Overcast      Wet   \n",
       "1         2              N         0   Raining      Wet   \n",
       "2         3              N         0  Overcast      Dry   \n",
       "3         3              N         N     Clear      Dry   \n",
       "4         2              N         0   Raining      Wet   \n",
       "\n",
       "                 LIGHTCOND SPEEDING  SEVERITYCODE  \n",
       "0                 Daylight        N             2  \n",
       "1  Dark - Street Lights On        N             1  \n",
       "2                 Daylight        N             1  \n",
       "3                 Daylight        N             1  \n",
       "4                 Daylight        N             2  "
      ]
     },
     "execution_count": 61,
     "metadata": {},
     "output_type": "execute_result"
    }
   ],
   "source": [
    "#identified as possible model features... lets import that and pick up our data cleaning efforts there...\n",
    "df_exp = pd.read_csv('explored_feature1.csv')\n",
    "df_exp['DATETIME']=df_exp['DATETIME'].astype('datetime64[ns]')\n",
    "df_exp.head()"
   ]
  },
  {
   "cell_type": "code",
   "execution_count": 62,
   "metadata": {},
   "outputs": [
    {
     "data": {
      "image/png": "[encoded data removed]",
      "text/plain": [
       "<Figure size 720x720 with 4 Axes>"
      ]
     },
     "metadata": {
      "needs_background": "light"
     },
     "output_type": "display_data"
    }
   ],
   "source": [
    "import matplotlib\n",
    "matplotlib.colors\n",
    "fig, ax = plt.subplots(2,2, figsize=(10,10))\n",
    "sns.countplot(x='UNDERINFL',hue='SEVERITYCODE',data=df_exp, ax=ax[0,0],color=\"Grey\")\n",
    "sns.countplot(x='SPEEDING',hue='SEVERITYCODE',data=df_exp,ax=ax[0,1],color=\"Red\")\n",
    "sns.countplot(x='WEATHER',hue='SEVERITYCODE',data=df_exp,ax=ax[1,0],color=\"Blue\")\n",
    "sns.countplot(x='ROADCOND',hue='SEVERITYCODE',data=df_exp,ax=ax[1,1],color=\"Grey\")\n",
    "\n",
    "for ax in fig.axes:\n",
    "    plt.sca(ax)\n",
    "    plt.xticks(rotation=90)"
   ]
  },
  {
   "cell_type": "markdown",
   "metadata": {},
   "source": [
    "## Summary\n",
    "\n",
    "1. pedestrian and bicycle count showed obvious associations with injury rate, but these would make redundant features because collision type already captures these scenarios\n",
    "2. meanwhile, contrary to expectation, Weather, Road and Light conditions didnt show remarkable patterns with respect to the rate of injury in collisions\n",
    "3. featuress included - 'DATETIME', 'COLLISIONTYPE','PERSONCOUNT','VEHCOUNT','INATTENTIONIND','UNDERINFL','SPEEDING','SEVERITYCODE'"
   ]
  },
  {
   "cell_type": "code",
   "execution_count": null,
   "metadata": {},
   "outputs": [],
   "source": []
  },
  {
   "cell_type": "code",
   "execution_count": 63,
   "metadata": {},
   "outputs": [
    {
     "name": "stdout",
     "output_type": "stream",
     "text": [
      "(194673, 8)\n"
     ]
    },
    {
     "data": {
      "text/html": [
       "<div>\n",
       "<style scoped>\n",
       "    .dataframe tbody tr th:only-of-type {\n",
       "        vertical-align: middle;\n",
       "    }\n",
       "\n",
       "    .dataframe tbody tr th {\n",
       "        vertical-align: top;\n",
       "    }\n",
       "\n",
       "    .dataframe thead th {\n",
       "        text-align: right;\n",
       "    }\n",
       "</style>\n",
       "<table border=\"1\" class=\"dataframe\">\n",
       "  <thead>\n",
       "    <tr style=\"text-align: right;\">\n",
       "      <th></th>\n",
       "      <th>DATETIME</th>\n",
       "      <th>COLLISIONTYPE</th>\n",
       "      <th>PERSONCOUNT</th>\n",
       "      <th>VEHCOUNT</th>\n",
       "      <th>INATTENTIONIND</th>\n",
       "      <th>UNDERINFL</th>\n",
       "      <th>SPEEDING</th>\n",
       "      <th>SEVERITYCODE</th>\n",
       "    </tr>\n",
       "  </thead>\n",
       "  <tbody>\n",
       "    <tr>\n",
       "      <th>0</th>\n",
       "      <td>2013-03-27 14:54:00</td>\n",
       "      <td>Angles</td>\n",
       "      <td>2</td>\n",
       "      <td>2</td>\n",
       "      <td>N</td>\n",
       "      <td>N</td>\n",
       "      <td>N</td>\n",
       "      <td>2</td>\n",
       "    </tr>\n",
       "    <tr>\n",
       "      <th>1</th>\n",
       "      <td>2006-12-20 18:55:00</td>\n",
       "      <td>Sideswipe</td>\n",
       "      <td>2</td>\n",
       "      <td>2</td>\n",
       "      <td>N</td>\n",
       "      <td>0</td>\n",
       "      <td>N</td>\n",
       "      <td>1</td>\n",
       "    </tr>\n",
       "    <tr>\n",
       "      <th>2</th>\n",
       "      <td>2004-11-18 10:20:00</td>\n",
       "      <td>Parked Car</td>\n",
       "      <td>4</td>\n",
       "      <td>3</td>\n",
       "      <td>N</td>\n",
       "      <td>0</td>\n",
       "      <td>N</td>\n",
       "      <td>1</td>\n",
       "    </tr>\n",
       "    <tr>\n",
       "      <th>3</th>\n",
       "      <td>2013-03-29 09:26:00</td>\n",
       "      <td>Other</td>\n",
       "      <td>3</td>\n",
       "      <td>3</td>\n",
       "      <td>N</td>\n",
       "      <td>N</td>\n",
       "      <td>N</td>\n",
       "      <td>1</td>\n",
       "    </tr>\n",
       "    <tr>\n",
       "      <th>4</th>\n",
       "      <td>2004-01-28 08:04:00</td>\n",
       "      <td>Angles</td>\n",
       "      <td>2</td>\n",
       "      <td>2</td>\n",
       "      <td>N</td>\n",
       "      <td>0</td>\n",
       "      <td>N</td>\n",
       "      <td>2</td>\n",
       "    </tr>\n",
       "  </tbody>\n",
       "</table>\n",
       "</div>"
      ],
      "text/plain": [
       "             DATETIME COLLISIONTYPE  PERSONCOUNT  VEHCOUNT INATTENTIONIND  \\\n",
       "0 2013-03-27 14:54:00        Angles            2         2              N   \n",
       "1 2006-12-20 18:55:00     Sideswipe            2         2              N   \n",
       "2 2004-11-18 10:20:00    Parked Car            4         3              N   \n",
       "3 2013-03-29 09:26:00         Other            3         3              N   \n",
       "4 2004-01-28 08:04:00        Angles            2         2              N   \n",
       "\n",
       "  UNDERINFL SPEEDING  SEVERITYCODE  \n",
       "0         N        N             2  \n",
       "1         0        N             1  \n",
       "2         0        N             1  \n",
       "3         N        N             1  \n",
       "4         0        N             2  "
      ]
     },
     "execution_count": 63,
     "metadata": {},
     "output_type": "execute_result"
    }
   ],
   "source": [
    "df = df_exp[['DATETIME', 'COLLISIONTYPE','PERSONCOUNT','VEHCOUNT','INATTENTIONIND','UNDERINFL','SPEEDING','SEVERITYCODE']].copy()\n",
    "print(df.shape)\n",
    "df.head()"
   ]
  },
  {
   "cell_type": "code",
   "execution_count": 64,
   "metadata": {},
   "outputs": [
    {
     "data": {
      "text/plain": [
       "DATETIME             0\n",
       "COLLISIONTYPE     4904\n",
       "PERSONCOUNT          0\n",
       "VEHCOUNT             0\n",
       "INATTENTIONIND       0\n",
       "UNDERINFL         4884\n",
       "SPEEDING             0\n",
       "SEVERITYCODE         0\n",
       "dtype: int64"
      ]
     },
     "execution_count": 64,
     "metadata": {},
     "output_type": "execute_result"
    }
   ],
   "source": [
    "\n",
    "#lets check how many blank values there are in each column:\n",
    "df.isnull().sum(axis=0)"
   ]
  },
  {
   "cell_type": "code",
   "execution_count": 65,
   "metadata": {},
   "outputs": [
    {
     "data": {
      "text/plain": [
       "DATETIME          0\n",
       "COLLISIONTYPE     0\n",
       "PERSONCOUNT       0\n",
       "VEHCOUNT          0\n",
       "INATTENTIONIND    0\n",
       "UNDERINFL         1\n",
       "SPEEDING          0\n",
       "SEVERITYCODE      0\n",
       "dtype: int64"
      ]
     },
     "execution_count": 65,
     "metadata": {},
     "output_type": "execute_result"
    }
   ],
   "source": [
    "df.dropna(axis=0,subset=['COLLISIONTYPE'],inplace=True)\n",
    "df.isnull().sum(axis=0)"
   ]
  },
  {
   "cell_type": "code",
   "execution_count": 66,
   "metadata": {},
   "outputs": [
    {
     "name": "stdout",
     "output_type": "stream",
     "text": [
      "(189768, 8)\n"
     ]
    },
    {
     "data": {
      "text/plain": [
       "DATETIME          0\n",
       "COLLISIONTYPE     0\n",
       "PERSONCOUNT       0\n",
       "VEHCOUNT          0\n",
       "INATTENTIONIND    0\n",
       "UNDERINFL         0\n",
       "SPEEDING          0\n",
       "SEVERITYCODE      0\n",
       "dtype: int64"
      ]
     },
     "execution_count": 66,
     "metadata": {},
     "output_type": "execute_result"
    }
   ],
   "source": [
    "df.dropna(axis=0,subset=['UNDERINFL'],inplace=True)\n",
    "print(df.shape)\n",
    "df.isnull().sum(axis=0)"
   ]
  },
  {
   "cell_type": "code",
   "execution_count": 67,
   "metadata": {},
   "outputs": [
    {
     "data": {
      "text/plain": [
       "2     111386\n",
       "3      35138\n",
       "4      14445\n",
       "1      11727\n",
       "5       6584\n",
       "0       5541\n",
       "6       2702\n",
       "7       1131\n",
       "8        533\n",
       "9        216\n",
       "10       128\n",
       "11        56\n",
       "12        33\n",
       "13        21\n",
       "14        19\n",
       "15        11\n",
       "17        11\n",
       "16         8\n",
       "44         6\n",
       "18         6\n",
       "20         6\n",
       "25         6\n",
       "19         5\n",
       "26         4\n",
       "22         4\n",
       "27         3\n",
       "28         3\n",
       "29         3\n",
       "47         3\n",
       "32         3\n",
       "34         3\n",
       "37         3\n",
       "23         2\n",
       "21         2\n",
       "24         2\n",
       "30         2\n",
       "36         2\n",
       "57         1\n",
       "31         1\n",
       "35         1\n",
       "39         1\n",
       "41         1\n",
       "43         1\n",
       "48         1\n",
       "53         1\n",
       "54         1\n",
       "81         1\n",
       "Name: PERSONCOUNT, dtype: int64"
      ]
     },
     "execution_count": 67,
     "metadata": {},
     "output_type": "execute_result"
    }
   ],
   "source": [
    "df['PERSONCOUNT'].value_counts()"
   ]
  },
  {
   "cell_type": "code",
   "execution_count": 68,
   "metadata": {},
   "outputs": [
    {
     "data": {
      "text/plain": [
       "2     4267\n",
       "1      771\n",
       "3      390\n",
       "4       80\n",
       "5       19\n",
       "6        5\n",
       "0        5\n",
       "7        2\n",
       "11       1\n",
       "9        1\n",
       "Name: VEHCOUNT, dtype: int64"
      ]
     },
     "execution_count": 68,
     "metadata": {},
     "output_type": "execute_result"
    }
   ],
   "source": [
    "#what is the VEHCOUNT distribution when the PERSONCOUNT = 0\n",
    "df[df['PERSONCOUNT']==0]['VEHCOUNT'].value_counts()"
   ]
  },
  {
   "cell_type": "code",
   "execution_count": null,
   "metadata": {},
   "outputs": [],
   "source": []
  },
  {
   "cell_type": "code",
   "execution_count": 69,
   "metadata": {},
   "outputs": [
    {
     "name": "stdout",
     "output_type": "stream",
     "text": [
      "Ratio of injury to property collisions for all samples (BEFORE): 0.43\n",
      "Ratio of injury to property collisions without PERSONCOUNT=0 samples (AFTER): 0.43\n"
     ]
    }
   ],
   "source": [
    "#looking at severity proportion (injury vs property) of collisions before and after removing samples where PERSONCOUNT = 0\n",
    "before = (df['SEVERITYCODE'].value_counts()[2]) / (df['SEVERITYCODE'].value_counts()[1])\n",
    "after = (df[df['PERSONCOUNT']!=0]['SEVERITYCODE'].value_counts()[2])/(df[df['PERSONCOUNT']!=0]['SEVERITYCODE'].value_counts()[1])\n",
    "\n",
    "print('Ratio of injury to property collisions for all samples (BEFORE): '+'{:.2f}'.format(before))\n",
    "print('Ratio of injury to property collisions without PERSONCOUNT=0 samples (AFTER): '+'{:.2f}'.format(after))"
   ]
  },
  {
   "cell_type": "markdown",
   "metadata": {},
   "source": [
    "### Observation: removing the samples where the PERSONCOUNT is recorded as 0 wont impact the proportionality of the target variable (SEVERITYCODE) and will still leave over 180k samples.. rather than have concern about the quality and impact of these records, lets remove them."
   ]
  },
  {
   "cell_type": "code",
   "execution_count": 70,
   "metadata": {},
   "outputs": [
    {
     "name": "stdout",
     "output_type": "stream",
     "text": [
      "(184227, 8)\n"
     ]
    }
   ],
   "source": [
    "df = df[df['PERSONCOUNT']!=0]\n",
    "print(df.shape)"
   ]
  },
  {
   "cell_type": "code",
   "execution_count": 71,
   "metadata": {},
   "outputs": [
    {
     "data": {
      "text/html": [
       "<div>\n",
       "<style scoped>\n",
       "    .dataframe tbody tr th:only-of-type {\n",
       "        vertical-align: middle;\n",
       "    }\n",
       "\n",
       "    .dataframe tbody tr th {\n",
       "        vertical-align: top;\n",
       "    }\n",
       "\n",
       "    .dataframe thead th {\n",
       "        text-align: right;\n",
       "    }\n",
       "</style>\n",
       "<table border=\"1\" class=\"dataframe\">\n",
       "  <thead>\n",
       "    <tr style=\"text-align: right;\">\n",
       "      <th></th>\n",
       "      <th>DATETIME</th>\n",
       "      <th>COLLISIONTYPE</th>\n",
       "      <th>PERSONCOUNT</th>\n",
       "      <th>VEHCOUNT</th>\n",
       "      <th>INATTENTIONIND</th>\n",
       "      <th>UNDERINFL</th>\n",
       "      <th>SPEEDING</th>\n",
       "      <th>SEVERITYCODE</th>\n",
       "    </tr>\n",
       "  </thead>\n",
       "  <tbody>\n",
       "    <tr>\n",
       "      <th>0</th>\n",
       "      <td>2013-03-27 14:54:00</td>\n",
       "      <td>Angles</td>\n",
       "      <td>2</td>\n",
       "      <td>2</td>\n",
       "      <td>0</td>\n",
       "      <td>0</td>\n",
       "      <td>0</td>\n",
       "      <td>2</td>\n",
       "    </tr>\n",
       "    <tr>\n",
       "      <th>1</th>\n",
       "      <td>2006-12-20 18:55:00</td>\n",
       "      <td>Sideswipe</td>\n",
       "      <td>2</td>\n",
       "      <td>2</td>\n",
       "      <td>0</td>\n",
       "      <td>0</td>\n",
       "      <td>0</td>\n",
       "      <td>1</td>\n",
       "    </tr>\n",
       "    <tr>\n",
       "      <th>2</th>\n",
       "      <td>2004-11-18 10:20:00</td>\n",
       "      <td>Parked Car</td>\n",
       "      <td>4</td>\n",
       "      <td>3</td>\n",
       "      <td>0</td>\n",
       "      <td>0</td>\n",
       "      <td>0</td>\n",
       "      <td>1</td>\n",
       "    </tr>\n",
       "    <tr>\n",
       "      <th>3</th>\n",
       "      <td>2013-03-29 09:26:00</td>\n",
       "      <td>Other</td>\n",
       "      <td>3</td>\n",
       "      <td>3</td>\n",
       "      <td>0</td>\n",
       "      <td>0</td>\n",
       "      <td>0</td>\n",
       "      <td>1</td>\n",
       "    </tr>\n",
       "    <tr>\n",
       "      <th>4</th>\n",
       "      <td>2004-01-28 08:04:00</td>\n",
       "      <td>Angles</td>\n",
       "      <td>2</td>\n",
       "      <td>2</td>\n",
       "      <td>0</td>\n",
       "      <td>0</td>\n",
       "      <td>0</td>\n",
       "      <td>2</td>\n",
       "    </tr>\n",
       "  </tbody>\n",
       "</table>\n",
       "</div>"
      ],
      "text/plain": [
       "             DATETIME COLLISIONTYPE  PERSONCOUNT  VEHCOUNT  INATTENTIONIND  \\\n",
       "0 2013-03-27 14:54:00        Angles            2         2               0   \n",
       "1 2006-12-20 18:55:00     Sideswipe            2         2               0   \n",
       "2 2004-11-18 10:20:00    Parked Car            4         3               0   \n",
       "3 2013-03-29 09:26:00         Other            3         3               0   \n",
       "4 2004-01-28 08:04:00        Angles            2         2               0   \n",
       "\n",
       "  UNDERINFL  SPEEDING  SEVERITYCODE  \n",
       "0         0         0             2  \n",
       "1         0         0             1  \n",
       "2         0         0             1  \n",
       "3         0         0             1  \n",
       "4         0         0             2  "
      ]
     },
     "execution_count": 71,
     "metadata": {},
     "output_type": "execute_result"
    }
   ],
   "source": [
    "#convert N to 0, Y to 1 in INATTENTIONIND, UNDERINFL and SPEEDING columns\n",
    "df['SPEEDING'].replace(('Y','N'),(1,0),inplace=True)\n",
    "df['INATTENTIONIND'].replace(('Y','N'),(1,0),inplace=True)\n",
    "df['UNDERINFL'].replace(('Y','N'),(1,0),inplace=True)\n",
    "df.head()"
   ]
  },
  {
   "cell_type": "code",
   "execution_count": 72,
   "metadata": {},
   "outputs": [
    {
     "data": {
      "text/plain": [
       "0    175107\n",
       "1      9120\n",
       "Name: UNDERINFL, dtype: int64"
      ]
     },
     "execution_count": 72,
     "metadata": {},
     "output_type": "execute_result"
    }
   ],
   "source": [
    "#the existing 1s and 0s in the UNDERINFL column are strings and need to be converted to integers as well\n",
    "df['UNDERINFL'].replace(('0','1'),(0,1),inplace=True)\n",
    "df['UNDERINFL'].value_counts()"
   ]
  },
  {
   "cell_type": "code",
   "execution_count": 73,
   "metadata": {},
   "outputs": [
    {
     "data": {
      "text/html": [
       "<div>\n",
       "<style scoped>\n",
       "    .dataframe tbody tr th:only-of-type {\n",
       "        vertical-align: middle;\n",
       "    }\n",
       "\n",
       "    .dataframe tbody tr th {\n",
       "        vertical-align: top;\n",
       "    }\n",
       "\n",
       "    .dataframe thead th {\n",
       "        text-align: right;\n",
       "    }\n",
       "</style>\n",
       "<table border=\"1\" class=\"dataframe\">\n",
       "  <thead>\n",
       "    <tr style=\"text-align: right;\">\n",
       "      <th></th>\n",
       "      <th>DATETIME</th>\n",
       "      <th>COLLISIONTYPE</th>\n",
       "      <th>PERSONCOUNT</th>\n",
       "      <th>VEHCOUNT</th>\n",
       "      <th>INATTENTIONIND</th>\n",
       "      <th>UNDERINFL</th>\n",
       "      <th>SPEEDING</th>\n",
       "      <th>SEVERITYCODE</th>\n",
       "      <th>PCOUNT_OVER2</th>\n",
       "      <th>VCOUNT_IS2</th>\n",
       "    </tr>\n",
       "  </thead>\n",
       "  <tbody>\n",
       "    <tr>\n",
       "      <th>0</th>\n",
       "      <td>2013-03-27 14:54:00</td>\n",
       "      <td>Angles</td>\n",
       "      <td>2</td>\n",
       "      <td>2</td>\n",
       "      <td>0</td>\n",
       "      <td>0</td>\n",
       "      <td>0</td>\n",
       "      <td>2</td>\n",
       "      <td>0</td>\n",
       "      <td>1</td>\n",
       "    </tr>\n",
       "    <tr>\n",
       "      <th>1</th>\n",
       "      <td>2006-12-20 18:55:00</td>\n",
       "      <td>Sideswipe</td>\n",
       "      <td>2</td>\n",
       "      <td>2</td>\n",
       "      <td>0</td>\n",
       "      <td>0</td>\n",
       "      <td>0</td>\n",
       "      <td>1</td>\n",
       "      <td>0</td>\n",
       "      <td>1</td>\n",
       "    </tr>\n",
       "    <tr>\n",
       "      <th>2</th>\n",
       "      <td>2004-11-18 10:20:00</td>\n",
       "      <td>Parked Car</td>\n",
       "      <td>4</td>\n",
       "      <td>3</td>\n",
       "      <td>0</td>\n",
       "      <td>0</td>\n",
       "      <td>0</td>\n",
       "      <td>1</td>\n",
       "      <td>1</td>\n",
       "      <td>0</td>\n",
       "    </tr>\n",
       "    <tr>\n",
       "      <th>3</th>\n",
       "      <td>2013-03-29 09:26:00</td>\n",
       "      <td>Other</td>\n",
       "      <td>3</td>\n",
       "      <td>3</td>\n",
       "      <td>0</td>\n",
       "      <td>0</td>\n",
       "      <td>0</td>\n",
       "      <td>1</td>\n",
       "      <td>1</td>\n",
       "      <td>0</td>\n",
       "    </tr>\n",
       "    <tr>\n",
       "      <th>4</th>\n",
       "      <td>2004-01-28 08:04:00</td>\n",
       "      <td>Angles</td>\n",
       "      <td>2</td>\n",
       "      <td>2</td>\n",
       "      <td>0</td>\n",
       "      <td>0</td>\n",
       "      <td>0</td>\n",
       "      <td>2</td>\n",
       "      <td>0</td>\n",
       "      <td>1</td>\n",
       "    </tr>\n",
       "  </tbody>\n",
       "</table>\n",
       "</div>"
      ],
      "text/plain": [
       "             DATETIME COLLISIONTYPE  PERSONCOUNT  VEHCOUNT  INATTENTIONIND  \\\n",
       "0 2013-03-27 14:54:00        Angles            2         2               0   \n",
       "1 2006-12-20 18:55:00     Sideswipe            2         2               0   \n",
       "2 2004-11-18 10:20:00    Parked Car            4         3               0   \n",
       "3 2013-03-29 09:26:00         Other            3         3               0   \n",
       "4 2004-01-28 08:04:00        Angles            2         2               0   \n",
       "\n",
       "   UNDERINFL  SPEEDING  SEVERITYCODE  PCOUNT_OVER2  VCOUNT_IS2  \n",
       "0          0         0             2             0           1  \n",
       "1          0         0             1             0           1  \n",
       "2          0         0             1             1           0  \n",
       "3          0         0             1             1           0  \n",
       "4          0         0             2             0           1  "
      ]
     },
     "execution_count": 73,
     "metadata": {},
     "output_type": "execute_result"
    }
   ],
   "source": [
    "#add columns: PCOUNT_OVER2, VCOUNT_IS2 to track whether there are 3 or more people and whether there are 2 vehicles or other\n",
    "df['PCOUNT_OVER2'] = [1 if b>=3 else 0 for b in df['PERSONCOUNT']]\n",
    "df['VCOUNT_IS2'] = [1 if b==2 else 0 for b in df['VEHCOUNT']]\n",
    "df.head()"
   ]
  },
  {
   "cell_type": "code",
   "execution_count": 74,
   "metadata": {},
   "outputs": [
    {
     "data": {
      "text/html": [
       "<div>\n",
       "<style scoped>\n",
       "    .dataframe tbody tr th:only-of-type {\n",
       "        vertical-align: middle;\n",
       "    }\n",
       "\n",
       "    .dataframe tbody tr th {\n",
       "        vertical-align: top;\n",
       "    }\n",
       "\n",
       "    .dataframe thead th {\n",
       "        text-align: right;\n",
       "    }\n",
       "</style>\n",
       "<table border=\"1\" class=\"dataframe\">\n",
       "  <thead>\n",
       "    <tr style=\"text-align: right;\">\n",
       "      <th></th>\n",
       "      <th>DATETIME</th>\n",
       "      <th>COLLISIONTYPE</th>\n",
       "      <th>PERSONCOUNT</th>\n",
       "      <th>VEHCOUNT</th>\n",
       "      <th>INATTENTIONIND</th>\n",
       "      <th>UNDERINFL</th>\n",
       "      <th>SPEEDING</th>\n",
       "      <th>SEVERITYCODE</th>\n",
       "      <th>PCOUNT_OVER2</th>\n",
       "      <th>VCOUNT_IS2</th>\n",
       "      <th>RUSHHOUR</th>\n",
       "    </tr>\n",
       "  </thead>\n",
       "  <tbody>\n",
       "    <tr>\n",
       "      <th>0</th>\n",
       "      <td>2013-03-27 14:54:00</td>\n",
       "      <td>Angles</td>\n",
       "      <td>2</td>\n",
       "      <td>2</td>\n",
       "      <td>0</td>\n",
       "      <td>0</td>\n",
       "      <td>0</td>\n",
       "      <td>2</td>\n",
       "      <td>0</td>\n",
       "      <td>1</td>\n",
       "      <td>0</td>\n",
       "    </tr>\n",
       "    <tr>\n",
       "      <th>1</th>\n",
       "      <td>2006-12-20 18:55:00</td>\n",
       "      <td>Sideswipe</td>\n",
       "      <td>2</td>\n",
       "      <td>2</td>\n",
       "      <td>0</td>\n",
       "      <td>0</td>\n",
       "      <td>0</td>\n",
       "      <td>1</td>\n",
       "      <td>0</td>\n",
       "      <td>1</td>\n",
       "      <td>1</td>\n",
       "    </tr>\n",
       "    <tr>\n",
       "      <th>2</th>\n",
       "      <td>2004-11-18 10:20:00</td>\n",
       "      <td>Parked Car</td>\n",
       "      <td>4</td>\n",
       "      <td>3</td>\n",
       "      <td>0</td>\n",
       "      <td>0</td>\n",
       "      <td>0</td>\n",
       "      <td>1</td>\n",
       "      <td>1</td>\n",
       "      <td>0</td>\n",
       "      <td>0</td>\n",
       "    </tr>\n",
       "    <tr>\n",
       "      <th>3</th>\n",
       "      <td>2013-03-29 09:26:00</td>\n",
       "      <td>Other</td>\n",
       "      <td>3</td>\n",
       "      <td>3</td>\n",
       "      <td>0</td>\n",
       "      <td>0</td>\n",
       "      <td>0</td>\n",
       "      <td>1</td>\n",
       "      <td>1</td>\n",
       "      <td>0</td>\n",
       "      <td>0</td>\n",
       "    </tr>\n",
       "    <tr>\n",
       "      <th>4</th>\n",
       "      <td>2004-01-28 08:04:00</td>\n",
       "      <td>Angles</td>\n",
       "      <td>2</td>\n",
       "      <td>2</td>\n",
       "      <td>0</td>\n",
       "      <td>0</td>\n",
       "      <td>0</td>\n",
       "      <td>2</td>\n",
       "      <td>0</td>\n",
       "      <td>1</td>\n",
       "      <td>1</td>\n",
       "    </tr>\n",
       "  </tbody>\n",
       "</table>\n",
       "</div>"
      ],
      "text/plain": [
       "             DATETIME COLLISIONTYPE  PERSONCOUNT  VEHCOUNT  INATTENTIONIND  \\\n",
       "0 2013-03-27 14:54:00        Angles            2         2               0   \n",
       "1 2006-12-20 18:55:00     Sideswipe            2         2               0   \n",
       "2 2004-11-18 10:20:00    Parked Car            4         3               0   \n",
       "3 2013-03-29 09:26:00         Other            3         3               0   \n",
       "4 2004-01-28 08:04:00        Angles            2         2               0   \n",
       "\n",
       "   UNDERINFL  SPEEDING  SEVERITYCODE  PCOUNT_OVER2  VCOUNT_IS2  RUSHHOUR  \n",
       "0          0         0             2             0           1         0  \n",
       "1          0         0             1             0           1         1  \n",
       "2          0         0             1             1           0         0  \n",
       "3          0         0             1             1           0         0  \n",
       "4          0         0             2             0           1         1  "
      ]
     },
     "execution_count": 74,
     "metadata": {},
     "output_type": "execute_result"
    }
   ],
   "source": [
    "#add column 'RUSHHOUR' to identify whether time is during the rushhour period on a weekday\n",
    "wkdays = [0,1,2,3,4] #list of values that are weekdays\n",
    "rushhrs = [5,6,7,8,15,16,17,18] #list of hours that are during AM/PM rushhour periouds (5-8 and 3-6)\n",
    "\n",
    "df['RUSHHOUR'] = [1 if (b.hour in rushhrs) & (b.dayofweek in wkdays) else 0 for b in df.DATETIME]\n",
    "df.head()"
   ]
  },
  {
   "cell_type": "code",
   "execution_count": 75,
   "metadata": {},
   "outputs": [
    {
     "data": {
      "text/html": [
       "<div>\n",
       "<style scoped>\n",
       "    .dataframe tbody tr th:only-of-type {\n",
       "        vertical-align: middle;\n",
       "    }\n",
       "\n",
       "    .dataframe tbody tr th {\n",
       "        vertical-align: top;\n",
       "    }\n",
       "\n",
       "    .dataframe thead th {\n",
       "        text-align: right;\n",
       "    }\n",
       "</style>\n",
       "<table border=\"1\" class=\"dataframe\">\n",
       "  <thead>\n",
       "    <tr style=\"text-align: right;\">\n",
       "      <th></th>\n",
       "      <th>DATETIME</th>\n",
       "      <th>COLLISIONTYPE</th>\n",
       "      <th>PERSONCOUNT</th>\n",
       "      <th>VEHCOUNT</th>\n",
       "      <th>INATTENTIONIND</th>\n",
       "      <th>UNDERINFL</th>\n",
       "      <th>SPEEDING</th>\n",
       "      <th>SEVERITYCODE</th>\n",
       "      <th>PCOUNT_OVER2</th>\n",
       "      <th>VCOUNT_IS2</th>\n",
       "      <th>RUSHHOUR</th>\n",
       "    </tr>\n",
       "  </thead>\n",
       "  <tbody>\n",
       "    <tr>\n",
       "      <th>0</th>\n",
       "      <td>2013-03-27 14:54:00</td>\n",
       "      <td>Angles</td>\n",
       "      <td>2</td>\n",
       "      <td>2</td>\n",
       "      <td>0</td>\n",
       "      <td>0</td>\n",
       "      <td>0</td>\n",
       "      <td>2</td>\n",
       "      <td>0</td>\n",
       "      <td>1</td>\n",
       "      <td>0</td>\n",
       "    </tr>\n",
       "    <tr>\n",
       "      <th>1</th>\n",
       "      <td>2006-12-20 18:55:00</td>\n",
       "      <td>Sideswipe</td>\n",
       "      <td>2</td>\n",
       "      <td>2</td>\n",
       "      <td>0</td>\n",
       "      <td>0</td>\n",
       "      <td>0</td>\n",
       "      <td>1</td>\n",
       "      <td>0</td>\n",
       "      <td>1</td>\n",
       "      <td>1</td>\n",
       "    </tr>\n",
       "    <tr>\n",
       "      <th>2</th>\n",
       "      <td>2004-11-18 10:20:00</td>\n",
       "      <td>Parked Car</td>\n",
       "      <td>4</td>\n",
       "      <td>3</td>\n",
       "      <td>0</td>\n",
       "      <td>0</td>\n",
       "      <td>0</td>\n",
       "      <td>1</td>\n",
       "      <td>1</td>\n",
       "      <td>0</td>\n",
       "      <td>0</td>\n",
       "    </tr>\n",
       "    <tr>\n",
       "      <th>3</th>\n",
       "      <td>2013-03-29 09:26:00</td>\n",
       "      <td>Other</td>\n",
       "      <td>3</td>\n",
       "      <td>3</td>\n",
       "      <td>0</td>\n",
       "      <td>0</td>\n",
       "      <td>0</td>\n",
       "      <td>1</td>\n",
       "      <td>1</td>\n",
       "      <td>0</td>\n",
       "      <td>0</td>\n",
       "    </tr>\n",
       "    <tr>\n",
       "      <th>4</th>\n",
       "      <td>2004-01-28 08:04:00</td>\n",
       "      <td>Angles</td>\n",
       "      <td>2</td>\n",
       "      <td>2</td>\n",
       "      <td>0</td>\n",
       "      <td>0</td>\n",
       "      <td>0</td>\n",
       "      <td>2</td>\n",
       "      <td>0</td>\n",
       "      <td>1</td>\n",
       "      <td>1</td>\n",
       "    </tr>\n",
       "    <tr>\n",
       "      <th>5</th>\n",
       "      <td>2019-04-20 17:42:00</td>\n",
       "      <td>Angles</td>\n",
       "      <td>2</td>\n",
       "      <td>2</td>\n",
       "      <td>0</td>\n",
       "      <td>0</td>\n",
       "      <td>0</td>\n",
       "      <td>1</td>\n",
       "      <td>0</td>\n",
       "      <td>1</td>\n",
       "      <td>0</td>\n",
       "    </tr>\n",
       "    <tr>\n",
       "      <th>6</th>\n",
       "      <td>2008-12-09 00:00:00</td>\n",
       "      <td>Angles</td>\n",
       "      <td>2</td>\n",
       "      <td>2</td>\n",
       "      <td>0</td>\n",
       "      <td>0</td>\n",
       "      <td>0</td>\n",
       "      <td>1</td>\n",
       "      <td>0</td>\n",
       "      <td>1</td>\n",
       "      <td>0</td>\n",
       "    </tr>\n",
       "    <tr>\n",
       "      <th>7</th>\n",
       "      <td>2020-04-15 17:47:00</td>\n",
       "      <td>Cycles</td>\n",
       "      <td>3</td>\n",
       "      <td>1</td>\n",
       "      <td>0</td>\n",
       "      <td>0</td>\n",
       "      <td>0</td>\n",
       "      <td>2</td>\n",
       "      <td>1</td>\n",
       "      <td>0</td>\n",
       "      <td>1</td>\n",
       "    </tr>\n",
       "    <tr>\n",
       "      <th>8</th>\n",
       "      <td>2006-06-15 13:00:00</td>\n",
       "      <td>Parked Car</td>\n",
       "      <td>2</td>\n",
       "      <td>2</td>\n",
       "      <td>0</td>\n",
       "      <td>0</td>\n",
       "      <td>0</td>\n",
       "      <td>1</td>\n",
       "      <td>0</td>\n",
       "      <td>1</td>\n",
       "      <td>0</td>\n",
       "    </tr>\n",
       "    <tr>\n",
       "      <th>9</th>\n",
       "      <td>2006-03-20 15:49:00</td>\n",
       "      <td>Angles</td>\n",
       "      <td>2</td>\n",
       "      <td>2</td>\n",
       "      <td>0</td>\n",
       "      <td>0</td>\n",
       "      <td>0</td>\n",
       "      <td>2</td>\n",
       "      <td>0</td>\n",
       "      <td>1</td>\n",
       "      <td>1</td>\n",
       "    </tr>\n",
       "  </tbody>\n",
       "</table>\n",
       "</div>"
      ],
      "text/plain": [
       "             DATETIME COLLISIONTYPE  PERSONCOUNT  VEHCOUNT  INATTENTIONIND  \\\n",
       "0 2013-03-27 14:54:00        Angles            2         2               0   \n",
       "1 2006-12-20 18:55:00     Sideswipe            2         2               0   \n",
       "2 2004-11-18 10:20:00    Parked Car            4         3               0   \n",
       "3 2013-03-29 09:26:00         Other            3         3               0   \n",
       "4 2004-01-28 08:04:00        Angles            2         2               0   \n",
       "5 2019-04-20 17:42:00        Angles            2         2               0   \n",
       "6 2008-12-09 00:00:00        Angles            2         2               0   \n",
       "7 2020-04-15 17:47:00        Cycles            3         1               0   \n",
       "8 2006-06-15 13:00:00    Parked Car            2         2               0   \n",
       "9 2006-03-20 15:49:00        Angles            2         2               0   \n",
       "\n",
       "   UNDERINFL  SPEEDING  SEVERITYCODE  PCOUNT_OVER2  VCOUNT_IS2  RUSHHOUR  \n",
       "0          0         0             2             0           1         0  \n",
       "1          0         0             1             0           1         1  \n",
       "2          0         0             1             1           0         0  \n",
       "3          0         0             1             1           0         0  \n",
       "4          0         0             2             0           1         1  \n",
       "5          0         0             1             0           1         0  \n",
       "6          0         0             1             0           1         0  \n",
       "7          0         0             2             1           0         1  \n",
       "8          0         0             1             0           1         0  \n",
       "9          0         0             2             0           1         1  "
      ]
     },
     "execution_count": 75,
     "metadata": {},
     "output_type": "execute_result"
    }
   ],
   "source": [
    "#when first observing the dataset, the INCDTTM column had some dates that were missing a timestamp.. these could be\n",
    "#incorrectly classified as non-rushhour, since we don't know the true times.. lets determine the number of impacted items\n",
    "#and remove them\n",
    "\n",
    "#first lets look at an example... in the first 10 rows of the dataframe, notice row 6, which has a timestamp of 00:00:00\n",
    "#this is because the original INCDTTM column had only a date, so the timestamp defaults to 00:00:00 when converted to\n",
    "#the datetime format\n",
    "df.head(10)"
   ]
  },
  {
   "cell_type": "code",
   "execution_count": 76,
   "metadata": {},
   "outputs": [
    {
     "data": {
      "text/html": [
       "<div>\n",
       "<style scoped>\n",
       "    .dataframe tbody tr th:only-of-type {\n",
       "        vertical-align: middle;\n",
       "    }\n",
       "\n",
       "    .dataframe tbody tr th {\n",
       "        vertical-align: top;\n",
       "    }\n",
       "\n",
       "    .dataframe thead th {\n",
       "        text-align: right;\n",
       "    }\n",
       "</style>\n",
       "<table border=\"1\" class=\"dataframe\">\n",
       "  <thead>\n",
       "    <tr style=\"text-align: right;\">\n",
       "      <th></th>\n",
       "      <th>COLLISIONTYPE</th>\n",
       "      <th>PERSONCOUNT</th>\n",
       "      <th>VEHCOUNT</th>\n",
       "      <th>INATTENTIONIND</th>\n",
       "      <th>UNDERINFL</th>\n",
       "      <th>SPEEDING</th>\n",
       "      <th>SEVERITYCODE</th>\n",
       "      <th>PCOUNT_OVER2</th>\n",
       "      <th>VCOUNT_IS2</th>\n",
       "      <th>RUSHHOUR</th>\n",
       "    </tr>\n",
       "    <tr>\n",
       "      <th>DATETIME</th>\n",
       "      <th></th>\n",
       "      <th></th>\n",
       "      <th></th>\n",
       "      <th></th>\n",
       "      <th></th>\n",
       "      <th></th>\n",
       "      <th></th>\n",
       "      <th></th>\n",
       "      <th></th>\n",
       "      <th></th>\n",
       "    </tr>\n",
       "  </thead>\n",
       "  <tbody>\n",
       "    <tr>\n",
       "      <th>2013-03-27 14:54:00</th>\n",
       "      <td>Angles</td>\n",
       "      <td>2</td>\n",
       "      <td>2</td>\n",
       "      <td>0</td>\n",
       "      <td>0</td>\n",
       "      <td>0</td>\n",
       "      <td>2</td>\n",
       "      <td>0</td>\n",
       "      <td>1</td>\n",
       "      <td>0</td>\n",
       "    </tr>\n",
       "    <tr>\n",
       "      <th>2006-12-20 18:55:00</th>\n",
       "      <td>Sideswipe</td>\n",
       "      <td>2</td>\n",
       "      <td>2</td>\n",
       "      <td>0</td>\n",
       "      <td>0</td>\n",
       "      <td>0</td>\n",
       "      <td>1</td>\n",
       "      <td>0</td>\n",
       "      <td>1</td>\n",
       "      <td>1</td>\n",
       "    </tr>\n",
       "    <tr>\n",
       "      <th>2004-11-18 10:20:00</th>\n",
       "      <td>Parked Car</td>\n",
       "      <td>4</td>\n",
       "      <td>3</td>\n",
       "      <td>0</td>\n",
       "      <td>0</td>\n",
       "      <td>0</td>\n",
       "      <td>1</td>\n",
       "      <td>1</td>\n",
       "      <td>0</td>\n",
       "      <td>0</td>\n",
       "    </tr>\n",
       "    <tr>\n",
       "      <th>2013-03-29 09:26:00</th>\n",
       "      <td>Other</td>\n",
       "      <td>3</td>\n",
       "      <td>3</td>\n",
       "      <td>0</td>\n",
       "      <td>0</td>\n",
       "      <td>0</td>\n",
       "      <td>1</td>\n",
       "      <td>1</td>\n",
       "      <td>0</td>\n",
       "      <td>0</td>\n",
       "    </tr>\n",
       "    <tr>\n",
       "      <th>2004-01-28 08:04:00</th>\n",
       "      <td>Angles</td>\n",
       "      <td>2</td>\n",
       "      <td>2</td>\n",
       "      <td>0</td>\n",
       "      <td>0</td>\n",
       "      <td>0</td>\n",
       "      <td>2</td>\n",
       "      <td>0</td>\n",
       "      <td>1</td>\n",
       "      <td>1</td>\n",
       "    </tr>\n",
       "  </tbody>\n",
       "</table>\n",
       "</div>"
      ],
      "text/plain": [
       "                    COLLISIONTYPE  PERSONCOUNT  VEHCOUNT  INATTENTIONIND  \\\n",
       "DATETIME                                                                   \n",
       "2013-03-27 14:54:00        Angles            2         2               0   \n",
       "2006-12-20 18:55:00     Sideswipe            2         2               0   \n",
       "2004-11-18 10:20:00    Parked Car            4         3               0   \n",
       "2013-03-29 09:26:00         Other            3         3               0   \n",
       "2004-01-28 08:04:00        Angles            2         2               0   \n",
       "\n",
       "                     UNDERINFL  SPEEDING  SEVERITYCODE  PCOUNT_OVER2  \\\n",
       "DATETIME                                                               \n",
       "2013-03-27 14:54:00          0         0             2             0   \n",
       "2006-12-20 18:55:00          0         0             1             0   \n",
       "2004-11-18 10:20:00          0         0             1             1   \n",
       "2013-03-29 09:26:00          0         0             1             1   \n",
       "2004-01-28 08:04:00          0         0             2             0   \n",
       "\n",
       "                     VCOUNT_IS2  RUSHHOUR  \n",
       "DATETIME                                   \n",
       "2013-03-27 14:54:00           1         0  \n",
       "2006-12-20 18:55:00           1         1  \n",
       "2004-11-18 10:20:00           0         0  \n",
       "2013-03-29 09:26:00           0         0  \n",
       "2004-01-28 08:04:00           1         1  "
      ]
     },
     "execution_count": 76,
     "metadata": {},
     "output_type": "execute_result"
    }
   ],
   "source": [
    "#lets remove these samples... first we need to set the index to the DATETIME column, then we can make use of the\n",
    "#between_times method\n",
    "df.set_index('DATETIME',inplace=True)\n",
    "df.head()"
   ]
  },
  {
   "cell_type": "code",
   "execution_count": 77,
   "metadata": {},
   "outputs": [
    {
     "name": "stdout",
     "output_type": "stream",
     "text": [
      "(25526, 10)\n"
     ]
    },
    {
     "data": {
      "text/html": [
       "<div>\n",
       "<style scoped>\n",
       "    .dataframe tbody tr th:only-of-type {\n",
       "        vertical-align: middle;\n",
       "    }\n",
       "\n",
       "    .dataframe tbody tr th {\n",
       "        vertical-align: top;\n",
       "    }\n",
       "\n",
       "    .dataframe thead th {\n",
       "        text-align: right;\n",
       "    }\n",
       "</style>\n",
       "<table border=\"1\" class=\"dataframe\">\n",
       "  <thead>\n",
       "    <tr style=\"text-align: right;\">\n",
       "      <th></th>\n",
       "      <th>COLLISIONTYPE</th>\n",
       "      <th>PERSONCOUNT</th>\n",
       "      <th>VEHCOUNT</th>\n",
       "      <th>INATTENTIONIND</th>\n",
       "      <th>UNDERINFL</th>\n",
       "      <th>SPEEDING</th>\n",
       "      <th>SEVERITYCODE</th>\n",
       "      <th>PCOUNT_OVER2</th>\n",
       "      <th>VCOUNT_IS2</th>\n",
       "      <th>RUSHHOUR</th>\n",
       "    </tr>\n",
       "    <tr>\n",
       "      <th>DATETIME</th>\n",
       "      <th></th>\n",
       "      <th></th>\n",
       "      <th></th>\n",
       "      <th></th>\n",
       "      <th></th>\n",
       "      <th></th>\n",
       "      <th></th>\n",
       "      <th></th>\n",
       "      <th></th>\n",
       "      <th></th>\n",
       "    </tr>\n",
       "  </thead>\n",
       "  <tbody>\n",
       "    <tr>\n",
       "      <th>2008-12-09</th>\n",
       "      <td>Angles</td>\n",
       "      <td>2</td>\n",
       "      <td>2</td>\n",
       "      <td>0</td>\n",
       "      <td>0</td>\n",
       "      <td>0</td>\n",
       "      <td>1</td>\n",
       "      <td>0</td>\n",
       "      <td>1</td>\n",
       "      <td>0</td>\n",
       "    </tr>\n",
       "    <tr>\n",
       "      <th>2005-07-01</th>\n",
       "      <td>Left Turn</td>\n",
       "      <td>3</td>\n",
       "      <td>2</td>\n",
       "      <td>0</td>\n",
       "      <td>0</td>\n",
       "      <td>0</td>\n",
       "      <td>2</td>\n",
       "      <td>1</td>\n",
       "      <td>1</td>\n",
       "      <td>0</td>\n",
       "    </tr>\n",
       "    <tr>\n",
       "      <th>2009-06-01</th>\n",
       "      <td>Parked Car</td>\n",
       "      <td>2</td>\n",
       "      <td>2</td>\n",
       "      <td>0</td>\n",
       "      <td>0</td>\n",
       "      <td>0</td>\n",
       "      <td>1</td>\n",
       "      <td>0</td>\n",
       "      <td>1</td>\n",
       "      <td>0</td>\n",
       "    </tr>\n",
       "    <tr>\n",
       "      <th>2005-11-05</th>\n",
       "      <td>Left Turn</td>\n",
       "      <td>3</td>\n",
       "      <td>2</td>\n",
       "      <td>0</td>\n",
       "      <td>0</td>\n",
       "      <td>0</td>\n",
       "      <td>1</td>\n",
       "      <td>1</td>\n",
       "      <td>1</td>\n",
       "      <td>0</td>\n",
       "    </tr>\n",
       "    <tr>\n",
       "      <th>2006-08-05</th>\n",
       "      <td>Angles</td>\n",
       "      <td>2</td>\n",
       "      <td>2</td>\n",
       "      <td>0</td>\n",
       "      <td>0</td>\n",
       "      <td>0</td>\n",
       "      <td>1</td>\n",
       "      <td>0</td>\n",
       "      <td>1</td>\n",
       "      <td>0</td>\n",
       "    </tr>\n",
       "  </tbody>\n",
       "</table>\n",
       "</div>"
      ],
      "text/plain": [
       "           COLLISIONTYPE  PERSONCOUNT  VEHCOUNT  INATTENTIONIND  UNDERINFL  \\\n",
       "DATETIME                                                                     \n",
       "2008-12-09        Angles            2         2               0          0   \n",
       "2005-07-01     Left Turn            3         2               0          0   \n",
       "2009-06-01    Parked Car            2         2               0          0   \n",
       "2005-11-05     Left Turn            3         2               0          0   \n",
       "2006-08-05        Angles            2         2               0          0   \n",
       "\n",
       "            SPEEDING  SEVERITYCODE  PCOUNT_OVER2  VCOUNT_IS2  RUSHHOUR  \n",
       "DATETIME                                                                \n",
       "2008-12-09         0             1             0           1         0  \n",
       "2005-07-01         0             2             1           1         0  \n",
       "2009-06-01         0             1             0           1         0  \n",
       "2005-11-05         0             1             1           1         0  \n",
       "2006-08-05         0             1             0           1         0  "
      ]
     },
     "execution_count": 77,
     "metadata": {},
     "output_type": "execute_result"
    }
   ],
   "source": [
    "\n",
    "#now lets create a new df with the samples that fall between a time of 00:00:00 and 00:00:01\n",
    "#this represents midnight and one second after midnight, and since the timestamp values only have hours and minutes\n",
    "#it should only capture those samples where not time originally existed and the timestamp defaulted to 00:00:00\n",
    "df2 = df.between_time('00:00:00','00:00:01')\n",
    "print(df2.shape)\n",
    "df2.head()"
   ]
  },
  {
   "cell_type": "code",
   "execution_count": 78,
   "metadata": {},
   "outputs": [
    {
     "name": "stdout",
     "output_type": "stream",
     "text": [
      "(158701, 10)\n"
     ]
    },
    {
     "data": {
      "text/html": [
       "<div>\n",
       "<style scoped>\n",
       "    .dataframe tbody tr th:only-of-type {\n",
       "        vertical-align: middle;\n",
       "    }\n",
       "\n",
       "    .dataframe tbody tr th {\n",
       "        vertical-align: top;\n",
       "    }\n",
       "\n",
       "    .dataframe thead th {\n",
       "        text-align: right;\n",
       "    }\n",
       "</style>\n",
       "<table border=\"1\" class=\"dataframe\">\n",
       "  <thead>\n",
       "    <tr style=\"text-align: right;\">\n",
       "      <th></th>\n",
       "      <th>DATETIME</th>\n",
       "      <th>COLLISIONTYPE</th>\n",
       "      <th>PERSONCOUNT</th>\n",
       "      <th>VEHCOUNT</th>\n",
       "      <th>INATTENTIONIND</th>\n",
       "      <th>UNDERINFL</th>\n",
       "      <th>SPEEDING</th>\n",
       "      <th>SEVERITYCODE</th>\n",
       "      <th>PCOUNT_OVER2</th>\n",
       "      <th>VCOUNT_IS2</th>\n",
       "      <th>RUSHHOUR</th>\n",
       "    </tr>\n",
       "  </thead>\n",
       "  <tbody>\n",
       "    <tr>\n",
       "      <th>0</th>\n",
       "      <td>2013-03-27 14:54:00</td>\n",
       "      <td>Angles</td>\n",
       "      <td>2</td>\n",
       "      <td>2</td>\n",
       "      <td>0</td>\n",
       "      <td>0</td>\n",
       "      <td>0</td>\n",
       "      <td>2</td>\n",
       "      <td>0</td>\n",
       "      <td>1</td>\n",
       "      <td>0</td>\n",
       "    </tr>\n",
       "    <tr>\n",
       "      <th>1</th>\n",
       "      <td>2006-12-20 18:55:00</td>\n",
       "      <td>Sideswipe</td>\n",
       "      <td>2</td>\n",
       "      <td>2</td>\n",
       "      <td>0</td>\n",
       "      <td>0</td>\n",
       "      <td>0</td>\n",
       "      <td>1</td>\n",
       "      <td>0</td>\n",
       "      <td>1</td>\n",
       "      <td>1</td>\n",
       "    </tr>\n",
       "    <tr>\n",
       "      <th>2</th>\n",
       "      <td>2004-11-18 10:20:00</td>\n",
       "      <td>Parked Car</td>\n",
       "      <td>4</td>\n",
       "      <td>3</td>\n",
       "      <td>0</td>\n",
       "      <td>0</td>\n",
       "      <td>0</td>\n",
       "      <td>1</td>\n",
       "      <td>1</td>\n",
       "      <td>0</td>\n",
       "      <td>0</td>\n",
       "    </tr>\n",
       "    <tr>\n",
       "      <th>3</th>\n",
       "      <td>2013-03-29 09:26:00</td>\n",
       "      <td>Other</td>\n",
       "      <td>3</td>\n",
       "      <td>3</td>\n",
       "      <td>0</td>\n",
       "      <td>0</td>\n",
       "      <td>0</td>\n",
       "      <td>1</td>\n",
       "      <td>1</td>\n",
       "      <td>0</td>\n",
       "      <td>0</td>\n",
       "    </tr>\n",
       "    <tr>\n",
       "      <th>4</th>\n",
       "      <td>2004-01-28 08:04:00</td>\n",
       "      <td>Angles</td>\n",
       "      <td>2</td>\n",
       "      <td>2</td>\n",
       "      <td>0</td>\n",
       "      <td>0</td>\n",
       "      <td>0</td>\n",
       "      <td>2</td>\n",
       "      <td>0</td>\n",
       "      <td>1</td>\n",
       "      <td>1</td>\n",
       "    </tr>\n",
       "    <tr>\n",
       "      <th>5</th>\n",
       "      <td>2019-04-20 17:42:00</td>\n",
       "      <td>Angles</td>\n",
       "      <td>2</td>\n",
       "      <td>2</td>\n",
       "      <td>0</td>\n",
       "      <td>0</td>\n",
       "      <td>0</td>\n",
       "      <td>1</td>\n",
       "      <td>0</td>\n",
       "      <td>1</td>\n",
       "      <td>0</td>\n",
       "    </tr>\n",
       "    <tr>\n",
       "      <th>6</th>\n",
       "      <td>2020-04-15 17:47:00</td>\n",
       "      <td>Cycles</td>\n",
       "      <td>3</td>\n",
       "      <td>1</td>\n",
       "      <td>0</td>\n",
       "      <td>0</td>\n",
       "      <td>0</td>\n",
       "      <td>2</td>\n",
       "      <td>1</td>\n",
       "      <td>0</td>\n",
       "      <td>1</td>\n",
       "    </tr>\n",
       "    <tr>\n",
       "      <th>7</th>\n",
       "      <td>2006-06-15 13:00:00</td>\n",
       "      <td>Parked Car</td>\n",
       "      <td>2</td>\n",
       "      <td>2</td>\n",
       "      <td>0</td>\n",
       "      <td>0</td>\n",
       "      <td>0</td>\n",
       "      <td>1</td>\n",
       "      <td>0</td>\n",
       "      <td>1</td>\n",
       "      <td>0</td>\n",
       "    </tr>\n",
       "    <tr>\n",
       "      <th>8</th>\n",
       "      <td>2006-03-20 15:49:00</td>\n",
       "      <td>Angles</td>\n",
       "      <td>2</td>\n",
       "      <td>2</td>\n",
       "      <td>0</td>\n",
       "      <td>0</td>\n",
       "      <td>0</td>\n",
       "      <td>2</td>\n",
       "      <td>0</td>\n",
       "      <td>1</td>\n",
       "      <td>1</td>\n",
       "    </tr>\n",
       "    <tr>\n",
       "      <th>9</th>\n",
       "      <td>2006-05-25 18:20:00</td>\n",
       "      <td>Other</td>\n",
       "      <td>2</td>\n",
       "      <td>2</td>\n",
       "      <td>0</td>\n",
       "      <td>0</td>\n",
       "      <td>0</td>\n",
       "      <td>1</td>\n",
       "      <td>0</td>\n",
       "      <td>1</td>\n",
       "      <td>1</td>\n",
       "    </tr>\n",
       "  </tbody>\n",
       "</table>\n",
       "</div>"
      ],
      "text/plain": [
       "             DATETIME COLLISIONTYPE  PERSONCOUNT  VEHCOUNT  INATTENTIONIND  \\\n",
       "0 2013-03-27 14:54:00        Angles            2         2               0   \n",
       "1 2006-12-20 18:55:00     Sideswipe            2         2               0   \n",
       "2 2004-11-18 10:20:00    Parked Car            4         3               0   \n",
       "3 2013-03-29 09:26:00         Other            3         3               0   \n",
       "4 2004-01-28 08:04:00        Angles            2         2               0   \n",
       "5 2019-04-20 17:42:00        Angles            2         2               0   \n",
       "6 2020-04-15 17:47:00        Cycles            3         1               0   \n",
       "7 2006-06-15 13:00:00    Parked Car            2         2               0   \n",
       "8 2006-03-20 15:49:00        Angles            2         2               0   \n",
       "9 2006-05-25 18:20:00         Other            2         2               0   \n",
       "\n",
       "   UNDERINFL  SPEEDING  SEVERITYCODE  PCOUNT_OVER2  VCOUNT_IS2  RUSHHOUR  \n",
       "0          0         0             2             0           1         0  \n",
       "1          0         0             1             0           1         1  \n",
       "2          0         0             1             1           0         0  \n",
       "3          0         0             1             1           0         0  \n",
       "4          0         0             2             0           1         1  \n",
       "5          0         0             1             0           1         0  \n",
       "6          0         0             2             1           0         1  \n",
       "7          0         0             1             0           1         0  \n",
       "8          0         0             2             0           1         1  \n",
       "9          0         0             1             0           1         1  "
      ]
     },
     "execution_count": 78,
     "metadata": {},
     "output_type": "execute_result"
    }
   ],
   "source": [
    "#by spotchecking the original dataset, we can confirm that the 4 records above were originally lacking a time value\n",
    "#lets overwrite the original dataframe to remove the 25526 rows in df2, where the timestamp is 00:00:00\n",
    "#this can be done by swapping the start and end time values..\n",
    "\n",
    "df = df.between_time('00:00:01','23:59:59')\n",
    "#to check, the number of records should equal the previous size (184227) minus the size of df2 (25526) leaving 158701\n",
    "print(df.shape)\n",
    "#also notice how the old sample in row 6 has been removed and the record now has a timevalue\n",
    "df.reset_index(inplace=True)\n",
    "df.head(10)"
   ]
  },
  {
   "cell_type": "code",
   "execution_count": 79,
   "metadata": {},
   "outputs": [
    {
     "name": "stdout",
     "output_type": "stream",
     "text": [
      "Value counts for removed samples: \n",
      " 1    18193\n",
      "2     7333\n",
      "Name: SEVERITYCODE, dtype: int64\n",
      "Ratio of injury to property collisions for removed samples: \n",
      " 0.4030671137250591\n",
      "Value counts for remaining samples: \n",
      " 1    110649\n",
      "2     48052\n",
      "Name: SEVERITYCODE, dtype: int64\n",
      "Ratio of injury to property collisions for remaining samples: \n",
      " 0.4342741461739374\n"
     ]
    }
   ],
   "source": [
    "\n",
    "#lets check what the distribution of collision severity was for each of the subsets...\n",
    "#for the removed samples in df2\n",
    "df2.reset_index(inplace=True)\n",
    "print('Value counts for removed samples: \\n',df2['SEVERITYCODE'].value_counts())\n",
    "print('Ratio of injury to property collisions for removed samples: \\n',(df2['SEVERITYCODE'].value_counts()[2])/(df2['SEVERITYCODE'].value_counts()[1]))\n",
    "#for the remaining samples in the df\n",
    "print('Value counts for remaining samples: \\n',df['SEVERITYCODE'].value_counts())\n",
    "print('Ratio of injury to property collisions for remaining samples: \\n',(df['SEVERITYCODE'].value_counts()[2])/(df['SEVERITYCODE'].value_counts()[1]))"
   ]
  },
  {
   "cell_type": "code",
   "execution_count": 80,
   "metadata": {},
   "outputs": [
    {
     "data": {
      "text/plain": [
       "DATETIME\n",
       "2004    3583\n",
       "2005    4439\n",
       "2006    4598\n",
       "2007    4335\n",
       "2008    4073\n",
       "2009    3399\n",
       "2010     126\n",
       "2011     626\n",
       "2012      24\n",
       "2013      65\n",
       "2014      54\n",
       "2015      38\n",
       "2016      62\n",
       "2017      31\n",
       "2018      45\n",
       "2019      23\n",
       "2020       5\n",
       "Name: SEVERITYCODE, dtype: int64"
      ]
     },
     "execution_count": 80,
     "metadata": {},
     "output_type": "execute_result"
    }
   ],
   "source": [
    "#lets look at the distribution of the removed samples by year...\n",
    "df2.groupby(df2.DATETIME.dt.year).count()['SEVERITYCODE']"
   ]
  },
  {
   "cell_type": "code",
   "execution_count": 81,
   "metadata": {},
   "outputs": [
    {
     "data": {
      "text/plain": [
       "DATETIME\n",
       "2004     8165\n",
       "2005    10594\n",
       "2006    10559\n",
       "2007    10119\n",
       "2008     9587\n",
       "2009     8335\n",
       "2010    10664\n",
       "2011    10286\n",
       "2012    10201\n",
       "2013     9881\n",
       "2014    11470\n",
       "2015    10411\n",
       "2016    10524\n",
       "2017     8065\n",
       "2018     9854\n",
       "2019     8730\n",
       "2020     1256\n",
       "Name: SEVERITYCODE, dtype: int64"
      ]
     },
     "execution_count": 81,
     "metadata": {},
     "output_type": "execute_result"
    }
   ],
   "source": [
    "\n",
    "#lets look at the distribution for the remaining samples\n",
    "df.groupby(df.DATETIME.dt.year).count()['SEVERITYCODE']"
   ]
  },
  {
   "cell_type": "markdown",
   "metadata": {},
   "source": [
    "### Observations:\n",
    "\n",
    "the ratio of injury to property collisions is slightly higher for the remaining samples, however,     \n",
    "it is still in line with the overall ratio of 0.43 injury collisions for every 1 property collision     \n",
    "the removed samples come overwhelmingly from the years 2004-2009; perhaps historically the time of incident wasn't consistently recorded      \n",
    "there is still ~160k samples remaining in the dataset, which could be used for training/testing     "
   ]
  },
  {
   "cell_type": "code",
   "execution_count": 82,
   "metadata": {},
   "outputs": [
    {
     "name": "stdout",
     "output_type": "stream",
     "text": [
      "(158701, 17)\n"
     ]
    },
    {
     "data": {
      "text/html": [
       "<div>\n",
       "<style scoped>\n",
       "    .dataframe tbody tr th:only-of-type {\n",
       "        vertical-align: middle;\n",
       "    }\n",
       "\n",
       "    .dataframe tbody tr th {\n",
       "        vertical-align: top;\n",
       "    }\n",
       "\n",
       "    .dataframe thead th {\n",
       "        text-align: right;\n",
       "    }\n",
       "</style>\n",
       "<table border=\"1\" class=\"dataframe\">\n",
       "  <thead>\n",
       "    <tr style=\"text-align: right;\">\n",
       "      <th></th>\n",
       "      <th>SEVERITYCODE</th>\n",
       "      <th>RUSHHOUR</th>\n",
       "      <th>PCOUNT_OVER2</th>\n",
       "      <th>VCOUNT_IS2</th>\n",
       "      <th>INATTENTIONIND</th>\n",
       "      <th>UNDERINFL</th>\n",
       "      <th>SPEEDING</th>\n",
       "      <th>Angles</th>\n",
       "      <th>Cycles</th>\n",
       "      <th>Head On</th>\n",
       "      <th>Left Turn</th>\n",
       "      <th>Other</th>\n",
       "      <th>Parked Car</th>\n",
       "      <th>Pedestrian</th>\n",
       "      <th>Rear Ended</th>\n",
       "      <th>Right Turn</th>\n",
       "      <th>Sideswipe</th>\n",
       "    </tr>\n",
       "  </thead>\n",
       "  <tbody>\n",
       "    <tr>\n",
       "      <th>0</th>\n",
       "      <td>2</td>\n",
       "      <td>0</td>\n",
       "      <td>0</td>\n",
       "      <td>1</td>\n",
       "      <td>0</td>\n",
       "      <td>0</td>\n",
       "      <td>0</td>\n",
       "      <td>1</td>\n",
       "      <td>0</td>\n",
       "      <td>0</td>\n",
       "      <td>0</td>\n",
       "      <td>0</td>\n",
       "      <td>0</td>\n",
       "      <td>0</td>\n",
       "      <td>0</td>\n",
       "      <td>0</td>\n",
       "      <td>0</td>\n",
       "    </tr>\n",
       "    <tr>\n",
       "      <th>1</th>\n",
       "      <td>1</td>\n",
       "      <td>1</td>\n",
       "      <td>0</td>\n",
       "      <td>1</td>\n",
       "      <td>0</td>\n",
       "      <td>0</td>\n",
       "      <td>0</td>\n",
       "      <td>0</td>\n",
       "      <td>0</td>\n",
       "      <td>0</td>\n",
       "      <td>0</td>\n",
       "      <td>0</td>\n",
       "      <td>0</td>\n",
       "      <td>0</td>\n",
       "      <td>0</td>\n",
       "      <td>0</td>\n",
       "      <td>1</td>\n",
       "    </tr>\n",
       "    <tr>\n",
       "      <th>2</th>\n",
       "      <td>1</td>\n",
       "      <td>0</td>\n",
       "      <td>1</td>\n",
       "      <td>0</td>\n",
       "      <td>0</td>\n",
       "      <td>0</td>\n",
       "      <td>0</td>\n",
       "      <td>0</td>\n",
       "      <td>0</td>\n",
       "      <td>0</td>\n",
       "      <td>0</td>\n",
       "      <td>0</td>\n",
       "      <td>1</td>\n",
       "      <td>0</td>\n",
       "      <td>0</td>\n",
       "      <td>0</td>\n",
       "      <td>0</td>\n",
       "    </tr>\n",
       "    <tr>\n",
       "      <th>3</th>\n",
       "      <td>1</td>\n",
       "      <td>0</td>\n",
       "      <td>1</td>\n",
       "      <td>0</td>\n",
       "      <td>0</td>\n",
       "      <td>0</td>\n",
       "      <td>0</td>\n",
       "      <td>0</td>\n",
       "      <td>0</td>\n",
       "      <td>0</td>\n",
       "      <td>0</td>\n",
       "      <td>1</td>\n",
       "      <td>0</td>\n",
       "      <td>0</td>\n",
       "      <td>0</td>\n",
       "      <td>0</td>\n",
       "      <td>0</td>\n",
       "    </tr>\n",
       "    <tr>\n",
       "      <th>4</th>\n",
       "      <td>2</td>\n",
       "      <td>1</td>\n",
       "      <td>0</td>\n",
       "      <td>1</td>\n",
       "      <td>0</td>\n",
       "      <td>0</td>\n",
       "      <td>0</td>\n",
       "      <td>1</td>\n",
       "      <td>0</td>\n",
       "      <td>0</td>\n",
       "      <td>0</td>\n",
       "      <td>0</td>\n",
       "      <td>0</td>\n",
       "      <td>0</td>\n",
       "      <td>0</td>\n",
       "      <td>0</td>\n",
       "      <td>0</td>\n",
       "    </tr>\n",
       "  </tbody>\n",
       "</table>\n",
       "</div>"
      ],
      "text/plain": [
       "   SEVERITYCODE  RUSHHOUR  PCOUNT_OVER2  VCOUNT_IS2  INATTENTIONIND  \\\n",
       "0             2         0             0           1               0   \n",
       "1             1         1             0           1               0   \n",
       "2             1         0             1           0               0   \n",
       "3             1         0             1           0               0   \n",
       "4             2         1             0           1               0   \n",
       "\n",
       "   UNDERINFL  SPEEDING  Angles  Cycles  Head On  Left Turn  Other  Parked Car  \\\n",
       "0          0         0       1       0        0          0      0           0   \n",
       "1          0         0       0       0        0          0      0           0   \n",
       "2          0         0       0       0        0          0      0           1   \n",
       "3          0         0       0       0        0          0      1           0   \n",
       "4          0         0       1       0        0          0      0           0   \n",
       "\n",
       "   Pedestrian  Rear Ended  Right Turn  Sideswipe  \n",
       "0           0           0           0          0  \n",
       "1           0           0           0          1  \n",
       "2           0           0           0          0  \n",
       "3           0           0           0          0  \n",
       "4           0           0           0          0  "
      ]
     },
     "execution_count": 82,
     "metadata": {},
     "output_type": "execute_result"
    }
   ],
   "source": [
    "#Then we can compile the final feature set.\n",
    "\n",
    "features_df = df[['SEVERITYCODE','RUSHHOUR','PCOUNT_OVER2','VCOUNT_IS2','INATTENTIONIND','UNDERINFL','SPEEDING']]\n",
    "features_df = pd.concat([features_df,pd.get_dummies(df['COLLISIONTYPE'])], axis=1)\n",
    "print(features_df.shape)\n",
    "features_df.head()"
   ]
  },
  {
   "cell_type": "code",
   "execution_count": null,
   "metadata": {},
   "outputs": [],
   "source": []
  },
  {
   "cell_type": "markdown",
   "metadata": {},
   "source": [
    "## 4.0 Balancing\n",
    "Since there are more than 2x the number of property collisions (majority class) as there are injury collisions (minority class), the dataset should be balanced to avoid introducing bias to any models.\n",
    "\n",
    "There are a number of ways to do this, including:\n",
    "\n",
    "up-sampling the monority class   \n",
    "down-sampling the majority class   \n",
    "using other methods (Decision trees) or metrics (Area Under ROC Curve or Penalization Algorithms)   \n",
    "For this project, we will use a number of these methods.   \n",
    "\n",
    "\n",
    "The model will also be trained using a number of different methods, including a Decision Tree, in order to find the most effective model.   \n",
    "Area under the curve will also be used as an evaluation metric, in addition to accuracy score, jaccard index, f1 and logloss   "
   ]
  },
  {
   "cell_type": "code",
   "execution_count": 83,
   "metadata": {},
   "outputs": [
    {
     "data": {
      "text/plain": [
       "1    110649\n",
       "2     48052\n",
       "Name: SEVERITYCODE, dtype: int64"
      ]
     },
     "execution_count": 83,
     "metadata": {},
     "output_type": "execute_result"
    }
   ],
   "source": [
    "\n",
    "#lets observe how unbalanced the dataset is...\n",
    "features_df['SEVERITYCODE'].value_counts()"
   ]
  },
  {
   "cell_type": "code",
   "execution_count": 84,
   "metadata": {},
   "outputs": [],
   "source": [
    "from sklearn.utils import resample"
   ]
  },
  {
   "cell_type": "code",
   "execution_count": 85,
   "metadata": {},
   "outputs": [
    {
     "name": "stdout",
     "output_type": "stream",
     "text": [
      "Size of majority class:  (110649, 17)\n",
      "Size of minority class:  (48052, 17)\n"
     ]
    }
   ],
   "source": [
    "#create dataframes of the majority and minority classes\n",
    "df_maj = features_df[features_df['SEVERITYCODE']==1]\n",
    "df_min = features_df[features_df['SEVERITYCODE']==2]\n",
    "\n",
    "print('Size of majority class: ', df_maj.shape)\n",
    "print('Size of minority class: ', df_min.shape)"
   ]
  },
  {
   "cell_type": "code",
   "execution_count": 86,
   "metadata": {},
   "outputs": [
    {
     "data": {
      "text/plain": [
       "2    48052\n",
       "1    48052\n",
       "Name: SEVERITYCODE, dtype: int64"
      ]
     },
     "execution_count": 86,
     "metadata": {},
     "output_type": "execute_result"
    }
   ],
   "source": [
    "#downsample the majority class\n",
    "#the number of samples (n_samples) is set to 48052 to match the minority class size\n",
    "df_maj_down = resample(df_maj,replace=False,n_samples=48052,random_state=123)\n",
    "\n",
    "df_bal = pd.concat([df_maj_down,df_min])\n",
    "\n",
    "df_bal['SEVERITYCODE'].value_counts()"
   ]
  },
  {
   "cell_type": "code",
   "execution_count": 87,
   "metadata": {},
   "outputs": [
    {
     "data": {
      "text/html": [
       "<div>\n",
       "<style scoped>\n",
       "    .dataframe tbody tr th:only-of-type {\n",
       "        vertical-align: middle;\n",
       "    }\n",
       "\n",
       "    .dataframe tbody tr th {\n",
       "        vertical-align: top;\n",
       "    }\n",
       "\n",
       "    .dataframe thead th {\n",
       "        text-align: right;\n",
       "    }\n",
       "</style>\n",
       "<table border=\"1\" class=\"dataframe\">\n",
       "  <thead>\n",
       "    <tr style=\"text-align: right;\">\n",
       "      <th></th>\n",
       "      <th>SEVERITYCODE</th>\n",
       "      <th>RUSHHOUR</th>\n",
       "      <th>PCOUNT_OVER2</th>\n",
       "      <th>VCOUNT_IS2</th>\n",
       "      <th>INATTENTIONIND</th>\n",
       "      <th>UNDERINFL</th>\n",
       "      <th>SPEEDING</th>\n",
       "      <th>Angles</th>\n",
       "      <th>Cycles</th>\n",
       "      <th>Head On</th>\n",
       "      <th>Left Turn</th>\n",
       "      <th>Other</th>\n",
       "      <th>Parked Car</th>\n",
       "      <th>Pedestrian</th>\n",
       "      <th>Rear Ended</th>\n",
       "      <th>Right Turn</th>\n",
       "      <th>Sideswipe</th>\n",
       "    </tr>\n",
       "  </thead>\n",
       "  <tbody>\n",
       "    <tr>\n",
       "      <th>0</th>\n",
       "      <td>1</td>\n",
       "      <td>1</td>\n",
       "      <td>0</td>\n",
       "      <td>1</td>\n",
       "      <td>0</td>\n",
       "      <td>0</td>\n",
       "      <td>0</td>\n",
       "      <td>0</td>\n",
       "      <td>0</td>\n",
       "      <td>0</td>\n",
       "      <td>0</td>\n",
       "      <td>0</td>\n",
       "      <td>1</td>\n",
       "      <td>0</td>\n",
       "      <td>0</td>\n",
       "      <td>0</td>\n",
       "      <td>0</td>\n",
       "    </tr>\n",
       "    <tr>\n",
       "      <th>1</th>\n",
       "      <td>1</td>\n",
       "      <td>0</td>\n",
       "      <td>0</td>\n",
       "      <td>1</td>\n",
       "      <td>0</td>\n",
       "      <td>0</td>\n",
       "      <td>0</td>\n",
       "      <td>0</td>\n",
       "      <td>0</td>\n",
       "      <td>0</td>\n",
       "      <td>0</td>\n",
       "      <td>0</td>\n",
       "      <td>1</td>\n",
       "      <td>0</td>\n",
       "      <td>0</td>\n",
       "      <td>0</td>\n",
       "      <td>0</td>\n",
       "    </tr>\n",
       "    <tr>\n",
       "      <th>2</th>\n",
       "      <td>1</td>\n",
       "      <td>1</td>\n",
       "      <td>0</td>\n",
       "      <td>0</td>\n",
       "      <td>0</td>\n",
       "      <td>0</td>\n",
       "      <td>0</td>\n",
       "      <td>0</td>\n",
       "      <td>0</td>\n",
       "      <td>0</td>\n",
       "      <td>0</td>\n",
       "      <td>0</td>\n",
       "      <td>0</td>\n",
       "      <td>1</td>\n",
       "      <td>0</td>\n",
       "      <td>0</td>\n",
       "      <td>0</td>\n",
       "    </tr>\n",
       "    <tr>\n",
       "      <th>3</th>\n",
       "      <td>1</td>\n",
       "      <td>0</td>\n",
       "      <td>0</td>\n",
       "      <td>1</td>\n",
       "      <td>1</td>\n",
       "      <td>0</td>\n",
       "      <td>0</td>\n",
       "      <td>1</td>\n",
       "      <td>0</td>\n",
       "      <td>0</td>\n",
       "      <td>0</td>\n",
       "      <td>0</td>\n",
       "      <td>0</td>\n",
       "      <td>0</td>\n",
       "      <td>0</td>\n",
       "      <td>0</td>\n",
       "      <td>0</td>\n",
       "    </tr>\n",
       "    <tr>\n",
       "      <th>4</th>\n",
       "      <td>1</td>\n",
       "      <td>0</td>\n",
       "      <td>0</td>\n",
       "      <td>1</td>\n",
       "      <td>0</td>\n",
       "      <td>0</td>\n",
       "      <td>0</td>\n",
       "      <td>1</td>\n",
       "      <td>0</td>\n",
       "      <td>0</td>\n",
       "      <td>0</td>\n",
       "      <td>0</td>\n",
       "      <td>0</td>\n",
       "      <td>0</td>\n",
       "      <td>0</td>\n",
       "      <td>0</td>\n",
       "      <td>0</td>\n",
       "    </tr>\n",
       "  </tbody>\n",
       "</table>\n",
       "</div>"
      ],
      "text/plain": [
       "   SEVERITYCODE  RUSHHOUR  PCOUNT_OVER2  VCOUNT_IS2  INATTENTIONIND  \\\n",
       "0             1         1             0           1               0   \n",
       "1             1         0             0           1               0   \n",
       "2             1         1             0           0               0   \n",
       "3             1         0             0           1               1   \n",
       "4             1         0             0           1               0   \n",
       "\n",
       "   UNDERINFL  SPEEDING  Angles  Cycles  Head On  Left Turn  Other  Parked Car  \\\n",
       "0          0         0       0       0        0          0      0           1   \n",
       "1          0         0       0       0        0          0      0           1   \n",
       "2          0         0       0       0        0          0      0           0   \n",
       "3          0         0       1       0        0          0      0           0   \n",
       "4          0         0       1       0        0          0      0           0   \n",
       "\n",
       "   Pedestrian  Rear Ended  Right Turn  Sideswipe  \n",
       "0           0           0           0          0  \n",
       "1           0           0           0          0  \n",
       "2           1           0           0          0  \n",
       "3           0           0           0          0  \n",
       "4           0           0           0          0  "
      ]
     },
     "execution_count": 87,
     "metadata": {},
     "output_type": "execute_result"
    }
   ],
   "source": [
    "df_bal.reset_index(drop=True,inplace=True)\n",
    "df_bal.head()"
   ]
  },
  {
   "cell_type": "code",
   "execution_count": null,
   "metadata": {},
   "outputs": [],
   "source": []
  },
  {
   "cell_type": "code",
   "execution_count": 88,
   "metadata": {},
   "outputs": [
    {
     "data": {
      "text/html": [
       "<div>\n",
       "<style scoped>\n",
       "    .dataframe tbody tr th:only-of-type {\n",
       "        vertical-align: middle;\n",
       "    }\n",
       "\n",
       "    .dataframe tbody tr th {\n",
       "        vertical-align: top;\n",
       "    }\n",
       "\n",
       "    .dataframe thead th {\n",
       "        text-align: right;\n",
       "    }\n",
       "</style>\n",
       "<table border=\"1\" class=\"dataframe\">\n",
       "  <thead>\n",
       "    <tr style=\"text-align: right;\">\n",
       "      <th></th>\n",
       "      <th>RUSHHOUR</th>\n",
       "      <th>PCOUNT_OVER2</th>\n",
       "      <th>VCOUNT_IS2</th>\n",
       "      <th>INATTENTIONIND</th>\n",
       "      <th>UNDERINFL</th>\n",
       "      <th>SPEEDING</th>\n",
       "      <th>Angles</th>\n",
       "      <th>Cycles</th>\n",
       "      <th>Head On</th>\n",
       "      <th>Left Turn</th>\n",
       "      <th>Other</th>\n",
       "      <th>Parked Car</th>\n",
       "      <th>Pedestrian</th>\n",
       "      <th>Rear Ended</th>\n",
       "      <th>Right Turn</th>\n",
       "      <th>Sideswipe</th>\n",
       "    </tr>\n",
       "  </thead>\n",
       "  <tbody>\n",
       "    <tr>\n",
       "      <th>0</th>\n",
       "      <td>1</td>\n",
       "      <td>0</td>\n",
       "      <td>1</td>\n",
       "      <td>0</td>\n",
       "      <td>0</td>\n",
       "      <td>0</td>\n",
       "      <td>0</td>\n",
       "      <td>0</td>\n",
       "      <td>0</td>\n",
       "      <td>0</td>\n",
       "      <td>0</td>\n",
       "      <td>1</td>\n",
       "      <td>0</td>\n",
       "      <td>0</td>\n",
       "      <td>0</td>\n",
       "      <td>0</td>\n",
       "    </tr>\n",
       "    <tr>\n",
       "      <th>1</th>\n",
       "      <td>0</td>\n",
       "      <td>0</td>\n",
       "      <td>1</td>\n",
       "      <td>0</td>\n",
       "      <td>0</td>\n",
       "      <td>0</td>\n",
       "      <td>0</td>\n",
       "      <td>0</td>\n",
       "      <td>0</td>\n",
       "      <td>0</td>\n",
       "      <td>0</td>\n",
       "      <td>1</td>\n",
       "      <td>0</td>\n",
       "      <td>0</td>\n",
       "      <td>0</td>\n",
       "      <td>0</td>\n",
       "    </tr>\n",
       "    <tr>\n",
       "      <th>2</th>\n",
       "      <td>1</td>\n",
       "      <td>0</td>\n",
       "      <td>0</td>\n",
       "      <td>0</td>\n",
       "      <td>0</td>\n",
       "      <td>0</td>\n",
       "      <td>0</td>\n",
       "      <td>0</td>\n",
       "      <td>0</td>\n",
       "      <td>0</td>\n",
       "      <td>0</td>\n",
       "      <td>0</td>\n",
       "      <td>1</td>\n",
       "      <td>0</td>\n",
       "      <td>0</td>\n",
       "      <td>0</td>\n",
       "    </tr>\n",
       "    <tr>\n",
       "      <th>3</th>\n",
       "      <td>0</td>\n",
       "      <td>0</td>\n",
       "      <td>1</td>\n",
       "      <td>1</td>\n",
       "      <td>0</td>\n",
       "      <td>0</td>\n",
       "      <td>1</td>\n",
       "      <td>0</td>\n",
       "      <td>0</td>\n",
       "      <td>0</td>\n",
       "      <td>0</td>\n",
       "      <td>0</td>\n",
       "      <td>0</td>\n",
       "      <td>0</td>\n",
       "      <td>0</td>\n",
       "      <td>0</td>\n",
       "    </tr>\n",
       "    <tr>\n",
       "      <th>4</th>\n",
       "      <td>0</td>\n",
       "      <td>0</td>\n",
       "      <td>1</td>\n",
       "      <td>0</td>\n",
       "      <td>0</td>\n",
       "      <td>0</td>\n",
       "      <td>1</td>\n",
       "      <td>0</td>\n",
       "      <td>0</td>\n",
       "      <td>0</td>\n",
       "      <td>0</td>\n",
       "      <td>0</td>\n",
       "      <td>0</td>\n",
       "      <td>0</td>\n",
       "      <td>0</td>\n",
       "      <td>0</td>\n",
       "    </tr>\n",
       "  </tbody>\n",
       "</table>\n",
       "</div>"
      ],
      "text/plain": [
       "   RUSHHOUR  PCOUNT_OVER2  VCOUNT_IS2  INATTENTIONIND  UNDERINFL  SPEEDING  \\\n",
       "0         1             0           1               0          0         0   \n",
       "1         0             0           1               0          0         0   \n",
       "2         1             0           0               0          0         0   \n",
       "3         0             0           1               1          0         0   \n",
       "4         0             0           1               0          0         0   \n",
       "\n",
       "   Angles  Cycles  Head On  Left Turn  Other  Parked Car  Pedestrian  \\\n",
       "0       0       0        0          0      0           1           0   \n",
       "1       0       0        0          0      0           1           0   \n",
       "2       0       0        0          0      0           0           1   \n",
       "3       1       0        0          0      0           0           0   \n",
       "4       1       0        0          0      0           0           0   \n",
       "\n",
       "   Rear Ended  Right Turn  Sideswipe  \n",
       "0           0           0          0  \n",
       "1           0           0          0  \n",
       "2           0           0          0  \n",
       "3           0           0          0  \n",
       "4           0           0          0  "
      ]
     },
     "execution_count": 88,
     "metadata": {},
     "output_type": "execute_result"
    }
   ],
   "source": [
    "#now that the dataset is balanced, lets create our input feature and target variables..\n",
    "\n",
    "#input features, X\n",
    "X = df_bal.drop('SEVERITYCODE',axis=1)\n",
    "X[0:5]"
   ]
  },
  {
   "cell_type": "code",
   "execution_count": 89,
   "metadata": {},
   "outputs": [
    {
     "data": {
      "text/plain": [
       "0    1\n",
       "1    1\n",
       "2    1\n",
       "3    1\n",
       "4    1\n",
       "Name: SEVERITYCODE, dtype: int64"
      ]
     },
     "execution_count": 89,
     "metadata": {},
     "output_type": "execute_result"
    }
   ],
   "source": [
    "y = df_bal['SEVERITYCODE']\n",
    "y[0:5]"
   ]
  },
  {
   "cell_type": "markdown",
   "metadata": {},
   "source": [
    "## 5.0 Modeling\n",
    "Now that the data is cleansed, processed and balanced, some Machine Learning models can be trained. Since this project is dealing with classification, several different methods will be used, including:  \n",
    "\n",
    "K Nearest Neighbor  \n",
    "Decision Tree  \n",
    "Support Vector Machines   \n",
    "Logistic Regression   \n",
    "First the data will be separated into train and test subsets. Some specific parameter tuning will be completed for each of the model types. Then the models will be evaluated using:\n",
    "\n",
    "Simple accuracy score   \n",
    "Jaccard index  \n",
    "F1-score  \n",
    "Log-loss  \n",
    "Area Under the ROC Curve   \n",
    "Note: since processed feature set is all one-hot encoding (0s and 1s) the input variables do not need to be normalized"
   ]
  },
  {
   "cell_type": "code",
   "execution_count": 90,
   "metadata": {},
   "outputs": [],
   "source": [
    "#import the test-train method from sklearn and split the data.. this is necessary for all of the models\n",
    "from sklearn.model_selection import train_test_split\n",
    "from sklearn import metrics\n",
    "import itertools"
   ]
  },
  {
   "cell_type": "code",
   "execution_count": 91,
   "metadata": {},
   "outputs": [
    {
     "name": "stdout",
     "output_type": "stream",
     "text": [
      "Train set: (67272, 16) (67272,)\n",
      "Test set: (28832, 16) (28832,)\n"
     ]
    }
   ],
   "source": [
    "\n",
    "#using the test_train method, create test and train subsets of X and y\n",
    "X_train, X_test, y_train, y_test = train_test_split(X, y, test_size=0.30, random_state=4)\n",
    "print ('Train set:', X_train.shape,  y_train.shape)\n",
    "print ('Test set:', X_test.shape,  y_test.shape)"
   ]
  },
  {
   "cell_type": "markdown",
   "metadata": {},
   "source": [
    "# 5.0 MODELLING"
   ]
  },
  {
   "cell_type": "code",
   "execution_count": null,
   "metadata": {},
   "outputs": [],
   "source": []
  },
  {
   "cell_type": "markdown",
   "metadata": {},
   "source": [
    "###  5 Logistic Regression\n",
    "For this algorithm we will look at modeling with liblinear, newton-cg and sag solvers. Some tuning may be required for the C parameter which controls regularization"
   ]
  },
  {
   "cell_type": "code",
   "execution_count": 92,
   "metadata": {},
   "outputs": [],
   "source": [
    "from sklearn.linear_model import LogisticRegression\n",
    "from sklearn.metrics import classification_report, confusion_matrix\n",
    "from sklearn.metrics import f1_score\n",
    "from sklearn.metrics import log_loss\n",
    "from sklearn.metrics import jaccard_similarity_score as jaccard_score"
   ]
  },
  {
   "cell_type": "code",
   "execution_count": 93,
   "metadata": {},
   "outputs": [],
   "source": [
    "targetNames = df_bal['SEVERITYCODE'].unique().tolist()"
   ]
  },
  {
   "cell_type": "markdown",
   "metadata": {},
   "source": [
    "#### 5.1.a LR model using the liblinear solver"
   ]
  },
  {
   "cell_type": "code",
   "execution_count": null,
   "metadata": {},
   "outputs": [],
   "source": []
  },
  {
   "cell_type": "code",
   "execution_count": 94,
   "metadata": {},
   "outputs": [
    {
     "name": "stdout",
     "output_type": "stream",
     "text": [
      "Jaccard similarity for liblinear Logistic Regression:  0.7042869034406215\n",
      "Logloss for liblinear Logistic Regression:  0.5427897193198256\n",
      "Test Accuracy for liblinear:  0.7042869034406215\n",
      "[[ 8263  6121]\n",
      " [ 2405 12043]]\n",
      "              precision    recall  f1-score   support\n",
      "\n",
      "           1       0.77      0.57      0.66     14384\n",
      "           2       0.66      0.83      0.74     14448\n",
      "\n",
      "   micro avg       0.70      0.70      0.70     28832\n",
      "   macro avg       0.72      0.70      0.70     28832\n",
      "weighted avg       0.72      0.70      0.70     28832\n",
      "\n"
     ]
    }
   ],
   "source": [
    "#train an LR model using the liblinear solver\n",
    "LR_lib = LogisticRegression(C=0.01, solver='liblinear').fit(X_train,y_train)\n",
    "lib_pred = LR_lib.predict(X_test)\n",
    "lib_prob = LR_lib.predict_proba(X_test)\n",
    "print('Jaccard similarity for liblinear Logistic Regression: ', jaccard_score(y_test, lib_pred))\n",
    "print('Logloss for liblinear Logistic Regression: ', log_loss(y_test, lib_prob))\n",
    "print('Test Accuracy for liblinear: ',metrics.accuracy_score(y_test,lib_pred))\n",
    "print(confusion_matrix(y_test,lib_pred,labels=targetNames))\n",
    "print(classification_report(y_test,lib_pred))"
   ]
  },
  {
   "cell_type": "markdown",
   "metadata": {},
   "source": [
    "### 5.1.b : LR model using the newton-cg solver"
   ]
  },
  {
   "cell_type": "code",
   "execution_count": 95,
   "metadata": {},
   "outputs": [
    {
     "name": "stdout",
     "output_type": "stream",
     "text": [
      "Jaccard similarity for Newton-cg Logistic Regression:  0.7042869034406215\n",
      "Logloss for Newtong-cg Logistic Regression:  0.542792544122466\n",
      "Test Accuracy for Newton-cg:  0.7042869034406215\n",
      "[[ 8263  6121]\n",
      " [ 2405 12043]]\n",
      "              precision    recall  f1-score   support\n",
      "\n",
      "           1       0.77      0.57      0.66     14384\n",
      "           2       0.66      0.83      0.74     14448\n",
      "\n",
      "   micro avg       0.70      0.70      0.70     28832\n",
      "   macro avg       0.72      0.70      0.70     28832\n",
      "weighted avg       0.72      0.70      0.70     28832\n",
      "\n"
     ]
    }
   ],
   "source": [
    "#train an LR model using the newton-cg solver\n",
    "LR_newt = LogisticRegression(C=0.01, solver='newton-cg').fit(X_train,y_train)\n",
    "newt_pred = LR_newt.predict(X_test)\n",
    "newt_prob = LR_newt.predict_proba(X_test)\n",
    "print('Jaccard similarity for Newton-cg Logistic Regression: ', jaccard_score(y_test, newt_pred))\n",
    "print('Logloss for Newtong-cg Logistic Regression: ', log_loss(y_test, newt_prob))\n",
    "print('Test Accuracy for Newton-cg: ',metrics.accuracy_score(y_test,newt_pred))\n",
    "print(confusion_matrix(y_test,newt_pred,labels=targetNames))\n",
    "print(classification_report(y_test,newt_pred))"
   ]
  },
  {
   "cell_type": "markdown",
   "metadata": {},
   "source": [
    "### 5.1.c : LR model using the sag3 solver"
   ]
  },
  {
   "cell_type": "code",
   "execution_count": 96,
   "metadata": {},
   "outputs": [
    {
     "name": "stdout",
     "output_type": "stream",
     "text": [
      "Jaccard similarity for sag Logistic Regression:  0.7042869034406215\n",
      "Logloss for sag Logistic Regression:  0.5427926903579121\n",
      "Test Accuracy for sag:  0.7042869034406215\n",
      "[[ 8263  6121]\n",
      " [ 2405 12043]]\n",
      "              precision    recall  f1-score   support\n",
      "\n",
      "           1       0.77      0.57      0.66     14384\n",
      "           2       0.66      0.83      0.74     14448\n",
      "\n",
      "   micro avg       0.70      0.70      0.70     28832\n",
      "   macro avg       0.72      0.70      0.70     28832\n",
      "weighted avg       0.72      0.70      0.70     28832\n",
      "\n"
     ]
    }
   ],
   "source": [
    "#train an LR model using the sag solver\n",
    "LR_sag = LogisticRegression(C=0.01, solver='sag').fit(X_train,y_train)\n",
    "sag_pred = LR_sag.predict(X_test)\n",
    "sag_prob = LR_sag.predict_proba(X_test)\n",
    "print('Jaccard similarity for sag Logistic Regression: ', jaccard_score(y_test, sag_pred))\n",
    "print('Logloss for sag Logistic Regression: ', log_loss(y_test, sag_prob))\n",
    "print('Test Accuracy for sag: ',metrics.accuracy_score(y_test,sag_pred))\n",
    "print(confusion_matrix(y_test,sag_pred,labels=targetNames))\n",
    "print(classification_report(y_test,sag_pred))"
   ]
  },
  {
   "cell_type": "markdown",
   "metadata": {},
   "source": [
    "### Observation: the liblinear solver achieves slightly better Jaccard, Log-loss and simple accuracy scores.\n",
    "Additionally, we see from looking at the confusion matrix that the liblinear model is slightly more balanced in predicting samples between the two classes.     \n",
    "Lets look at whether we have the most optimum C value."
   ]
  },
  {
   "cell_type": "code",
   "execution_count": 97,
   "metadata": {},
   "outputs": [
    {
     "data": {
      "image/png": "[encoded data removed]",
      "text/plain": [
       "<Figure size 432x288 with 1 Axes>"
      ]
     },
     "metadata": {
      "needs_background": "light"
     },
     "output_type": "display_data"
    },
    {
     "name": "stdout",
     "output_type": "stream",
     "text": [
      "The best result is 0.5412554480316208 where C= 0.06999999999999999\n"
     ]
    }
   ],
   "source": [
    "#set up a for loop to iterate through multiple values for the C parameter\n",
    "c_par = np.linspace(0.01,0.5,50) #set the C values that will be looped, 50 increments between C=0.01 and C=0.5\n",
    "\n",
    "mean_log = np.zeros((len(c_par)))\n",
    "\n",
    "for n in range(0,len(c_par)):\n",
    "    LR_itr = LogisticRegression(C=c_par[n],solver='liblinear').fit(X_train,y_train)\n",
    "    itr_prob = LR_itr.predict_proba(X_test)\n",
    "    mean_log[n] = log_loss(y_test,itr_prob)\n",
    "    \n",
    "plt.plot(c_par,mean_log,'g')\n",
    "plt.title('Log-loss vs C parameter for Liblinear Logistic Regression')\n",
    "plt.ylabel('Log-loss')\n",
    "plt.xlabel('C value')\n",
    "plt.tight_layout()\n",
    "plt.show()\n",
    "\n",
    "print('The best result is', mean_log.min(), 'where C=', c_par[mean_log.argmin()])"
   ]
  },
  {
   "cell_type": "code",
   "execution_count": 98,
   "metadata": {},
   "outputs": [
    {
     "name": "stdout",
     "output_type": "stream",
     "text": [
      "Jaccard similarity for Logistic Regression with C=0.14:  0.7047377913429522\n",
      "Logloss for Logistic Regression with C=0.14:  0.5412554374126958\n",
      "Test Accuracy for LR with C=0.14:  0.7047377913429522\n",
      "[[ 8418  5966]\n",
      " [ 2547 11901]]\n",
      "              precision    recall  f1-score   support\n",
      "\n",
      "           1       0.77      0.59      0.66     14384\n",
      "           2       0.67      0.82      0.74     14448\n",
      "\n",
      "   micro avg       0.70      0.70      0.70     28832\n",
      "   macro avg       0.72      0.70      0.70     28832\n",
      "weighted avg       0.72      0.70      0.70     28832\n",
      "\n"
     ]
    }
   ],
   "source": [
    "LR_check = LogisticRegression(C=0.0699, solver='liblinear').fit(X_train,y_train)\n",
    "pred_check = LR_check.predict(X_test)\n",
    "prob_check = LR_check.predict_proba(X_test)\n",
    "\n",
    "#evaluation metrics\n",
    "print('Jaccard similarity for Logistic Regression with C=0.14: ', jaccard_score(y_test, pred_check))\n",
    "print('Logloss for Logistic Regression with C=0.14: ', log_loss(y_test, prob_check))\n",
    "print('Test Accuracy for LR with C=0.14: ',metrics.accuracy_score(y_test,pred_check))\n",
    "print(confusion_matrix(y_test,pred_check,labels=targetNames))\n",
    "print(classification_report(y_test,pred_check))"
   ]
  },
  {
   "cell_type": "code",
   "execution_count": 99,
   "metadata": {},
   "outputs": [
    {
     "name": "stdout",
     "output_type": "stream",
     "text": [
      "Test set accuracy:  0.7042869034406215\n",
      "Train set accuracy:  0.7041562611487692\n"
     ]
    }
   ],
   "source": [
    "#when comparing this to the original liblibear model (C=0.01), while the log-loss metric is improved, the jaccard\n",
    "#and accuracy scores were slightly worse, and the confusion matrix had fewer correct predictions in both classes\n",
    "\n",
    "#therefore, we'll keep the liblinear model with C=0.01 for final comparison with the other algorithms\n",
    "\n",
    "LR_opt = LogisticRegression(C=0.01, solver='liblinear').fit(X_train,y_train)\n",
    "lr_pred = LR_opt.predict(X_test)\n",
    "lr_prob = LR_opt.predict_proba(X_test)\n",
    "\n",
    "print('Test set accuracy: ',metrics.accuracy_score(y_test,lr_pred))\n",
    "print('Train set accuracy: ',metrics.accuracy_score(y_train,LR_opt.predict(X_train)))"
   ]
  },
  {
   "cell_type": "markdown",
   "metadata": {},
   "source": [
    "# cross validation like KFold and Hyperparameter"
   ]
  },
  {
   "cell_type": "code",
   "execution_count": 101,
   "metadata": {},
   "outputs": [],
   "source": [
    "from sklearn.linear_model import LogisticRegression\n",
    "from sklearn.metrics import accuracy_score,confusion_matrix,classification_report\n",
    "from sklearn.model_selection import KFold,GridSearchCV\n",
    "import numpy as np"
   ]
  },
  {
   "cell_type": "code",
   "execution_count": 102,
   "metadata": {},
   "outputs": [],
   "source": [
    "log_class = LogisticRegression()"
   ]
  },
  {
   "cell_type": "code",
   "execution_count": 103,
   "metadata": {},
   "outputs": [],
   "source": [
    "grid ={'C' : 10.0** np.arange(-2,3), 'penalty' :['l1','l2']}"
   ]
  },
  {
   "cell_type": "code",
   "execution_count": 104,
   "metadata": {},
   "outputs": [],
   "source": [
    "cv = KFold(n_splits= 5 , random_state =None, shuffle=False)"
   ]
  },
  {
   "cell_type": "code",
   "execution_count": 105,
   "metadata": {},
   "outputs": [],
   "source": [
    "from sklearn.model_selection import train_test_split"
   ]
  },
  {
   "cell_type": "code",
   "execution_count": 106,
   "metadata": {},
   "outputs": [],
   "source": [
    "X_train,X_test,y_train,y_test = train_test_split(X,y,train_size =0.7)"
   ]
  },
  {
   "cell_type": "code",
   "execution_count": 107,
   "metadata": {},
   "outputs": [],
   "source": [
    "clf = GridSearchCV(log_class,grid,cv=cv,n_jobs =-1 , scoring='f1_macro')"
   ]
  },
  {
   "cell_type": "code",
   "execution_count": 108,
   "metadata": {},
   "outputs": [
    {
     "data": {
      "text/plain": [
       "GridSearchCV(cv=KFold(n_splits=5, random_state=None, shuffle=False),\n",
       "       error_score='raise-deprecating',\n",
       "       estimator=LogisticRegression(C=1.0, class_weight=None, dual=False, fit_intercept=True,\n",
       "          intercept_scaling=1, max_iter=100, multi_class='warn',\n",
       "          n_jobs=None, penalty='l2', random_state=None, solver='warn',\n",
       "          tol=0.0001, verbose=0, warm_start=False),\n",
       "       fit_params=None, iid='warn', n_jobs=-1,\n",
       "       param_grid={'C': array([1.e-02, 1.e-01, 1.e+00, 1.e+01, 1.e+02]), 'penalty': ['l1', 'l2']},\n",
       "       pre_dispatch='2*n_jobs', refit=True, return_train_score='warn',\n",
       "       scoring='f1_macro', verbose=0)"
      ]
     },
     "execution_count": 108,
     "metadata": {},
     "output_type": "execute_result"
    }
   ],
   "source": [
    "clf.fit(X_train,y_train)"
   ]
  },
  {
   "cell_type": "code",
   "execution_count": 109,
   "metadata": {},
   "outputs": [],
   "source": [
    "y_pred = clf.predict(X_test)"
   ]
  },
  {
   "cell_type": "code",
   "execution_count": 110,
   "metadata": {},
   "outputs": [
    {
     "name": "stdout",
     "output_type": "stream",
     "text": [
      "[[ 8789  5660]\n",
      " [ 2950 11433]]\n"
     ]
    }
   ],
   "source": [
    "print(confusion_matrix(y_test,y_pred))"
   ]
  },
  {
   "cell_type": "code",
   "execution_count": 111,
   "metadata": {},
   "outputs": [
    {
     "name": "stdout",
     "output_type": "stream",
     "text": [
      "0.7013734739178691\n",
      "              precision    recall  f1-score   support\n",
      "\n",
      "           1       0.75      0.61      0.67     14449\n",
      "           2       0.67      0.79      0.73     14383\n",
      "\n",
      "   micro avg       0.70      0.70      0.70     28832\n",
      "   macro avg       0.71      0.70      0.70     28832\n",
      "weighted avg       0.71      0.70      0.70     28832\n",
      "\n"
     ]
    }
   ],
   "source": [
    "print(accuracy_score(y_test,y_pred))\n",
    "print(classification_report(y_test,y_pred))"
   ]
  },
  {
   "cell_type": "markdown",
   "metadata": {},
   "source": [
    "# Random Forest Classifier"
   ]
  },
  {
   "cell_type": "code",
   "execution_count": 112,
   "metadata": {},
   "outputs": [],
   "source": [
    "from sklearn.ensemble import  RandomForestClassifier"
   ]
  },
  {
   "cell_type": "code",
   "execution_count": 113,
   "metadata": {},
   "outputs": [
    {
     "data": {
      "text/plain": [
       "RandomForestClassifier(bootstrap=True, class_weight=None, criterion='gini',\n",
       "            max_depth=None, max_features='auto', max_leaf_nodes=None,\n",
       "            min_impurity_decrease=0.0, min_impurity_split=None,\n",
       "            min_samples_leaf=1, min_samples_split=2,\n",
       "            min_weight_fraction_leaf=0.0, n_estimators=10, n_jobs=None,\n",
       "            oob_score=False, random_state=None, verbose=0,\n",
       "            warm_start=False)"
      ]
     },
     "execution_count": 113,
     "metadata": {},
     "output_type": "execute_result"
    }
   ],
   "source": [
    "classifier = RandomForestClassifier()\n",
    "classifier.fit(X_train,y_train)"
   ]
  },
  {
   "cell_type": "code",
   "execution_count": 114,
   "metadata": {
    "scrolled": true
   },
   "outputs": [
    {
     "name": "stdout",
     "output_type": "stream",
     "text": [
      "[[ 8498  5951]\n",
      " [ 2639 11744]]\n",
      "0.7020671476137624\n",
      "              precision    recall  f1-score   support\n",
      "\n",
      "           1       0.76      0.59      0.66     14449\n",
      "           2       0.66      0.82      0.73     14383\n",
      "\n",
      "   micro avg       0.70      0.70      0.70     28832\n",
      "   macro avg       0.71      0.70      0.70     28832\n",
      "weighted avg       0.71      0.70      0.70     28832\n",
      "\n"
     ]
    }
   ],
   "source": [
    "y_pred  = classifier.predict(X_test)\n",
    "print(confusion_matrix(y_test, y_pred))\n",
    "print(accuracy_score(y_test,y_pred))\n",
    "print(classification_report(y_test,y_pred))"
   ]
  },
  {
   "cell_type": "code",
   "execution_count": 115,
   "metadata": {},
   "outputs": [
    {
     "data": {
      "text/plain": [
       "2    33669\n",
       "1    33603\n",
       "Name: SEVERITYCODE, dtype: int64"
      ]
     },
     "execution_count": 115,
     "metadata": {},
     "output_type": "execute_result"
    }
   ],
   "source": [
    "y_train.value_counts()"
   ]
  },
  {
   "cell_type": "code",
   "execution_count": 120,
   "metadata": {},
   "outputs": [],
   "source": [
    "X_train,X_test,y_train,y_test = train_test_split(X,y,train_size =0.7)"
   ]
  },
  {
   "cell_type": "code",
   "execution_count": 122,
   "metadata": {},
   "outputs": [],
   "source": [
    "class_weight = dict({1:2,1:1})"
   ]
  },
  {
   "cell_type": "markdown",
   "metadata": {},
   "source": [
    "## Modeling"
   ]
  },
  {
   "cell_type": "code",
   "execution_count": 123,
   "metadata": {},
   "outputs": [
    {
     "data": {
      "text/plain": [
       "RandomForestClassifier(bootstrap=True, class_weight={1: 1}, criterion='gini',\n",
       "            max_depth=None, max_features='auto', max_leaf_nodes=None,\n",
       "            min_impurity_decrease=0.0, min_impurity_split=None,\n",
       "            min_samples_leaf=1, min_samples_split=2,\n",
       "            min_weight_fraction_leaf=0.0, n_estimators=10, n_jobs=None,\n",
       "            oob_score=False, random_state=None, verbose=0,\n",
       "            warm_start=False)"
      ]
     },
     "execution_count": 123,
     "metadata": {},
     "output_type": "execute_result"
    }
   ],
   "source": [
    "classifier = RandomForestClassifier (class_weight = class_weight)\n",
    "classifier.fit(X_train,y_train)"
   ]
  },
  {
   "cell_type": "markdown",
   "metadata": {},
   "source": [
    "### Prediction\n",
    "Let's make some predictions on the testing dataset "
   ]
  },
  {
   "cell_type": "code",
   "execution_count": 124,
   "metadata": {},
   "outputs": [
    {
     "name": "stdout",
     "output_type": "stream",
     "text": [
      "[[ 8449  5975]\n",
      " [ 2496 11912]]\n",
      "0.7061945061043285\n",
      "              precision    recall  f1-score   support\n",
      "\n",
      "           1       0.77      0.59      0.67     14424\n",
      "           2       0.67      0.83      0.74     14408\n",
      "\n",
      "   micro avg       0.71      0.71      0.71     28832\n",
      "   macro avg       0.72      0.71      0.70     28832\n",
      "weighted avg       0.72      0.71      0.70     28832\n",
      "\n"
     ]
    }
   ],
   "source": [
    "y_pred  = classifier.predict(X_test)\n",
    "print(confusion_matrix(y_test, y_pred))\n",
    "print(accuracy_score(y_test,y_pred))\n",
    "print(classification_report(y_test,y_pred))"
   ]
  },
  {
   "cell_type": "code",
   "execution_count": 125,
   "metadata": {},
   "outputs": [
    {
     "data": {
      "text/plain": [
       "2    33644\n",
       "1    33628\n",
       "Name: SEVERITYCODE, dtype: int64"
      ]
     },
     "execution_count": 125,
     "metadata": {},
     "output_type": "execute_result"
    }
   ],
   "source": [
    "y_train.value_counts()"
   ]
  },
  {
   "cell_type": "code",
   "execution_count": null,
   "metadata": {},
   "outputs": [],
   "source": [
    "#git clone https://github.com/scikit-learn-contrib/imbalanced-learn.git\n",
    "# cd imbalanced-learn"
   ]
  },
  {
   "cell_type": "code",
   "execution_count": null,
   "metadata": {},
   "outputs": [],
   "source": [
    "#install imbalanced-learn"
   ]
  },
  {
   "cell_type": "code",
   "execution_count": null,
   "metadata": {},
   "outputs": [],
   "source": [
    "from imblearn import under_sampling"
   ]
  },
  {
   "cell_type": "markdown",
   "metadata": {},
   "source": [
    "# under sampling"
   ]
  },
  {
   "cell_type": "code",
   "execution_count": 128,
   "metadata": {},
   "outputs": [
    {
     "ename": "ModuleNotFoundError",
     "evalue": "No module named 'imblearn'",
     "output_type": "error",
     "traceback": [
      "\u001b[0;31m---------------------------------------------------------------------------\u001b[0m",
      "\u001b[0;31mModuleNotFoundError\u001b[0m                       Traceback (most recent call last)",
      "\u001b[0;32m<ipython-input-128-282b6b09d6fb>\u001b[0m in \u001b[0;36m<module>\u001b[0;34m\u001b[0m\n\u001b[0;32m----> 1\u001b[0;31m \u001b[0;32mfrom\u001b[0m \u001b[0mimblearn\u001b[0m \u001b[0;32mimport\u001b[0m \u001b[0munder_sampling\u001b[0m\u001b[0;34m,\u001b[0m \u001b[0mover_sampling\u001b[0m\u001b[0;34m\u001b[0m\u001b[0;34m\u001b[0m\u001b[0m\n\u001b[0m\u001b[1;32m      2\u001b[0m \u001b[0;32mfrom\u001b[0m \u001b[0mimblearn\u001b[0m\u001b[0;34m.\u001b[0m\u001b[0mover_sampling\u001b[0m \u001b[0;32mimport\u001b[0m \u001b[0mSMOTE\u001b[0m\u001b[0;34m\u001b[0m\u001b[0;34m\u001b[0m\u001b[0m\n\u001b[1;32m      3\u001b[0m \u001b[0;32mfrom\u001b[0m \u001b[0mimblearn\u001b[0m\u001b[0;34m.\u001b[0m\u001b[0munder_sampling\u001b[0m \u001b[0;32mimport\u001b[0m \u001b[0mNearMiss\u001b[0m\u001b[0;34m\u001b[0m\u001b[0;34m\u001b[0m\u001b[0m\n\u001b[1;32m      4\u001b[0m \u001b[0;32mfrom\u001b[0m \u001b[0mcollections\u001b[0m \u001b[0;32mimport\u001b[0m \u001b[0mCounter\u001b[0m\u001b[0;34m\u001b[0m\u001b[0;34m\u001b[0m\u001b[0m\n",
      "\u001b[0;31mModuleNotFoundError\u001b[0m: No module named 'imblearn'"
     ]
    }
   ],
   "source": [
    "from imblearn import under_sampling, over_sampling\n",
    "from imblearn.over_sampling import SMOTE\n",
    "from imblearn.under_sampling import NearMiss\n",
    "from collections import Counter"
   ]
  },
  {
   "cell_type": "markdown",
   "metadata": {},
   "source": [
    "# Decision Tree"
   ]
  },
  {
   "cell_type": "code",
   "execution_count": 141,
   "metadata": {},
   "outputs": [],
   "source": [
    "from sklearn.model_selection import train_test_split\n",
    "import numpy as np \n",
    "import pandas as pd\n",
    "from sklearn.tree import DecisionTreeClassifier\n"
   ]
  },
  {
   "cell_type": "code",
   "execution_count": 145,
   "metadata": {},
   "outputs": [],
   "source": [
    "X_trainset, X_testset, y_trainset, y_testset = train_test_split(X, y, test_size=0.3, random_state=3)"
   ]
  },
  {
   "cell_type": "markdown",
   "metadata": {},
   "source": [
    "Now <b> train_test_split </b> will return 4 different parameters. We will name them:<br>\n",
    "X_trainset, X_testset, y_trainset, y_testset <br> <br>\n",
    "The <b> train_test_split </b> will need the parameters: <br>\n",
    "X, y, test_size=0.3, and random_state=3. <br> <br>\n",
    "The <b>X</b> and <b>y</b> are the arrays required before the split, the <b>test_size</b> represents the ratio of the testing dataset, and the <b>random_state</b> ensures that we obtain the same splits."
   ]
  },
  {
   "cell_type": "markdown",
   "metadata": {},
   "source": [
    "## Modeling "
   ]
  },
  {
   "cell_type": "code",
   "execution_count": 146,
   "metadata": {},
   "outputs": [
    {
     "data": {
      "text/plain": [
       "DecisionTreeClassifier(class_weight=None, criterion='entropy', max_depth=4,\n",
       "            max_features=None, max_leaf_nodes=None,\n",
       "            min_impurity_decrease=0.0, min_impurity_split=None,\n",
       "            min_samples_leaf=1, min_samples_split=2,\n",
       "            min_weight_fraction_leaf=0.0, presort=False, random_state=None,\n",
       "            splitter='best')"
      ]
     },
     "execution_count": 146,
     "metadata": {},
     "output_type": "execute_result"
    }
   ],
   "source": [
    "drugTree = DecisionTreeClassifier(criterion=\"entropy\", max_depth = 4)\n",
    "drugTree # it shows the default parameters"
   ]
  },
  {
   "cell_type": "code",
   "execution_count": 147,
   "metadata": {},
   "outputs": [
    {
     "data": {
      "text/plain": [
       "DecisionTreeClassifier(class_weight=None, criterion='entropy', max_depth=4,\n",
       "            max_features=None, max_leaf_nodes=None,\n",
       "            min_impurity_decrease=0.0, min_impurity_split=None,\n",
       "            min_samples_leaf=1, min_samples_split=2,\n",
       "            min_weight_fraction_leaf=0.0, presort=False, random_state=None,\n",
       "            splitter='best')"
      ]
     },
     "execution_count": 147,
     "metadata": {},
     "output_type": "execute_result"
    }
   ],
   "source": [
    "drugTree.fit(X_trainset,y_trainset)"
   ]
  },
  {
   "cell_type": "markdown",
   "metadata": {},
   "source": [
    "# Prediction\n",
    "Let's make some predictions on the testing dataset and store it into a variable called predTree."
   ]
  },
  {
   "cell_type": "code",
   "execution_count": 148,
   "metadata": {},
   "outputs": [],
   "source": [
    "predTree = drugTree.predict(X_testset)"
   ]
  },
  {
   "cell_type": "code",
   "execution_count": 149,
   "metadata": {},
   "outputs": [
    {
     "name": "stdout",
     "output_type": "stream",
     "text": [
      "[1 2 2 2 2]\n",
      "16073    1\n",
      "92833    2\n",
      "81429    2\n",
      "62241    2\n",
      "54804    2\n",
      "Name: SEVERITYCODE, dtype: int64\n"
     ]
    }
   ],
   "source": [
    "print (predTree [0:5])\n",
    "print (y_testset [0:5])"
   ]
  },
  {
   "cell_type": "markdown",
   "metadata": {},
   "source": [
    "# Evaluation \n",
    "Next, let's import metrics from sklearn and check the accuracy of our model."
   ]
  },
  {
   "cell_type": "code",
   "execution_count": 150,
   "metadata": {},
   "outputs": [
    {
     "name": "stdout",
     "output_type": "stream",
     "text": [
      "DecisionTrees's Accuracy:  0.6799042730299667\n"
     ]
    }
   ],
   "source": [
    "from sklearn import metrics\n",
    "import matplotlib.pyplot as plt\n",
    "print(\"DecisionTrees's Accuracy: \", metrics.accuracy_score(y_testset, predTree))"
   ]
  },
  {
   "cell_type": "markdown",
   "metadata": {},
   "source": [
    "# KNN"
   ]
  },
  {
   "cell_type": "markdown",
   "metadata": {},
   "source": [
    "Classification\n",
    "K nearest neighbor (KNN)\n",
    "Import library\n",
    "Classifier implementing the k-nearest neighbors vote."
   ]
  },
  {
   "cell_type": "code",
   "execution_count": 151,
   "metadata": {},
   "outputs": [],
   "source": [
    "from sklearn.neighbors import KNeighborsClassifier"
   ]
  },
  {
   "cell_type": "markdown",
   "metadata": {},
   "source": [
    "Training\n",
    "Lets start the algorithm with k=4 for now:"
   ]
  },
  {
   "cell_type": "code",
   "execution_count": 152,
   "metadata": {},
   "outputs": [
    {
     "name": "stdout",
     "output_type": "stream",
     "text": [
      "Train set: (76883, 16) (76883,)\n",
      "Test set: (19221, 16) (19221,)\n"
     ]
    }
   ],
   "source": [
    "from sklearn.model_selection import train_test_split\n",
    "X_train, X_test, y_train, y_test = train_test_split( X, y, test_size=0.2, random_state=4)\n",
    "print ('Train set:', X_train.shape,  y_train.shape)\n",
    "print ('Test set:', X_test.shape,  y_test.shape)"
   ]
  },
  {
   "cell_type": "code",
   "execution_count": 153,
   "metadata": {},
   "outputs": [
    {
     "data": {
      "text/plain": [
       "KNeighborsClassifier(algorithm='auto', leaf_size=30, metric='minkowski',\n",
       "           metric_params=None, n_jobs=None, n_neighbors=4, p=2,\n",
       "           weights='uniform')"
      ]
     },
     "execution_count": 153,
     "metadata": {},
     "output_type": "execute_result"
    }
   ],
   "source": [
    "k = 4\n",
    "#Train Model and Predict  \n",
    "neigh = KNeighborsClassifier(n_neighbors = k).fit(X_train,y_train)\n",
    "neigh"
   ]
  },
  {
   "cell_type": "markdown",
   "metadata": {},
   "source": [
    "Predicting\n",
    "we can use the model to predict the test set:"
   ]
  },
  {
   "cell_type": "code",
   "execution_count": 154,
   "metadata": {},
   "outputs": [
    {
     "data": {
      "text/plain": [
       "array([2, 1, 2, 1, 1])"
      ]
     },
     "execution_count": 154,
     "metadata": {},
     "output_type": "execute_result"
    }
   ],
   "source": [
    "yhat = neigh.predict(X_test)\n",
    "yhat[0:5]"
   ]
  },
  {
   "cell_type": "code",
   "execution_count": null,
   "metadata": {},
   "outputs": [],
   "source": []
  },
  {
   "cell_type": "markdown",
   "metadata": {},
   "source": [
    "# Accuracy evaluation\n",
    "In multilabel classification, accuracy classification score is a function that computes subset accuracy. This function is equal to the jaccard_similarity_score function. Essentially, it calculates how closely the actual labels and predicted labels are matched in the test set."
   ]
  },
  {
   "cell_type": "code",
   "execution_count": 155,
   "metadata": {},
   "outputs": [
    {
     "name": "stdout",
     "output_type": "stream",
     "text": [
      "Train set Accuracy:  0.6556585981296256\n",
      "Test set Accuracy:  0.6540242443161126\n"
     ]
    }
   ],
   "source": [
    "from sklearn import metrics\n",
    "print(\"Train set Accuracy: \", metrics.accuracy_score(y_train, neigh.predict(X_train)))\n",
    "print(\"Test set Accuracy: \", metrics.accuracy_score(y_test, yhat))"
   ]
  },
  {
   "cell_type": "markdown",
   "metadata": {},
   "source": [
    "What about other K?\n",
    "K in KNN, is the number of nearest neighbors to examine. It is supposed to be specified by the User. So, how can we choose right value for K? The general solution is to reserve a part of your data for testing the accuracy of the model. Then chose k =1, use the training part for modeling, and calculate the accuracy of prediction using all samples in your test set. Repeat this process, increasing the k, and see which k is the best for your model.\n",
    "\n",
    "We can calculate the accuracy of KNN for different Ks."
   ]
  },
  {
   "cell_type": "code",
   "execution_count": 156,
   "metadata": {},
   "outputs": [
    {
     "data": {
      "text/plain": [
       "array([0.64590812, 0.63815618, 0.64715676, 0.65402424, 0.67587534,\n",
       "       0.67129702, 0.67509495, 0.66775922, 0.68305499])"
      ]
     },
     "execution_count": 156,
     "metadata": {},
     "output_type": "execute_result"
    }
   ],
   "source": [
    "Ks = 10\n",
    "mean_acc = np.zeros((Ks-1))\n",
    "std_acc = np.zeros((Ks-1))\n",
    "ConfustionMx = [];\n",
    "for n in range(1,Ks):\n",
    "    \n",
    "    #Train Model and Predict  \n",
    "    neigh = KNeighborsClassifier(n_neighbors = n).fit(X_train,y_train)\n",
    "    yhat=neigh.predict(X_test)\n",
    "    mean_acc[n-1] = metrics.accuracy_score(y_test, yhat)\n",
    "\n",
    "    \n",
    "    std_acc[n-1]=np.std(yhat==y_test)/np.sqrt(yhat.shape[0])\n",
    "\n",
    "mean_acc"
   ]
  },
  {
   "cell_type": "markdown",
   "metadata": {},
   "source": [
    "Plot model accuracy for Different number of Neighbors"
   ]
  },
  {
   "cell_type": "code",
   "execution_count": 157,
   "metadata": {},
   "outputs": [
    {
     "data": {
      "image/png": "[encoded data removed]",
      "text/plain": [
       "<Figure size 432x288 with 1 Axes>"
      ]
     },
     "metadata": {
      "needs_background": "light"
     },
     "output_type": "display_data"
    }
   ],
   "source": [
    "plt.plot(range(1,Ks),mean_acc,'g')\n",
    "plt.fill_between(range(1,Ks),mean_acc - 1 * std_acc,mean_acc + 1 * std_acc, alpha=0.10)\n",
    "plt.legend(('Accuracy ', '+/- 3xstd'))\n",
    "plt.ylabel('Accuracy ')\n",
    "plt.xlabel('Number of Nabors (K)')\n",
    "plt.tight_layout()\n",
    "plt.show()"
   ]
  },
  {
   "cell_type": "code",
   "execution_count": 197,
   "metadata": {},
   "outputs": [
    {
     "data": {
      "text/plain": [
       "array([0.65, 0.64, 0.65, 0.65, 0.68, 0.67, 0.68, 0.67, 0.68, 0.67, 0.69,\n",
       "       0.68, 0.69, 0.68, 0.68, 0.68, 0.7 , 0.69, 0.7 , 0.7 , 0.7 , 0.7 ,\n",
       "       0.7 , 0.7 , 0.69, 0.69, 0.7 , 0.69, 0.7 , 0.69, 0.7 , 0.7 , 0.7 ,\n",
       "       0.7 , 0.7 , 0.7 , 0.71, 0.7 , 0.7 , 0.7 , 0.71, 0.71, 0.71, 0.71,\n",
       "       0.71, 0.71, 0.71, 0.71, 0.71, 0.71, 0.71, 0.71, 0.71, 0.71, 0.71,\n",
       "       0.71, 0.71, 0.71, 0.71, 0.71, 0.71, 0.71, 0.71, 0.71, 0.71, 0.71,\n",
       "       0.71, 0.71, 0.71, 0.71, 0.71, 0.71, 0.71, 0.71, 0.71, 0.71, 0.71,\n",
       "       0.71, 0.71, 0.7 , 0.7 , 0.7 , 0.71, 0.7 , 0.7 , 0.7 , 0.71, 0.71,\n",
       "       0.71, 0.71, 0.71, 0.71, 0.71, 0.71, 0.71, 0.71, 0.71, 0.71, 0.71,\n",
       "       0.7 , 0.71, 0.71, 0.71, 0.71, 0.71, 0.71, 0.71, 0.71, 0.71, 0.7 ,\n",
       "       0.71, 0.71, 0.71, 0.71, 0.71, 0.71, 0.71, 0.71, 0.71, 0.71, 0.71,\n",
       "       0.71, 0.71, 0.71, 0.71, 0.71, 0.71, 0.71, 0.71, 0.71, 0.71, 0.71,\n",
       "       0.7 , 0.71, 0.7 , 0.7 , 0.71, 0.71, 0.71, 0.71, 0.71, 0.71, 0.71,\n",
       "       0.71, 0.71, 0.71, 0.71, 0.71, 0.71, 0.71, 0.71, 0.71, 0.71, 0.71,\n",
       "       0.71, 0.71, 0.71, 0.71, 0.71, 0.71, 0.71, 0.71, 0.71, 0.71, 0.71,\n",
       "       0.71, 0.71, 0.71, 0.71, 0.71, 0.71, 0.71, 0.71, 0.71, 0.71, 0.71,\n",
       "       0.71, 0.71, 0.71, 0.71, 0.71, 0.71, 0.71, 0.71, 0.71, 0.71, 0.71,\n",
       "       0.71, 0.71, 0.71, 0.71, 0.71, 0.71, 0.7 , 0.7 , 0.7 , 0.7 , 0.7 ,\n",
       "       0.7 , 0.7 , 0.7 , 0.7 , 0.7 , 0.7 , 0.7 , 0.7 , 0.7 , 0.7 , 0.7 ,\n",
       "       0.7 , 0.7 , 0.7 , 0.7 , 0.71, 0.71, 0.7 , 0.7 , 0.7 , 0.7 , 0.7 ,\n",
       "       0.7 , 0.7 , 0.7 , 0.7 , 0.7 , 0.7 , 0.7 , 0.7 , 0.7 , 0.7 , 0.7 ,\n",
       "       0.7 , 0.7 , 0.7 , 0.7 , 0.7 , 0.7 , 0.7 , 0.7 , 0.7 , 0.7 , 0.7 ,\n",
       "       0.7 , 0.7 , 0.7 , 0.7 , 0.7 , 0.7 , 0.7 , 0.7 , 0.71, 0.7 , 0.7 ,\n",
       "       0.7 , 0.7 , 0.7 , 0.7 , 0.7 , 0.71])"
      ]
     },
     "execution_count": 197,
     "metadata": {},
     "output_type": "execute_result"
    }
   ],
   "source": [
    "Ks = 260\n",
    "mean_acc = np.zeros((Ks-1))\n",
    "std_acc = np.zeros((Ks-1))\n",
    "ConfustionMx = [];\n",
    "for n in range(1,Ks):\n",
    "    \n",
    "    #Train Model and Predict  \n",
    "    neigh = KNeighborsClassifier(n_neighbors = n).fit(X_train,y_train)\n",
    "    yhat=neigh.predict(X_test)\n",
    "    mean_acc[n-1] = metrics.accuracy_score(y_test, yhat)\n",
    "\n",
    "    \n",
    "    std_acc[n-1]=np.std(yhat==y_test)/np.sqrt(yhat.shape[0])\n",
    "\n",
    "mean_acc"
   ]
  },
  {
   "cell_type": "code",
   "execution_count": 198,
   "metadata": {},
   "outputs": [
    {
     "data": {
      "image/png": "[encoded data removed]",
      "text/plain": [
       "<Figure size 432x288 with 1 Axes>"
      ]
     },
     "metadata": {
      "needs_background": "light"
     },
     "output_type": "display_data"
    }
   ],
   "source": [
    "plt.plot(range(1,Ks),mean_acc,'g')\n",
    "plt.fill_between(range(1,Ks),mean_acc - 1 * std_acc,mean_acc + 1 * std_acc, alpha=0.10)\n",
    "plt.legend(('Accuracy ', '+/- 3xstd'))\n",
    "plt.ylabel('Accuracy ')\n",
    "plt.xlabel('Number of Nabors (K)')\n",
    "plt.tight_layout()\n",
    "plt.show()"
   ]
  },
  {
   "cell_type": "code",
   "execution_count": null,
   "metadata": {},
   "outputs": [],
   "source": []
  },
  {
   "cell_type": "code",
   "execution_count": 199,
   "metadata": {},
   "outputs": [
    {
     "name": "stdout",
     "output_type": "stream",
     "text": [
      "The best accuracy was with 0.7097965766609438 with k= 71\n"
     ]
    }
   ],
   "source": [
    "print( \"The best accuracy was with\", mean_acc.max(), \"with k=\", mean_acc.argmax()+1) "
   ]
  },
  {
   "cell_type": "markdown",
   "metadata": {},
   "source": [
    "# SVM"
   ]
  },
  {
   "cell_type": "code",
   "execution_count": 160,
   "metadata": {},
   "outputs": [],
   "source": [
    "import pandas as pd\n",
    "import pylab as pl\n",
    "import numpy as np\n",
    "import scipy.optimize as opt\n",
    "from sklearn import preprocessing\n",
    "from sklearn.model_selection import train_test_split\n",
    "%matplotlib inline \n",
    "import matplotlib.pyplot as plt"
   ]
  },
  {
   "cell_type": "markdown",
   "metadata": {},
   "source": [
    "# Train/Test dataset\n",
    "Okay, we split our dataset into train and test set:"
   ]
  },
  {
   "cell_type": "code",
   "execution_count": 162,
   "metadata": {},
   "outputs": [
    {
     "name": "stdout",
     "output_type": "stream",
     "text": [
      "Train set: (76883, 16) (76883,)\n",
      "Test set: (19221, 16) (19221,)\n"
     ]
    }
   ],
   "source": [
    "X_train, X_test, y_train, y_test = train_test_split( X, y, test_size=0.2, random_state=4)\n",
    "print ('Train set:', X_train.shape,  y_train.shape)\n",
    "print ('Test set:', X_test.shape,  y_test.shape)"
   ]
  },
  {
   "cell_type": "code",
   "execution_count": 185,
   "metadata": {},
   "outputs": [],
   "source": [
    "from sklearn import svm"
   ]
  },
  {
   "cell_type": "markdown",
   "metadata": {},
   "source": [
    "Modeling (SVM with Scikit-learn)\n",
    "The SVM algorithm offers a choice of kernel functions for performing its processing. Basically, mapping data into a higher dimensional space is called kernelling. The mathematical function used for the transformation is known as the kernel function, and can be of different types, such as:\n",
    "\n",
    "1.Linear\n",
    "2.Polynomial\n",
    "3.Radial basis function (RBF)\n",
    "4.Sigmoid\n",
    "Each of these functions has its characteristics, its pros and cons, and its equation, but as there's no easy way of knowing which function performs best with any given dataset, we usually choose different functions in turn and compare the results. Let's just use the default, RBF (Radial Basis Function) for this lab."
   ]
  },
  {
   "cell_type": "code",
   "execution_count": 186,
   "metadata": {},
   "outputs": [],
   "source": [
    "targetNames = df_bal['SEVERITYCODE'].unique().tolist()"
   ]
  },
  {
   "cell_type": "code",
   "execution_count": 187,
   "metadata": {},
   "outputs": [
    {
     "name": "stdout",
     "output_type": "stream",
     "text": [
      "Test Accuracy for SVM with Linear kernel:  0.7044378544300505\n"
     ]
    }
   ],
   "source": [
    "\n",
    "#svm model with linear function\n",
    "svm_lin = svm.SVC(kernel='linear').fit(X_train,y_train)\n",
    "svm_pred1 = svm_lin.predict(X_test)\n",
    "print('Test Accuracy for SVM with Linear kernel: ', metrics.accuracy_score(y_test,svm_pred1))"
   ]
  },
  {
   "cell_type": "code",
   "execution_count": 188,
   "metadata": {},
   "outputs": [
    {
     "name": "stdout",
     "output_type": "stream",
     "text": [
      "[[5895 3705]\n",
      " [1976 7645]]\n",
      "              precision    recall  f1-score   support\n",
      "\n",
      "           1       0.75      0.61      0.67      9600\n",
      "           2       0.67      0.79      0.73      9621\n",
      "\n",
      "   micro avg       0.70      0.70      0.70     19221\n",
      "   macro avg       0.71      0.70      0.70     19221\n",
      "weighted avg       0.71      0.70      0.70     19221\n",
      "\n"
     ]
    }
   ],
   "source": [
    "#confusion matrix & classification report\n",
    "print(confusion_matrix(y_test,svm_pred1,labels=targetNames))\n",
    "print(classification_report(y_test,svm_pred1))"
   ]
  },
  {
   "cell_type": "code",
   "execution_count": 163,
   "metadata": {},
   "outputs": [
    {
     "data": {
      "text/plain": [
       "SVC(C=1.0, cache_size=200, class_weight=None, coef0=0.0,\n",
       "  decision_function_shape='ovr', degree=3, gamma='auto_deprecated',\n",
       "  kernel='rbf', max_iter=-1, probability=False, random_state=None,\n",
       "  shrinking=True, tol=0.001, verbose=False)"
      ]
     },
     "execution_count": 163,
     "metadata": {},
     "output_type": "execute_result"
    }
   ],
   "source": [
    "#from sklearn import svm\n",
    "#clf = svm.SVC(kernel='rbf')\n",
    "#clf.fit(X_train, y_train) "
   ]
  },
  {
   "cell_type": "code",
   "execution_count": 193,
   "metadata": {},
   "outputs": [
    {
     "data": {
      "text/plain": [
       "array([2, 2, 2, 2, 1])"
      ]
     },
     "execution_count": 193,
     "metadata": {},
     "output_type": "execute_result"
    }
   ],
   "source": [
    "yhat = clf.predict(X_test)\n",
    "yhat [0:5]"
   ]
  },
  {
   "cell_type": "markdown",
   "metadata": {},
   "source": [
    "# Evaluation"
   ]
  },
  {
   "cell_type": "code",
   "execution_count": 165,
   "metadata": {},
   "outputs": [],
   "source": [
    "from sklearn.metrics import classification_report, confusion_matrix\n",
    "import itertools"
   ]
  },
  {
   "cell_type": "code",
   "execution_count": 190,
   "metadata": {},
   "outputs": [],
   "source": [
    " # (def plot_confusion_matrix(cm, classes,\n",
    " #                         normalize=False,\n",
    " #                         title='Confusion matrix',\n",
    " #                         cmap=plt.cm.Blues):\n",
    " #   \"\"\"\n",
    " #   This function prints and plots the confusion matrix.\n",
    " #   Normalization can be applied by setting `normalize=True`.\n",
    " #   \"\"\"\n",
    " #   if normalize:\n",
    " #       cm = cm.astype('float') / cm.sum(axis=1)[:, np.newaxis]\n",
    " #       print(\"Normalized confusion matrix\")\n",
    " #   else:\n",
    " #       print('Confusion matrix, without normalization')\n",
    "\n",
    " #   print(cm)\n",
    "\n",
    " #   plt.imshow(cm, interpolation='nearest', cmap=cmap)\n",
    " #   plt.title(title)\n",
    " #   plt.colorbar()\n",
    " #   tick_marks = np.arange(len(classes))\n",
    " #   plt.xticks(tick_marks, classes, rotation=45)\n",
    " #   plt.yticks(tick_marks, classes)\n",
    "\n",
    " #   fmt = '.2f' if normalize else 'd'\n",
    " #   thresh = cm.max() / 2.\n",
    " #   for i, j in itertools.product(range(cm.shape[0]), range(cm.shape[1])):\n",
    " #       plt.text(j, i, format(cm[i, j], fmt),\n",
    " #                horizontalalignment=\"center\",\n",
    " #                color=\"white\" if cm[i, j] > thresh else \"black\")\n",
    "\n",
    " #   plt.tight_layout()\n",
    " #   plt.ylabel('True label')\n",
    "  #  plt.xlabel('Predicted label')"
   ]
  },
  {
   "cell_type": "code",
   "execution_count": 167,
   "metadata": {},
   "outputs": [],
   "source": [
    "# plt.show()"
   ]
  },
  {
   "cell_type": "code",
   "execution_count": 189,
   "metadata": {},
   "outputs": [],
   "source": [
    "# Compute confusion matrix\n",
    " #cnf_matrix = confusion_matrix(y_test, yhat, labels=[2,4])\n",
    "#np.set_printoptions(precision=2)\n",
    " \n",
    "#print (classification_report(y_test, yhat))\n",
    "\n",
    "# Plot non-normalized confusion matrix\n",
    "#plt.figure()\n",
    "#plot_confusion_matrix(cnf_matrix, classes=['Benign(2)','Malignant(4)'],normalize= False,  title='Confusion matrix')"
   ]
  },
  {
   "cell_type": "markdown",
   "metadata": {},
   "source": [
    "#### You can also easily use the f1_score from sklearn library:"
   ]
  },
  {
   "cell_type": "code",
   "execution_count": 195,
   "metadata": {},
   "outputs": [
    {
     "data": {
      "text/plain": [
       "0.7038178796508854"
      ]
     },
     "execution_count": 195,
     "metadata": {},
     "output_type": "execute_result"
    }
   ],
   "source": [
    "from sklearn.metrics import f1_score\n",
    "f1_score(y_test, yhat, average='weighted') "
   ]
  },
  {
   "cell_type": "code",
   "execution_count": 196,
   "metadata": {},
   "outputs": [
    {
     "data": {
      "text/plain": [
       "0.7081837573487332"
      ]
     },
     "execution_count": 196,
     "metadata": {},
     "output_type": "execute_result"
    }
   ],
   "source": [
    "from sklearn.metrics import jaccard_similarity_score\n",
    "jaccard_similarity_score(y_test, yhat)"
   ]
  },
  {
   "cell_type": "code",
   "execution_count": null,
   "metadata": {},
   "outputs": [],
   "source": []
  },
  {
   "cell_type": "markdown",
   "metadata": {},
   "source": [
    "### Modeling summary:\n",
    "After training models using KNN, Decision Tree, Support Vector Machine and Logistic Regression methods, the optimimum models from each type are:\n",
    "\n",
    "KNN: model w/ k=250 where a Test set accuracy of 0.70461 (simple accuracy) was achieved.   \n",
    "Decision Tree: RandomForest model where Test set accuracy of 0.70507 was achieved.   \n",
    "SVM: model with linear kernel function where Test set accuracy of 0.70257 was achieved.   \n",
    "LR: model with liblinear solver and C parameter of 0.01 where Test set accuracy of 0.70599 was achieved.   \n",
    "For all of these models, the accuracy achieved on the Test dataset is extremely close, and precision and recall metrics observed in the classification report are also very close. There are some differences spotted between the respective confusion matrices, in terms of the balance between samples predicted to the two different classes. All of the models predicted more injury collisions than property collisions, by at least 4400. The Decision Tree and Logistic Regression models where even more skewed towards predicting injury collisions (predicting 5000+ more injury collisions than property collisions). Depending on further development of a model and the intended benefit/use of any potential deployment, a model's ability to avoid certain incorrect predictions (in either class) or have more balance between the two classes may become more important.   \n",
    "\n",
    "Lets look at a few more evaluation metrics and then summarize them for each model."
   ]
  },
  {
   "cell_type": "markdown",
   "metadata": {},
   "source": [
    "## 6.0 Model Evaluation\n",
    "In this section we will evaluate the optimized model of each classification method using:\n",
    "\n",
    "Jaccard similarity\n",
    "F1-score\n",
    "Log-loss\n",
    "Area Under the ROC curve"
   ]
  },
  {
   "cell_type": "code",
   "execution_count": 171,
   "metadata": {},
   "outputs": [],
   "source": [
    "\n",
    "#we have previously imported the jaccard, log-loss and f1 metrics, but there is one more we need to import\n",
    "from sklearn.metrics import roc_auc_score"
   ]
  },
  {
   "cell_type": "code",
   "execution_count": 174,
   "metadata": {},
   "outputs": [
    {
     "ename": "NameError",
     "evalue": "name 'SVM_opt' is not defined",
     "output_type": "error",
     "traceback": [
      "\u001b[0;31m---------------------------------------------------------------------------\u001b[0m",
      "\u001b[0;31mNameError\u001b[0m                                 Traceback (most recent call last)",
      "\u001b[0;32m<ipython-input-174-fea6b4ee63b1>\u001b[0m in \u001b[0;36m<module>\u001b[0;34m\u001b[0m\n\u001b[1;32m     13\u001b[0m \u001b[0;31m## knn_prob = KNN_opt.predict_proba(X_test)\u001b[0m\u001b[0;34m\u001b[0m\u001b[0;34m\u001b[0m\u001b[0;34m\u001b[0m\u001b[0m\n\u001b[1;32m     14\u001b[0m \u001b[0;31m## DT_prob = RFDT.predict_proba(X_test)\u001b[0m\u001b[0;34m\u001b[0m\u001b[0;34m\u001b[0m\u001b[0;34m\u001b[0m\u001b[0m\n\u001b[0;32m---> 15\u001b[0;31m \u001b[0msvm_prob\u001b[0m \u001b[0;34m=\u001b[0m \u001b[0mSVM_opt\u001b[0m\u001b[0;34m.\u001b[0m\u001b[0mpredict_proba\u001b[0m\u001b[0;34m(\u001b[0m\u001b[0mX_test\u001b[0m\u001b[0;34m)\u001b[0m\u001b[0;34m\u001b[0m\u001b[0;34m\u001b[0m\u001b[0m\n\u001b[0m",
      "\u001b[0;31mNameError\u001b[0m: name 'SVM_opt' is not defined"
     ]
    }
   ],
   "source": [
    "#the trained models and their predictions are above, but in order to properly use each of the listed metrics, probabilities\n",
    "#for each test sample will need to be predicted for the KNN, Decision Tree and SVM models\n",
    "\n",
    "#for reference, the respective models and predicted variables are commented below:\n",
    "\n",
    "# KNN -- model: KNN_opt, predictions: knn_pred\n",
    "# DT -- model: RDFT, predictions: DT_pred\n",
    "# SVM -- model: SVM_opt, predictions: svm_pred\n",
    "# LR -- model: LR_opt, predictions: lr_pred, probability predictions: lr_prob\n",
    "\n",
    "#generate probability predictions for the KNN, Decision Tree and SVM models\n",
    "\n",
    "## knn_prob = KNN_opt.predict_proba(X_test)\n",
    "## DT_prob = RFDT.predict_proba(X_test)\n",
    "svm_prob = SVM_opt.predict_proba(X_test)"
   ]
  },
  {
   "cell_type": "code",
   "execution_count": 175,
   "metadata": {},
   "outputs": [
    {
     "ename": "NameError",
     "evalue": "name 'knn_pred' is not defined",
     "output_type": "error",
     "traceback": [
      "\u001b[0;31m---------------------------------------------------------------------------\u001b[0m",
      "\u001b[0;31mNameError\u001b[0m                                 Traceback (most recent call last)",
      "\u001b[0;32m<ipython-input-175-bc8cfd7ec0d2>\u001b[0m in \u001b[0;36m<module>\u001b[0;34m\u001b[0m\n\u001b[1;32m      1\u001b[0m \u001b[0;34m\u001b[0m\u001b[0m\n\u001b[1;32m      2\u001b[0m \u001b[0;31m#calculate simple accuracy for each model\u001b[0m\u001b[0;34m\u001b[0m\u001b[0;34m\u001b[0m\u001b[0;34m\u001b[0m\u001b[0m\n\u001b[0;32m----> 3\u001b[0;31m \u001b[0mknn_acc\u001b[0m \u001b[0;34m=\u001b[0m \u001b[0mmetrics\u001b[0m\u001b[0;34m.\u001b[0m\u001b[0maccuracy_score\u001b[0m\u001b[0;34m(\u001b[0m\u001b[0my_test\u001b[0m\u001b[0;34m,\u001b[0m\u001b[0mknn_pred\u001b[0m\u001b[0;34m)\u001b[0m\u001b[0;34m\u001b[0m\u001b[0;34m\u001b[0m\u001b[0m\n\u001b[0m\u001b[1;32m      4\u001b[0m \u001b[0mdt_acc\u001b[0m \u001b[0;34m=\u001b[0m \u001b[0mmetrics\u001b[0m\u001b[0;34m.\u001b[0m\u001b[0maccuracy_score\u001b[0m\u001b[0;34m(\u001b[0m\u001b[0my_test\u001b[0m\u001b[0;34m,\u001b[0m\u001b[0mDT_pred\u001b[0m\u001b[0;34m)\u001b[0m\u001b[0;34m\u001b[0m\u001b[0;34m\u001b[0m\u001b[0m\n\u001b[1;32m      5\u001b[0m \u001b[0msvm_acc\u001b[0m \u001b[0;34m=\u001b[0m \u001b[0mmetrics\u001b[0m\u001b[0;34m.\u001b[0m\u001b[0maccuracy_score\u001b[0m\u001b[0;34m(\u001b[0m\u001b[0my_test\u001b[0m\u001b[0;34m,\u001b[0m\u001b[0msvm_pred\u001b[0m\u001b[0;34m)\u001b[0m\u001b[0;34m\u001b[0m\u001b[0;34m\u001b[0m\u001b[0m\n",
      "\u001b[0;31mNameError\u001b[0m: name 'knn_pred' is not defined"
     ]
    }
   ],
   "source": [
    "\n",
    "#calculate simple accuracy for each model\n",
    "knn_acc = metrics.accuracy_score(y_test,knn_pred)\n",
    "dt_acc = metrics.accuracy_score(y_test,DT_pred)\n",
    "svm_acc = metrics.accuracy_score(y_test,svm_pred)\n",
    "lr_acc = metrics.accuracy_score(y_test,lr_pred)\n"
   ]
  },
  {
   "cell_type": "code",
   "execution_count": null,
   "metadata": {},
   "outputs": [],
   "source": [
    "#calculate jaccard similarity scores for each model\n",
    "knn_jac = jaccard_score(y_test,knn_pred)\n",
    "dt_jac = jaccard_score(y_test,DT_pred)\n",
    "svm_jac = jaccard_score(y_test,svm_pred)\n",
    "lr_jac = jaccard_score(y_test,lr_pred)"
   ]
  },
  {
   "cell_type": "code",
   "execution_count": null,
   "metadata": {},
   "outputs": [],
   "source": [
    "#calculate f1-scores for each model\n",
    "knn_f1 = jaccard_score(y_test,knn_pred,average='weighted')\n",
    "dt_f1 = jaccard_score(y_test,DT_pred,average='weighted')\n",
    "svm_f1 = jaccard_score(y_test,svm_pred,average='weighted')\n",
    "lr_f1 = jaccard_score(y_test,lr_pred,average='weighted')"
   ]
  },
  {
   "cell_type": "code",
   "execution_count": null,
   "metadata": {},
   "outputs": [],
   "source": [
    "#calculate log-loss for each model\n",
    "knn_lgl = log_loss(y_test,knn_prob)\n",
    "dt_lgl = log_loss(y_test,DT_prob)\n",
    "svm_lgl = log_loss(y_test,svm_prob)\n",
    "lr_lgl = log_loss(y_test,lr_prob)"
   ]
  },
  {
   "cell_type": "code",
   "execution_count": null,
   "metadata": {},
   "outputs": [],
   "source": [
    "#calculate area under ROC for each model\n",
    "knn_roc_prob = [p[1] for p in knn_prob]\n",
    "knn_roc = roc_auc_score(y_test,knn_roc_prob)"
   ]
  },
  {
   "cell_type": "code",
   "execution_count": null,
   "metadata": {},
   "outputs": [],
   "source": [
    "dt_roc_prob = [p[1] for p in DT_prob]\n",
    "dt_roc = roc_auc_score(y_test,dt_roc_prob)\n"
   ]
  },
  {
   "cell_type": "code",
   "execution_count": 176,
   "metadata": {},
   "outputs": [
    {
     "ename": "NameError",
     "evalue": "name 'svm_prob' is not defined",
     "output_type": "error",
     "traceback": [
      "\u001b[0;31m---------------------------------------------------------------------------\u001b[0m",
      "\u001b[0;31mNameError\u001b[0m                                 Traceback (most recent call last)",
      "\u001b[0;32m<ipython-input-176-e193ad5d1a4d>\u001b[0m in \u001b[0;36m<module>\u001b[0;34m\u001b[0m\n\u001b[0;32m----> 1\u001b[0;31m \u001b[0msvm_roc_prob\u001b[0m \u001b[0;34m=\u001b[0m \u001b[0;34m[\u001b[0m\u001b[0mp\u001b[0m\u001b[0;34m[\u001b[0m\u001b[0;36m1\u001b[0m\u001b[0;34m]\u001b[0m \u001b[0;32mfor\u001b[0m \u001b[0mp\u001b[0m \u001b[0;32min\u001b[0m \u001b[0msvm_prob\u001b[0m\u001b[0;34m]\u001b[0m\u001b[0;34m\u001b[0m\u001b[0;34m\u001b[0m\u001b[0m\n\u001b[0m\u001b[1;32m      2\u001b[0m \u001b[0msvm_roc\u001b[0m \u001b[0;34m=\u001b[0m \u001b[0mroc_auc_score\u001b[0m\u001b[0;34m(\u001b[0m\u001b[0my_test\u001b[0m\u001b[0;34m,\u001b[0m\u001b[0msvm_roc_prob\u001b[0m\u001b[0;34m)\u001b[0m\u001b[0;34m\u001b[0m\u001b[0;34m\u001b[0m\u001b[0m\n",
      "\u001b[0;31mNameError\u001b[0m: name 'svm_prob' is not defined"
     ]
    }
   ],
   "source": [
    "svm_roc_prob = [p[1] for p in svm_prob]\n",
    "svm_roc = roc_auc_score(y_test,svm_roc_prob)\n"
   ]
  },
  {
   "cell_type": "code",
   "execution_count": null,
   "metadata": {},
   "outputs": [],
   "source": [
    "lr_roc_prob = [p[1] for p in lr_prob]\n",
    "lr_roc = roc_auc_score(y_test,lr_roc_prob)"
   ]
  },
  {
   "cell_type": "code",
   "execution_count": 177,
   "metadata": {},
   "outputs": [
    {
     "ename": "NameError",
     "evalue": "name 'knn_acc' is not defined",
     "output_type": "error",
     "traceback": [
      "\u001b[0;31m---------------------------------------------------------------------------\u001b[0m",
      "\u001b[0;31mNameError\u001b[0m                                 Traceback (most recent call last)",
      "\u001b[0;32m<ipython-input-177-bf53afd9b27b>\u001b[0m in \u001b[0;36m<module>\u001b[0;34m\u001b[0m\n\u001b[0;32m----> 1\u001b[0;31m \u001b[0mresults\u001b[0m \u001b[0;34m=\u001b[0m \u001b[0;34m{\u001b[0m\u001b[0;34m'KNN'\u001b[0m\u001b[0;34m:\u001b[0m \u001b[0;34m[\u001b[0m\u001b[0;34m'k=250'\u001b[0m\u001b[0;34m,\u001b[0m\u001b[0mknn_acc\u001b[0m\u001b[0;34m,\u001b[0m\u001b[0mknn_jac\u001b[0m\u001b[0;34m,\u001b[0m\u001b[0mknn_f1\u001b[0m\u001b[0;34m,\u001b[0m\u001b[0mknn_lgl\u001b[0m\u001b[0;34m,\u001b[0m\u001b[0mknn_roc\u001b[0m\u001b[0;34m]\u001b[0m\u001b[0;34m}\u001b[0m\u001b[0;34m\u001b[0m\u001b[0;34m\u001b[0m\u001b[0m\n\u001b[0m",
      "\u001b[0;31mNameError\u001b[0m: name 'knn_acc' is not defined"
     ]
    }
   ],
   "source": [
    "results = {'KNN': ['k=250',knn_acc,knn_jac,knn_f1,knn_lgl,knn_roc]}"
   ]
  },
  {
   "cell_type": "code",
   "execution_count": 178,
   "metadata": {},
   "outputs": [
    {
     "ename": "NameError",
     "evalue": "name 'dt_acc' is not defined",
     "output_type": "error",
     "traceback": [
      "\u001b[0;31m---------------------------------------------------------------------------\u001b[0m",
      "\u001b[0;31mNameError\u001b[0m                                 Traceback (most recent call last)",
      "\u001b[0;32m<ipython-input-178-39f292f81189>\u001b[0m in \u001b[0;36m<module>\u001b[0;34m\u001b[0m\n\u001b[0;32m----> 1\u001b[0;31m \u001b[0mresults\u001b[0m \u001b[0;34m=\u001b[0m \u001b[0;34m{\u001b[0m\u001b[0;34m'Decision Tree'\u001b[0m\u001b[0;34m:\u001b[0m \u001b[0;34m[\u001b[0m\u001b[0;34m'Random Forest'\u001b[0m\u001b[0;34m,\u001b[0m\u001b[0mdt_acc\u001b[0m\u001b[0;34m,\u001b[0m\u001b[0mdt_jac\u001b[0m\u001b[0;34m,\u001b[0m\u001b[0mdt_f1\u001b[0m\u001b[0;34m,\u001b[0m\u001b[0mdt_lgl\u001b[0m\u001b[0;34m,\u001b[0m\u001b[0mdt_roc\u001b[0m\u001b[0;34m]\u001b[0m\u001b[0;34m}\u001b[0m\u001b[0;34m\u001b[0m\u001b[0;34m\u001b[0m\u001b[0m\n\u001b[0m",
      "\u001b[0;31mNameError\u001b[0m: name 'dt_acc' is not defined"
     ]
    }
   ],
   "source": [
    "# results = {'Decision Tree': ['Random Forest',dt_acc,dt_jac,dt_f1,dt_lgl,dt_roc]}"
   ]
  },
  {
   "cell_type": "code",
   "execution_count": null,
   "metadata": {},
   "outputs": [],
   "source": [
    "# results = {'SVM': ['linear kernel',svm_acc,svm_jac,svm_f1,svm_lgl,svm_roc]}"
   ]
  },
  {
   "cell_type": "code",
   "execution_count": null,
   "metadata": {},
   "outputs": [],
   "source": [
    "# results = {'Logistic Regression': ['liblinear, C=0.01',lr_acc,lr_jac,lr_f1,lr_lgl,lr_roc]}"
   ]
  },
  {
   "cell_type": "code",
   "execution_count": null,
   "metadata": {},
   "outputs": [],
   "source": [
    "results_df = pd.DataFrame.from_dict(results,orient='index')\n",
    "results_df.reset_index(drop=False, inplace=True)\n",
    "results_df.columns = ['Algorithm','Model feature','Accuracy','Jaccard','F1-score','Log-loss','AUROC']"
   ]
  },
  {
   "cell_type": "code",
   "execution_count": null,
   "metadata": {},
   "outputs": [],
   "source": []
  },
  {
   "cell_type": "code",
   "execution_count": null,
   "metadata": {},
   "outputs": [],
   "source": [
    "results_df"
   ]
  },
  {
   "cell_type": "code",
   "execution_count": null,
   "metadata": {},
   "outputs": [],
   "source": []
  },
  {
   "cell_type": "code",
   "execution_count": null,
   "metadata": {},
   "outputs": [],
   "source": [
    "\n",
    "#compile table of results to dictionary\n",
    "results = {'KNN': ['k=250',knn_acc,knn_jac,knn_f1,knn_lgl,knn_roc],\n",
    "          'Decision Tree': ['Random Forest',dt_acc,dt_jac,dt_f1,dt_lgl,dt_roc],\n",
    "          'SVM': ['linear kernel',svm_acc,svm_jac,svm_f1,svm_lgl,svm_roc],\n",
    "          'Logistic Regression': ['liblinear, C=0.01',lr_acc,lr_jac,lr_f1,lr_lgl,lr_roc]}\n",
    "\n",
    "#read dictionary to dataframe\n",
    "results_df = pd.DataFrame.from_dict(results,orient='index')\n",
    "results_df.reset_index(drop=False, inplace=True)\n",
    "results_df.columns = ['Algorithm','Model feature','Accuracy','Jaccard','F1-score','Log-loss','AUROC']\n",
    "\n",
    "#display results\n",
    "results_df"
   ]
  },
  {
   "cell_type": "code",
   "execution_count": null,
   "metadata": {},
   "outputs": [],
   "source": []
  },
  {
   "cell_type": "code",
   "execution_count": null,
   "metadata": {},
   "outputs": [],
   "source": []
  },
  {
   "cell_type": "code",
   "execution_count": null,
   "metadata": {},
   "outputs": [],
   "source": []
  },
  {
   "cell_type": "markdown",
   "metadata": {},
   "source": [
    "# Evaluation Summary:\n",
    "The results are very similar for each of the different models.   \n",
    "The Logistic Regression approach performed best for 3 of the 5 metrics: simple accuracy, F1 and AUROC, \n",
    "while the KNN algorithm was the best according to Jacard and Log-loss.    \n",
    "\n",
    "Interestingly, despite performing best in 3 categories and second in another,  \n",
    "the Logistic Regression model had the worst Jaccard similarity score of the 3 models.\n",
    "\n",
    "Ultimately, the result are so similar that selecting a model might come down to its performance with respect to predicting against each classification.   \n",
    "If being conservative - predicting fewer injury collisions is preferred - then the SVM or KNN models might be best,    \n",
    "whereas the Logistic Regression and Decision Tree model might be preferable if higher sensitivity is required for predicting injury type collisions."
   ]
  },
  {
   "cell_type": "code",
   "execution_count": null,
   "metadata": {},
   "outputs": [],
   "source": []
  }
 ],
 "metadata": {
  "kernelspec": {
   "display_name": "Python 3",
   "language": "python",
   "name": "python3"
  },
  "language_info": {
   "codemirror_mode": {
    "name": "ipython",
    "version": 3
   },
   "file_extension": ".py",
   "mimetype": "text/x-python",
   "name": "python",
   "nbconvert_exporter": "python",
   "pygments_lexer": "ipython3",
   "version": "3.7.6"
  }
 },
 "nbformat": 4,
 "nbformat_minor": 1
}
