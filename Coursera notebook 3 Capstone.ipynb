{
 "cells": [
  {
   "cell_type": "code",
   "execution_count": null,
   "metadata": {},
   "outputs": [],
   "source": []
  },
  {
   "cell_type": "markdown",
   "metadata": {},
   "source": [
    "\n",
    "# capstone project notebook 3\n",
    "\n",
    "### This notebook will focus on model evaluation"
   ]
  },
  {
   "cell_type": "code",
   "execution_count": null,
   "metadata": {},
   "outputs": [],
   "source": []
  },
  {
   "cell_type": "code",
   "execution_count": 2,
   "metadata": {},
   "outputs": [],
   "source": [
    "#import required libraries for handling and visualizing data\n",
    "import pandas as pd\n",
    "import numpy as np\n",
    "import matplotlib.pyplot as plt\n",
    "import seaborn as sns\n",
    "#more libraries from the sklearn package will be imported later for modeling and evaluation\n",
    "%matplotlib inline\n",
    "import warnings\n",
    "warnings.filterwarnings('ignore')"
   ]
  },
  {
   "cell_type": "code",
   "execution_count": 3,
   "metadata": {},
   "outputs": [],
   "source": [
    "df_bal = pd.read_csv('balance.csv')"
   ]
  },
  {
   "cell_type": "code",
   "execution_count": 4,
   "metadata": {},
   "outputs": [
    {
     "data": {
      "text/plain": [
       "2    48052\n",
       "1    48052\n",
       "Name: SEVERITYCODE, dtype: int64"
      ]
     },
     "execution_count": 4,
     "metadata": {},
     "output_type": "execute_result"
    }
   ],
   "source": [
    "df_bal['SEVERITYCODE'].value_counts()"
   ]
  },
  {
   "cell_type": "code",
   "execution_count": 5,
   "metadata": {},
   "outputs": [
    {
     "data": {
      "text/html": [
       "<div>\n",
       "<style scoped>\n",
       "    .dataframe tbody tr th:only-of-type {\n",
       "        vertical-align: middle;\n",
       "    }\n",
       "\n",
       "    .dataframe tbody tr th {\n",
       "        vertical-align: top;\n",
       "    }\n",
       "\n",
       "    .dataframe thead th {\n",
       "        text-align: right;\n",
       "    }\n",
       "</style>\n",
       "<table border=\"1\" class=\"dataframe\">\n",
       "  <thead>\n",
       "    <tr style=\"text-align: right;\">\n",
       "      <th></th>\n",
       "      <th>SEVERITYCODE</th>\n",
       "      <th>RUSHHOUR</th>\n",
       "      <th>PCOUNT_OVER2</th>\n",
       "      <th>VCOUNT_IS2</th>\n",
       "      <th>INATTENTIONIND</th>\n",
       "      <th>UNDERINFL</th>\n",
       "      <th>SPEEDING</th>\n",
       "      <th>Angles</th>\n",
       "      <th>Cycles</th>\n",
       "      <th>Head On</th>\n",
       "      <th>Left Turn</th>\n",
       "      <th>Other</th>\n",
       "      <th>Parked Car</th>\n",
       "      <th>Pedestrian</th>\n",
       "      <th>Rear Ended</th>\n",
       "      <th>Right Turn</th>\n",
       "      <th>Sideswipe</th>\n",
       "    </tr>\n",
       "  </thead>\n",
       "  <tbody>\n",
       "    <tr>\n",
       "      <th>0</th>\n",
       "      <td>1</td>\n",
       "      <td>1</td>\n",
       "      <td>0</td>\n",
       "      <td>1</td>\n",
       "      <td>0</td>\n",
       "      <td>0</td>\n",
       "      <td>0</td>\n",
       "      <td>0</td>\n",
       "      <td>0</td>\n",
       "      <td>0</td>\n",
       "      <td>0</td>\n",
       "      <td>0</td>\n",
       "      <td>1</td>\n",
       "      <td>0</td>\n",
       "      <td>0</td>\n",
       "      <td>0</td>\n",
       "      <td>0</td>\n",
       "    </tr>\n",
       "    <tr>\n",
       "      <th>1</th>\n",
       "      <td>1</td>\n",
       "      <td>0</td>\n",
       "      <td>0</td>\n",
       "      <td>1</td>\n",
       "      <td>0</td>\n",
       "      <td>0</td>\n",
       "      <td>0</td>\n",
       "      <td>0</td>\n",
       "      <td>0</td>\n",
       "      <td>0</td>\n",
       "      <td>0</td>\n",
       "      <td>0</td>\n",
       "      <td>1</td>\n",
       "      <td>0</td>\n",
       "      <td>0</td>\n",
       "      <td>0</td>\n",
       "      <td>0</td>\n",
       "    </tr>\n",
       "    <tr>\n",
       "      <th>2</th>\n",
       "      <td>1</td>\n",
       "      <td>1</td>\n",
       "      <td>0</td>\n",
       "      <td>0</td>\n",
       "      <td>0</td>\n",
       "      <td>0</td>\n",
       "      <td>0</td>\n",
       "      <td>0</td>\n",
       "      <td>0</td>\n",
       "      <td>0</td>\n",
       "      <td>0</td>\n",
       "      <td>0</td>\n",
       "      <td>0</td>\n",
       "      <td>1</td>\n",
       "      <td>0</td>\n",
       "      <td>0</td>\n",
       "      <td>0</td>\n",
       "    </tr>\n",
       "    <tr>\n",
       "      <th>3</th>\n",
       "      <td>1</td>\n",
       "      <td>0</td>\n",
       "      <td>0</td>\n",
       "      <td>1</td>\n",
       "      <td>1</td>\n",
       "      <td>0</td>\n",
       "      <td>0</td>\n",
       "      <td>1</td>\n",
       "      <td>0</td>\n",
       "      <td>0</td>\n",
       "      <td>0</td>\n",
       "      <td>0</td>\n",
       "      <td>0</td>\n",
       "      <td>0</td>\n",
       "      <td>0</td>\n",
       "      <td>0</td>\n",
       "      <td>0</td>\n",
       "    </tr>\n",
       "    <tr>\n",
       "      <th>4</th>\n",
       "      <td>1</td>\n",
       "      <td>0</td>\n",
       "      <td>0</td>\n",
       "      <td>1</td>\n",
       "      <td>0</td>\n",
       "      <td>0</td>\n",
       "      <td>0</td>\n",
       "      <td>1</td>\n",
       "      <td>0</td>\n",
       "      <td>0</td>\n",
       "      <td>0</td>\n",
       "      <td>0</td>\n",
       "      <td>0</td>\n",
       "      <td>0</td>\n",
       "      <td>0</td>\n",
       "      <td>0</td>\n",
       "      <td>0</td>\n",
       "    </tr>\n",
       "  </tbody>\n",
       "</table>\n",
       "</div>"
      ],
      "text/plain": [
       "   SEVERITYCODE  RUSHHOUR  PCOUNT_OVER2  VCOUNT_IS2  INATTENTIONIND  \\\n",
       "0             1         1             0           1               0   \n",
       "1             1         0             0           1               0   \n",
       "2             1         1             0           0               0   \n",
       "3             1         0             0           1               1   \n",
       "4             1         0             0           1               0   \n",
       "\n",
       "   UNDERINFL  SPEEDING  Angles  Cycles  Head On  Left Turn  Other  Parked Car  \\\n",
       "0          0         0       0       0        0          0      0           1   \n",
       "1          0         0       0       0        0          0      0           1   \n",
       "2          0         0       0       0        0          0      0           0   \n",
       "3          0         0       1       0        0          0      0           0   \n",
       "4          0         0       1       0        0          0      0           0   \n",
       "\n",
       "   Pedestrian  Rear Ended  Right Turn  Sideswipe  \n",
       "0           0           0           0          0  \n",
       "1           0           0           0          0  \n",
       "2           1           0           0          0  \n",
       "3           0           0           0          0  \n",
       "4           0           0           0          0  "
      ]
     },
     "execution_count": 5,
     "metadata": {},
     "output_type": "execute_result"
    }
   ],
   "source": [
    "df_bal.reset_index(drop=True,inplace=True)\n",
    "df_bal.head()"
   ]
  },
  {
   "cell_type": "code",
   "execution_count": 6,
   "metadata": {},
   "outputs": [
    {
     "data": {
      "text/plain": [
       "(96104, 17)"
      ]
     },
     "execution_count": 6,
     "metadata": {},
     "output_type": "execute_result"
    }
   ],
   "source": [
    "df_bal.shape"
   ]
  },
  {
   "cell_type": "code",
   "execution_count": 7,
   "metadata": {},
   "outputs": [
    {
     "data": {
      "text/html": [
       "<div>\n",
       "<style scoped>\n",
       "    .dataframe tbody tr th:only-of-type {\n",
       "        vertical-align: middle;\n",
       "    }\n",
       "\n",
       "    .dataframe tbody tr th {\n",
       "        vertical-align: top;\n",
       "    }\n",
       "\n",
       "    .dataframe thead th {\n",
       "        text-align: right;\n",
       "    }\n",
       "</style>\n",
       "<table border=\"1\" class=\"dataframe\">\n",
       "  <thead>\n",
       "    <tr style=\"text-align: right;\">\n",
       "      <th></th>\n",
       "      <th>RUSHHOUR</th>\n",
       "      <th>PCOUNT_OVER2</th>\n",
       "      <th>VCOUNT_IS2</th>\n",
       "      <th>INATTENTIONIND</th>\n",
       "      <th>UNDERINFL</th>\n",
       "      <th>SPEEDING</th>\n",
       "      <th>Angles</th>\n",
       "      <th>Cycles</th>\n",
       "      <th>Head On</th>\n",
       "      <th>Left Turn</th>\n",
       "      <th>Other</th>\n",
       "      <th>Parked Car</th>\n",
       "      <th>Pedestrian</th>\n",
       "      <th>Rear Ended</th>\n",
       "      <th>Right Turn</th>\n",
       "      <th>Sideswipe</th>\n",
       "    </tr>\n",
       "  </thead>\n",
       "  <tbody>\n",
       "    <tr>\n",
       "      <th>0</th>\n",
       "      <td>1</td>\n",
       "      <td>0</td>\n",
       "      <td>1</td>\n",
       "      <td>0</td>\n",
       "      <td>0</td>\n",
       "      <td>0</td>\n",
       "      <td>0</td>\n",
       "      <td>0</td>\n",
       "      <td>0</td>\n",
       "      <td>0</td>\n",
       "      <td>0</td>\n",
       "      <td>1</td>\n",
       "      <td>0</td>\n",
       "      <td>0</td>\n",
       "      <td>0</td>\n",
       "      <td>0</td>\n",
       "    </tr>\n",
       "    <tr>\n",
       "      <th>1</th>\n",
       "      <td>0</td>\n",
       "      <td>0</td>\n",
       "      <td>1</td>\n",
       "      <td>0</td>\n",
       "      <td>0</td>\n",
       "      <td>0</td>\n",
       "      <td>0</td>\n",
       "      <td>0</td>\n",
       "      <td>0</td>\n",
       "      <td>0</td>\n",
       "      <td>0</td>\n",
       "      <td>1</td>\n",
       "      <td>0</td>\n",
       "      <td>0</td>\n",
       "      <td>0</td>\n",
       "      <td>0</td>\n",
       "    </tr>\n",
       "    <tr>\n",
       "      <th>2</th>\n",
       "      <td>1</td>\n",
       "      <td>0</td>\n",
       "      <td>0</td>\n",
       "      <td>0</td>\n",
       "      <td>0</td>\n",
       "      <td>0</td>\n",
       "      <td>0</td>\n",
       "      <td>0</td>\n",
       "      <td>0</td>\n",
       "      <td>0</td>\n",
       "      <td>0</td>\n",
       "      <td>0</td>\n",
       "      <td>1</td>\n",
       "      <td>0</td>\n",
       "      <td>0</td>\n",
       "      <td>0</td>\n",
       "    </tr>\n",
       "    <tr>\n",
       "      <th>3</th>\n",
       "      <td>0</td>\n",
       "      <td>0</td>\n",
       "      <td>1</td>\n",
       "      <td>1</td>\n",
       "      <td>0</td>\n",
       "      <td>0</td>\n",
       "      <td>1</td>\n",
       "      <td>0</td>\n",
       "      <td>0</td>\n",
       "      <td>0</td>\n",
       "      <td>0</td>\n",
       "      <td>0</td>\n",
       "      <td>0</td>\n",
       "      <td>0</td>\n",
       "      <td>0</td>\n",
       "      <td>0</td>\n",
       "    </tr>\n",
       "    <tr>\n",
       "      <th>4</th>\n",
       "      <td>0</td>\n",
       "      <td>0</td>\n",
       "      <td>1</td>\n",
       "      <td>0</td>\n",
       "      <td>0</td>\n",
       "      <td>0</td>\n",
       "      <td>1</td>\n",
       "      <td>0</td>\n",
       "      <td>0</td>\n",
       "      <td>0</td>\n",
       "      <td>0</td>\n",
       "      <td>0</td>\n",
       "      <td>0</td>\n",
       "      <td>0</td>\n",
       "      <td>0</td>\n",
       "      <td>0</td>\n",
       "    </tr>\n",
       "  </tbody>\n",
       "</table>\n",
       "</div>"
      ],
      "text/plain": [
       "   RUSHHOUR  PCOUNT_OVER2  VCOUNT_IS2  INATTENTIONIND  UNDERINFL  SPEEDING  \\\n",
       "0         1             0           1               0          0         0   \n",
       "1         0             0           1               0          0         0   \n",
       "2         1             0           0               0          0         0   \n",
       "3         0             0           1               1          0         0   \n",
       "4         0             0           1               0          0         0   \n",
       "\n",
       "   Angles  Cycles  Head On  Left Turn  Other  Parked Car  Pedestrian  \\\n",
       "0       0       0        0          0      0           1           0   \n",
       "1       0       0        0          0      0           1           0   \n",
       "2       0       0        0          0      0           0           1   \n",
       "3       1       0        0          0      0           0           0   \n",
       "4       1       0        0          0      0           0           0   \n",
       "\n",
       "   Rear Ended  Right Turn  Sideswipe  \n",
       "0           0           0          0  \n",
       "1           0           0          0  \n",
       "2           0           0          0  \n",
       "3           0           0          0  \n",
       "4           0           0          0  "
      ]
     },
     "execution_count": 7,
     "metadata": {},
     "output_type": "execute_result"
    }
   ],
   "source": [
    "#now that the dataset is balanced, lets create our input feature and target variables..\n",
    "\n",
    "#input features, X\n",
    "X = df_bal.drop('SEVERITYCODE',axis=1)\n",
    "X[0:5]"
   ]
  },
  {
   "cell_type": "code",
   "execution_count": 8,
   "metadata": {},
   "outputs": [
    {
     "data": {
      "text/plain": [
       "0    1\n",
       "1    1\n",
       "2    1\n",
       "3    1\n",
       "4    1\n",
       "Name: SEVERITYCODE, dtype: int64"
      ]
     },
     "execution_count": 8,
     "metadata": {},
     "output_type": "execute_result"
    }
   ],
   "source": [
    "y = df_bal['SEVERITYCODE']\n",
    "y[0:5]"
   ]
  },
  {
   "cell_type": "code",
   "execution_count": 9,
   "metadata": {},
   "outputs": [
    {
     "data": {
      "text/plain": [
       "((96104, 16), (96104,))"
      ]
     },
     "execution_count": 9,
     "metadata": {},
     "output_type": "execute_result"
    }
   ],
   "source": [
    "X.shape,y.shape"
   ]
  },
  {
   "cell_type": "code",
   "execution_count": null,
   "metadata": {},
   "outputs": [],
   "source": []
  },
  {
   "cell_type": "markdown",
   "metadata": {},
   "source": [
    "# 5.0 Modeling\n",
    "Now that the data is cleansed, processed and balanced, some Machine Learning models can be trained. Since this project is dealing with classification, several different methods will be used, including:\n",
    "\n",
    "K Nearest Neighbor    \n",
    "Decision Tree    \n",
    "Support Vector Machines    \n",
    "Logistic Regression   \n",
    "First the data will be separated into train and test subsets. Some specific parameter tuning will be completed for each of the model types. Then the models will be evaluated using:   \n",
    "\n",
    "Simple accuracy score    \n",
    "Jaccard index   \n",
    "F1-score   \n",
    "Log-loss   \n",
    "Area Under the ROC Curve   \n",
    "Note: since processed feature set is all one-hot encoding (0s and 1s) the input variables do not need to be normalized   "
   ]
  },
  {
   "cell_type": "code",
   "execution_count": 13,
   "metadata": {},
   "outputs": [],
   "source": [
    "#import the test-train method from sklearn and split the data.. this is necessary for all of the models\n",
    "from sklearn.model_selection import train_test_split\n",
    "from sklearn import metrics\n",
    "import itertools"
   ]
  },
  {
   "cell_type": "code",
   "execution_count": 14,
   "metadata": {},
   "outputs": [
    {
     "name": "stdout",
     "output_type": "stream",
     "text": [
      "Train set: (67272, 16) (67272,)\n",
      "Test set: (28832, 16) (28832,)\n"
     ]
    }
   ],
   "source": [
    "#using the test_train method, create test and train subsets of X and y\n",
    "X_train, X_test, y_train, y_test = train_test_split(X, y, test_size=0.30, random_state=4)\n",
    "print ('Train set:', X_train.shape,  y_train.shape)\n",
    "print ('Test set:', X_test.shape,  y_test.shape)"
   ]
  },
  {
   "cell_type": "markdown",
   "metadata": {},
   "source": [
    "## 5 Logistic Regression\n",
    "For this algorithm we will look at modeling with liblinear, newton-cg and sag solvers. Some tuning may be required for the C parameter which controls regularization"
   ]
  },
  {
   "cell_type": "code",
   "execution_count": 15,
   "metadata": {},
   "outputs": [],
   "source": [
    "# from sklearn import preprocessing, metrics, cross_validation"
   ]
  },
  {
   "cell_type": "code",
   "execution_count": 16,
   "metadata": {},
   "outputs": [],
   "source": [
    "import numpy as np\n",
    "from sklearn.metrics import jaccard_score"
   ]
  },
  {
   "cell_type": "code",
   "execution_count": 17,
   "metadata": {},
   "outputs": [],
   "source": [
    "from sklearn.linear_model import LogisticRegression\n",
    "from sklearn.metrics import classification_report, confusion_matrix\n",
    "from sklearn.metrics import f1_score\n",
    "from sklearn.metrics import log_loss\n"
   ]
  },
  {
   "cell_type": "code",
   "execution_count": 18,
   "metadata": {},
   "outputs": [],
   "source": [
    "targetNames = df_bal['SEVERITYCODE'].unique().tolist()"
   ]
  },
  {
   "cell_type": "code",
   "execution_count": 19,
   "metadata": {},
   "outputs": [],
   "source": [
    "# from sklearn.metrics import jaccard_similarity_score as jaccard_score"
   ]
  },
  {
   "cell_type": "markdown",
   "metadata": {},
   "source": [
    "### 5.1.a LR model using the liblinear solver"
   ]
  },
  {
   "cell_type": "code",
   "execution_count": 20,
   "metadata": {},
   "outputs": [
    {
     "name": "stdout",
     "output_type": "stream",
     "text": [
      "Jaccard similarity for liblinear Logistic Regression:  0.49216749061885756\n",
      "Logloss for liblinear Logistic Regression:  0.5427897193198252\n",
      "Test Accuracy for liblinear:  0.7042869034406215\n",
      "[[ 8263  6121]\n",
      " [ 2405 12043]]\n",
      "              precision    recall  f1-score   support\n",
      "\n",
      "           1       0.77      0.57      0.66     14384\n",
      "           2       0.66      0.83      0.74     14448\n",
      "\n",
      "    accuracy                           0.70     28832\n",
      "   macro avg       0.72      0.70      0.70     28832\n",
      "weighted avg       0.72      0.70      0.70     28832\n",
      "\n"
     ]
    }
   ],
   "source": [
    "#train an LR model using the liblinear solver\n",
    "LR_lib = LogisticRegression(C=0.01, solver='liblinear').fit(X_train,y_train)\n",
    "lib_pred = LR_lib.predict(X_test)\n",
    "lib_prob = LR_lib.predict_proba(X_test)\n",
    "print('Jaccard similarity for liblinear Logistic Regression: ', jaccard_score(y_test, lib_pred))\n",
    "print('Logloss for liblinear Logistic Regression: ', log_loss(y_test, lib_prob))\n",
    "print('Test Accuracy for liblinear: ',metrics.accuracy_score(y_test,lib_pred))\n",
    "print(confusion_matrix(y_test,lib_pred,labels=targetNames))\n",
    "print(classification_report(y_test,lib_pred))"
   ]
  },
  {
   "cell_type": "code",
   "execution_count": 21,
   "metadata": {},
   "outputs": [],
   "source": [
    "#lr_acc = metrics.accuracy_score(y_test,lr_pred)\n"
   ]
  },
  {
   "cell_type": "code",
   "execution_count": 22,
   "metadata": {},
   "outputs": [],
   "source": [
    "# LR = {'Logistic Regression': ['liblinear, C=0.01',lr_acc,lr_jac,lr_f1,lr_lgl,lr_roc]}"
   ]
  },
  {
   "cell_type": "code",
   "execution_count": null,
   "metadata": {},
   "outputs": [],
   "source": []
  },
  {
   "cell_type": "markdown",
   "metadata": {},
   "source": [
    "### 5.1b LR model using the newton-cg solver"
   ]
  },
  {
   "cell_type": "code",
   "execution_count": 23,
   "metadata": {},
   "outputs": [
    {
     "name": "stdout",
     "output_type": "stream",
     "text": [
      "Jaccard similarity for Newton-cg Logistic Regression:  0.49216749061885756\n",
      "Logloss for Newtong-cg Logistic Regression:  0.5427925441224661\n",
      "Test Accuracy for Newton-cg:  0.7042869034406215\n",
      "[[ 8263  6121]\n",
      " [ 2405 12043]]\n",
      "              precision    recall  f1-score   support\n",
      "\n",
      "           1       0.77      0.57      0.66     14384\n",
      "           2       0.66      0.83      0.74     14448\n",
      "\n",
      "    accuracy                           0.70     28832\n",
      "   macro avg       0.72      0.70      0.70     28832\n",
      "weighted avg       0.72      0.70      0.70     28832\n",
      "\n"
     ]
    }
   ],
   "source": [
    "\n",
    "#train an LR model using the newton-cg solver\n",
    "LR_newt = LogisticRegression(C=0.01, solver='newton-cg').fit(X_train,y_train)\n",
    "newt_pred = LR_newt.predict(X_test)\n",
    "newt_prob = LR_newt.predict_proba(X_test)\n",
    "print('Jaccard similarity for Newton-cg Logistic Regression: ', jaccard_score(y_test, newt_pred))\n",
    "print('Logloss for Newtong-cg Logistic Regression: ', log_loss(y_test, newt_prob))\n",
    "print('Test Accuracy for Newton-cg: ',metrics.accuracy_score(y_test,newt_pred))\n",
    "print(confusion_matrix(y_test,newt_pred,labels=targetNames))\n",
    "print(classification_report(y_test,newt_pred))"
   ]
  },
  {
   "cell_type": "markdown",
   "metadata": {},
   "source": [
    "### 5.2c LR model using the sag solver"
   ]
  },
  {
   "cell_type": "code",
   "execution_count": 24,
   "metadata": {},
   "outputs": [
    {
     "name": "stdout",
     "output_type": "stream",
     "text": [
      "Jaccard similarity for sag Logistic Regression:  0.49216749061885756\n",
      "Logloss for sag Logistic Regression:  0.5427876820422463\n",
      "Test Accuracy for sag:  0.7042869034406215\n",
      "[[ 8263  6121]\n",
      " [ 2405 12043]]\n",
      "              precision    recall  f1-score   support\n",
      "\n",
      "           1       0.77      0.57      0.66     14384\n",
      "           2       0.66      0.83      0.74     14448\n",
      "\n",
      "    accuracy                           0.70     28832\n",
      "   macro avg       0.72      0.70      0.70     28832\n",
      "weighted avg       0.72      0.70      0.70     28832\n",
      "\n"
     ]
    }
   ],
   "source": [
    "#train an LR model using the sag solver\n",
    "LR_sag = LogisticRegression(C=0.01, solver='sag').fit(X_train,y_train)\n",
    "sag_pred = LR_sag.predict(X_test)\n",
    "sag_prob = LR_sag.predict_proba(X_test)\n",
    "print('Jaccard similarity for sag Logistic Regression: ', jaccard_score(y_test, sag_pred))\n",
    "print('Logloss for sag Logistic Regression: ', log_loss(y_test, sag_prob))\n",
    "print('Test Accuracy for sag: ',metrics.accuracy_score(y_test,sag_pred))\n",
    "print(confusion_matrix(y_test,sag_pred,labels=targetNames))\n",
    "print(classification_report(y_test,sag_pred))"
   ]
  },
  {
   "cell_type": "markdown",
   "metadata": {},
   "source": [
    "###  Observation: the liblinear solver achieves slightly better Jaccard, Log-loss and simple accuracy scores. Additionally, we see from looking at the confusion matrix that the liblinear model is slightly more balanced in predicting samples between the two classes. Lets look at whether we have the most optimum C value."
   ]
  },
  {
   "cell_type": "code",
   "execution_count": 25,
   "metadata": {},
   "outputs": [
    {
     "data": {
      "image/png": "[encoded data removed]",
      "text/plain": [
       "<Figure size 432x288 with 1 Axes>"
      ]
     },
     "metadata": {
      "needs_background": "light"
     },
     "output_type": "display_data"
    },
    {
     "name": "stdout",
     "output_type": "stream",
     "text": [
      "The best result is 0.5412554480316386 where C= 0.06999999999999999\n"
     ]
    }
   ],
   "source": [
    "#set up a for loop to iterate through multiple values for the C parameter\n",
    "c_par = np.linspace(0.01,0.5,50) #set the C values that will be looped, 50 increments between C=0.01 and C=0.5\n",
    "\n",
    "mean_log = np.zeros((len(c_par)))\n",
    "\n",
    "for n in range(0,len(c_par)):\n",
    "    LR_itr = LogisticRegression(C=c_par[n],solver='liblinear').fit(X_train,y_train)\n",
    "    itr_prob = LR_itr.predict_proba(X_test)\n",
    "    mean_log[n] = log_loss(y_test,itr_prob)\n",
    "    \n",
    "plt.plot(c_par,mean_log,'g')\n",
    "plt.title('Log-loss vs C parameter for Liblinear Logistic Regression')\n",
    "plt.ylabel('Log-loss')\n",
    "plt.xlabel('C value')\n",
    "plt.tight_layout()\n",
    "plt.show()\n",
    "\n",
    "print('The best result is', mean_log.min(), 'where C=', c_par[mean_log.argmin()])"
   ]
  },
  {
   "cell_type": "code",
   "execution_count": 26,
   "metadata": {},
   "outputs": [
    {
     "name": "stdout",
     "output_type": "stream",
     "text": [
      "Test set accuracy:  0.7042869034406215\n",
      "Train set accuracy:  0.7041562611487692\n"
     ]
    }
   ],
   "source": [
    "\n",
    "#when comparing this to the original liblibear model (C=0.01), while the log-loss metric is improved, the jaccard\n",
    "#and accuracy scores were slightly worse, and the confusion matrix had fewer correct predictions in both classes\n",
    "\n",
    "#therefore, we'll keep the liblinear model with C=0.01 for final comparison with the other algorithms\n",
    "\n",
    "lr_opt = LogisticRegression(C=0.01, solver='liblinear').fit(X_train,y_train)\n",
    "lr_pred = lr_opt.predict(X_test)\n",
    "lr_prob = lr_opt.predict_proba(X_test)\n",
    "\n",
    "print('Test set accuracy: ',metrics.accuracy_score(y_test,lr_pred))\n",
    "print('Train set accuracy: ',metrics.accuracy_score(y_train,lr_opt.predict(X_train)))"
   ]
  },
  {
   "cell_type": "code",
   "execution_count": 27,
   "metadata": {},
   "outputs": [],
   "source": [
    "\n",
    "#we have previously imported the jaccard, log-loss and f1 metrics, but there is one more we need to import\n",
    "from sklearn.metrics import roc_auc_score"
   ]
  },
  {
   "cell_type": "code",
   "execution_count": 28,
   "metadata": {},
   "outputs": [],
   "source": [
    "# #calculate simple accuracy\n",
    "\n",
    "lr_acc = metrics.accuracy_score(y_test,lr_pred)"
   ]
  },
  {
   "cell_type": "code",
   "execution_count": 29,
   "metadata": {},
   "outputs": [],
   "source": [
    "#calculate jaccard similarity scores\n",
    "lr_jac = jaccard_score(y_test,lr_pred)"
   ]
  },
  {
   "cell_type": "code",
   "execution_count": 30,
   "metadata": {},
   "outputs": [],
   "source": [
    "#calculate f1-scores\n",
    "lr_f1 = jaccard_score(y_test,lr_pred,average='weighted')"
   ]
  },
  {
   "cell_type": "code",
   "execution_count": 31,
   "metadata": {},
   "outputs": [],
   "source": [
    "#calculate log-loss\n",
    "lr_lgl = log_loss(y_test,lr_prob)"
   ]
  },
  {
   "cell_type": "code",
   "execution_count": 32,
   "metadata": {},
   "outputs": [],
   "source": [
    "lr_roc_prob = [p[1] for p in lr_prob]\n",
    "lr_roc = roc_auc_score(y_test,lr_roc_prob)"
   ]
  },
  {
   "cell_type": "code",
   "execution_count": 33,
   "metadata": {},
   "outputs": [],
   "source": [
    "#compile table of results to dictionary\n",
    "results = {'Logistic Regression': ['liblinear, C=0.01',lr_acc,lr_jac,lr_f1,lr_lgl,lr_roc]}"
   ]
  },
  {
   "cell_type": "code",
   "execution_count": 34,
   "metadata": {},
   "outputs": [],
   "source": [
    "#read dictionary to dataframe\n",
    "results_df = pd.DataFrame.from_dict(results,orient='index')\n",
    "results_df.reset_index(drop=False, inplace=True)\n",
    "results_df.columns = ['Algorithm','Model feature','Accuracy','Jaccard','F1-score','Log-loss','AUROC']\n"
   ]
  },
  {
   "cell_type": "code",
   "execution_count": 35,
   "metadata": {},
   "outputs": [
    {
     "data": {
      "text/html": [
       "<div>\n",
       "<style scoped>\n",
       "    .dataframe tbody tr th:only-of-type {\n",
       "        vertical-align: middle;\n",
       "    }\n",
       "\n",
       "    .dataframe tbody tr th {\n",
       "        vertical-align: top;\n",
       "    }\n",
       "\n",
       "    .dataframe thead th {\n",
       "        text-align: right;\n",
       "    }\n",
       "</style>\n",
       "<table border=\"1\" class=\"dataframe\">\n",
       "  <thead>\n",
       "    <tr style=\"text-align: right;\">\n",
       "      <th></th>\n",
       "      <th>Algorithm</th>\n",
       "      <th>Model feature</th>\n",
       "      <th>Accuracy</th>\n",
       "      <th>Jaccard</th>\n",
       "      <th>F1-score</th>\n",
       "      <th>Log-loss</th>\n",
       "      <th>AUROC</th>\n",
       "    </tr>\n",
       "  </thead>\n",
       "  <tbody>\n",
       "    <tr>\n",
       "      <th>0</th>\n",
       "      <td>Logistic Regression</td>\n",
       "      <td>liblinear, C=0.01</td>\n",
       "      <td>0.704287</td>\n",
       "      <td>0.492167</td>\n",
       "      <td>0.538934</td>\n",
       "      <td>0.54279</td>\n",
       "      <td>0.789685</td>\n",
       "    </tr>\n",
       "  </tbody>\n",
       "</table>\n",
       "</div>"
      ],
      "text/plain": [
       "             Algorithm      Model feature  Accuracy   Jaccard  F1-score  \\\n",
       "0  Logistic Regression  liblinear, C=0.01  0.704287  0.492167  0.538934   \n",
       "\n",
       "   Log-loss     AUROC  \n",
       "0   0.54279  0.789685  "
      ]
     },
     "execution_count": 35,
     "metadata": {},
     "output_type": "execute_result"
    }
   ],
   "source": [
    "#display results\n",
    "results_df"
   ]
  },
  {
   "cell_type": "markdown",
   "metadata": {},
   "source": [
    "\n",
    "## 5.2 Support Vector Machines (SVM)\n",
    "For this method, 'linear', 'rbf', 'polynomial' and 'sigmoid' kernels will be tested."
   ]
  },
  {
   "cell_type": "code",
   "execution_count": 36,
   "metadata": {},
   "outputs": [],
   "source": [
    "import pandas as pd\n",
    "import pylab as pl\n",
    "import numpy as np\n",
    "import scipy.optimize as opt\n",
    "from sklearn import preprocessing\n",
    "from sklearn.model_selection import train_test_split\n",
    "%matplotlib inline \n",
    "import matplotlib.pyplot as plt\n",
    "from sklearn import svm"
   ]
  },
  {
   "cell_type": "code",
   "execution_count": 37,
   "metadata": {},
   "outputs": [
    {
     "name": "stdout",
     "output_type": "stream",
     "text": [
      "Train set: (76883, 16) (76883,)\n",
      "Test set: (19221, 16) (19221,)\n"
     ]
    }
   ],
   "source": [
    "X_train, X_test, y_train, y_test = train_test_split( X, y, test_size=0.2, random_state=4)\n",
    "print ('Train set:', X_train.shape,  y_train.shape)\n",
    "print ('Test set:', X_test.shape,  y_test.shape)"
   ]
  },
  {
   "cell_type": "code",
   "execution_count": 38,
   "metadata": {},
   "outputs": [
    {
     "name": "stdout",
     "output_type": "stream",
     "text": [
      "Test Accuracy for SVM with Linear kernel:  0.7044378544300505\n"
     ]
    }
   ],
   "source": [
    "#svm model with linear function\n",
    "svm_lin = svm.SVC(kernel='linear').fit(X_train,y_train)\n",
    "svm_pred1 = svm_lin.predict(X_test)\n",
    "print('Test Accuracy for SVM with Linear kernel: ', metrics.accuracy_score(y_test,svm_pred1))"
   ]
  },
  {
   "cell_type": "code",
   "execution_count": 39,
   "metadata": {},
   "outputs": [
    {
     "name": "stdout",
     "output_type": "stream",
     "text": [
      "[[5895 3705]\n",
      " [1976 7645]]\n",
      "              precision    recall  f1-score   support\n",
      "\n",
      "           1       0.75      0.61      0.67      9600\n",
      "           2       0.67      0.79      0.73      9621\n",
      "\n",
      "    accuracy                           0.70     19221\n",
      "   macro avg       0.71      0.70      0.70     19221\n",
      "weighted avg       0.71      0.70      0.70     19221\n",
      "\n"
     ]
    }
   ],
   "source": [
    "#confusion matrix & classification report\n",
    "print(confusion_matrix(y_test,svm_pred1,labels=targetNames))\n",
    "print(classification_report(y_test,svm_pred1))"
   ]
  },
  {
   "cell_type": "code",
   "execution_count": null,
   "metadata": {},
   "outputs": [],
   "source": [
    "#from sklearn import svm\n",
    "#clf = svm.SVC(kernel='rbf')\n",
    "#clf.fit(X_train, y_train) "
   ]
  },
  {
   "cell_type": "code",
   "execution_count": 49,
   "metadata": {},
   "outputs": [],
   "source": [
    "#yhat = clf.predict(X_test)\n",
    "# yhat [0:5]"
   ]
  },
  {
   "cell_type": "code",
   "execution_count": null,
   "metadata": {},
   "outputs": [],
   "source": []
  },
  {
   "cell_type": "code",
   "execution_count": null,
   "metadata": {},
   "outputs": [],
   "source": []
  },
  {
   "cell_type": "markdown",
   "metadata": {},
   "source": [
    "### 5.2b SVM model with rbf kernel function"
   ]
  },
  {
   "cell_type": "code",
   "execution_count": 40,
   "metadata": {},
   "outputs": [
    {
     "name": "stdout",
     "output_type": "stream",
     "text": [
      "Test Accuracy for SVM with RBF kernel:  0.7075594401956193\n",
      "[[5780 3820]\n",
      " [1801 7820]]\n",
      "              precision    recall  f1-score   support\n",
      "\n",
      "           1       0.76      0.60      0.67      9600\n",
      "           2       0.67      0.81      0.74      9621\n",
      "\n",
      "    accuracy                           0.71     19221\n",
      "   macro avg       0.72      0.71      0.70     19221\n",
      "weighted avg       0.72      0.71      0.70     19221\n",
      "\n"
     ]
    }
   ],
   "source": [
    "\n",
    "\n",
    "svm_rbf = svm.SVC(kernel='rbf').fit(X_train,y_train)\n",
    "svm_pred2 = svm_rbf.predict(X_test)\n",
    "print('Test Accuracy for SVM with RBF kernel: ', metrics.accuracy_score(y_test,svm_pred2))\n",
    "#confusion matrix and classification report\n",
    "print(confusion_matrix(y_test,svm_pred2,labels=targetNames))\n",
    "print(classification_report(y_test,svm_pred2))"
   ]
  },
  {
   "cell_type": "markdown",
   "metadata": {},
   "source": [
    "### 5.2c svm model with polynomial kernel function"
   ]
  },
  {
   "cell_type": "code",
   "execution_count": 41,
   "metadata": {},
   "outputs": [
    {
     "name": "stdout",
     "output_type": "stream",
     "text": [
      "Test Accuracy for SVM with Polynomial kernel:  0.7079756516310286\n",
      "[[5661 3939]\n",
      " [1674 7947]]\n",
      "              precision    recall  f1-score   support\n",
      "\n",
      "           1       0.77      0.59      0.67      9600\n",
      "           2       0.67      0.83      0.74      9621\n",
      "\n",
      "    accuracy                           0.71     19221\n",
      "   macro avg       0.72      0.71      0.70     19221\n",
      "weighted avg       0.72      0.71      0.70     19221\n",
      "\n"
     ]
    }
   ],
   "source": [
    "\n",
    "svm_poly = svm.SVC(kernel='poly').fit(X_train,y_train)\n",
    "svm_pred3 = svm_poly.predict(X_test)\n",
    "print('Test Accuracy for SVM with Polynomial kernel: ', metrics.accuracy_score(y_test,svm_pred3))\n",
    "#confusion matrix and classification report\n",
    "print(confusion_matrix(y_test,svm_pred3,labels=targetNames))\n",
    "print(classification_report(y_test,svm_pred3))"
   ]
  },
  {
   "cell_type": "markdown",
   "metadata": {},
   "source": [
    "### 5.2d svm model with sigmoid kernel function"
   ]
  },
  {
   "cell_type": "code",
   "execution_count": 42,
   "metadata": {},
   "outputs": [
    {
     "name": "stdout",
     "output_type": "stream",
     "text": [
      "Test Accuracy for SVM with Sigmoid kernel:  0.6331096196868009\n",
      "[[5974 3626]\n",
      " [3426 6195]]\n",
      "              precision    recall  f1-score   support\n",
      "\n",
      "           1       0.64      0.62      0.63      9600\n",
      "           2       0.63      0.64      0.64      9621\n",
      "\n",
      "    accuracy                           0.63     19221\n",
      "   macro avg       0.63      0.63      0.63     19221\n",
      "weighted avg       0.63      0.63      0.63     19221\n",
      "\n"
     ]
    }
   ],
   "source": [
    "\n",
    "\n",
    "svm_sig = svm.SVC(kernel='sigmoid').fit(X_train,y_train)\n",
    "svm_pred4 = svm_sig.predict(X_test)\n",
    "print('Test Accuracy for SVM with Sigmoid kernel: ', metrics.accuracy_score(y_test,svm_pred4))\n",
    "#confusion matrix and classification report\n",
    "print(confusion_matrix(y_test,svm_pred4,labels=targetNames))\n",
    "print(classification_report(y_test,svm_pred4))"
   ]
  },
  {
   "cell_type": "markdown",
   "metadata": {},
   "source": [
    "\n",
    "### Observation:\n",
    "\n",
    "the models built with linear, rbf and polynomial kernels all had similar accuracies around 0.71;   \n",
    "however, the rbf and polynomial versions predicted more collisions to the injury classification,    \n",
    "especially the polynomial kernel, which predicted 7335 to 11886. \n",
    "and  rbf (7581 to 11640)   \n",
    "The sigmoid kernel model was more balanced in predicted both classes (9400 to 9821),but this came at the expense of accuracy, which was only 0.63.  \n",
    "\n",
    "Test Accuracy for SVM with RBF kernel:  0.7075594401956193   \n",
    "Test Accuracy for SVM with Polynomial kernel:  0.7079756516310286   \n",
    "Test Accuracy for SVM with Sigmoid kernel:  0.6331096196868009   \n",
    "Test Accuracy for SVM with Linear kernel:  0.7044378544300505   \n",
    "\n",
    "An SVM with a linear kernel function seems best. It has marginally lower accuracy compared to the rbf/polynomial models (.71 vs .71), but it has the best balance between class predictions.    \n",
    "This is important if the model should avoid overpredicting injury collisions,   \n",
    "which might result in higher costs if the model is used to determine when to dispatch emergency response services"
   ]
  },
  {
   "cell_type": "code",
   "execution_count": 43,
   "metadata": {},
   "outputs": [
    {
     "name": "stdout",
     "output_type": "stream",
     "text": [
      "Train set accuracy for SVM Linear:  0.7015334989529545\n",
      "Test set accuracy for SVM Linear:  0.7044378544300505\n"
     ]
    }
   ],
   "source": [
    "#re-train the linear SVM model, this time enabling probability prediction, which will be used later for AUROC/logloss eval\n",
    "\n",
    "SVM_opt = svm.SVC(kernel='linear', probability=True).fit(X_train,y_train)\n",
    "svm_pred = SVM_opt.predict(X_test)\n",
    "print('Train set accuracy for SVM Linear: ',metrics.accuracy_score(y_train,SVM_opt.predict(X_train)))\n",
    "print('Test set accuracy for SVM Linear: ',metrics.accuracy_score(y_test, svm_pred))"
   ]
  },
  {
   "cell_type": "code",
   "execution_count": 45,
   "metadata": {},
   "outputs": [],
   "source": [
    "svm_prob = SVM_opt.predict_proba(X_test)"
   ]
  },
  {
   "cell_type": "code",
   "execution_count": 46,
   "metadata": {},
   "outputs": [],
   "source": [
    "\n",
    "#calculate simple accuracy \n",
    "svm_acc = metrics.accuracy_score(y_test,svm_pred)\n",
    "\n",
    "#calculate jaccard similarity scores\n",
    "svm_jac = jaccard_score(y_test,svm_pred)\n",
    "\n",
    "#calculate f1-scores\n",
    "svm_f1 = jaccard_score(y_test,svm_pred,average='weighted')\n",
    "\n",
    "#calculate log-loss\n",
    "svm_lgl = log_loss(y_test,svm_prob)\n",
    "\n"
   ]
  },
  {
   "cell_type": "code",
   "execution_count": 47,
   "metadata": {},
   "outputs": [],
   "source": [
    "svm_roc_prob = [p[1] for p in svm_prob]\n",
    "svm_roc = roc_auc_score(y_test,svm_roc_prob)"
   ]
  },
  {
   "cell_type": "code",
   "execution_count": 48,
   "metadata": {},
   "outputs": [],
   "source": [
    "#compile table of results to dictionary\n",
    "results = {'SVM': ['linear kernel',svm_acc,svm_jac,svm_f1,svm_lgl,svm_roc]}\n"
   ]
  },
  {
   "cell_type": "code",
   "execution_count": 49,
   "metadata": {},
   "outputs": [],
   "source": [
    "#read dictionary to dataframe\n",
    "results_df = pd.DataFrame.from_dict(results,orient='index')\n",
    "results_df.reset_index(drop=False, inplace=True)\n",
    "results_df.columns = ['Algorithm','Model feature','Accuracy','Jaccard','F1-score','Log-loss','AUROC']"
   ]
  },
  {
   "cell_type": "code",
   "execution_count": 50,
   "metadata": {},
   "outputs": [
    {
     "data": {
      "text/html": [
       "<div>\n",
       "<style scoped>\n",
       "    .dataframe tbody tr th:only-of-type {\n",
       "        vertical-align: middle;\n",
       "    }\n",
       "\n",
       "    .dataframe tbody tr th {\n",
       "        vertical-align: top;\n",
       "    }\n",
       "\n",
       "    .dataframe thead th {\n",
       "        text-align: right;\n",
       "    }\n",
       "</style>\n",
       "<table border=\"1\" class=\"dataframe\">\n",
       "  <thead>\n",
       "    <tr style=\"text-align: right;\">\n",
       "      <th></th>\n",
       "      <th>Algorithm</th>\n",
       "      <th>Model feature</th>\n",
       "      <th>Accuracy</th>\n",
       "      <th>Jaccard</th>\n",
       "      <th>F1-score</th>\n",
       "      <th>Log-loss</th>\n",
       "      <th>AUROC</th>\n",
       "    </tr>\n",
       "  </thead>\n",
       "  <tbody>\n",
       "    <tr>\n",
       "      <th>0</th>\n",
       "      <td>SVM</td>\n",
       "      <td>linear kernel</td>\n",
       "      <td>0.704438</td>\n",
       "      <td>0.509243</td>\n",
       "      <td>0.541502</td>\n",
       "      <td>0.603729</td>\n",
       "      <td>0.720455</td>\n",
       "    </tr>\n",
       "  </tbody>\n",
       "</table>\n",
       "</div>"
      ],
      "text/plain": [
       "  Algorithm  Model feature  Accuracy   Jaccard  F1-score  Log-loss     AUROC\n",
       "0       SVM  linear kernel  0.704438  0.509243  0.541502  0.603729  0.720455"
      ]
     },
     "execution_count": 50,
     "metadata": {},
     "output_type": "execute_result"
    }
   ],
   "source": [
    "# SVM display results\n",
    "results_df"
   ]
  },
  {
   "cell_type": "code",
   "execution_count": 51,
   "metadata": {},
   "outputs": [
    {
     "data": {
      "text/html": [
       "<div>\n",
       "<style scoped>\n",
       "    .dataframe tbody tr th:only-of-type {\n",
       "        vertical-align: middle;\n",
       "    }\n",
       "\n",
       "    .dataframe tbody tr th {\n",
       "        vertical-align: top;\n",
       "    }\n",
       "\n",
       "    .dataframe thead th {\n",
       "        text-align: right;\n",
       "    }\n",
       "</style>\n",
       "<table border=\"1\" class=\"dataframe\">\n",
       "  <thead>\n",
       "    <tr style=\"text-align: right;\">\n",
       "      <th></th>\n",
       "      <th>Algorithm</th>\n",
       "      <th>Model feature</th>\n",
       "      <th>Accuracy</th>\n",
       "      <th>Jaccard</th>\n",
       "      <th>F1-score</th>\n",
       "      <th>Log-loss</th>\n",
       "      <th>AUROC</th>\n",
       "    </tr>\n",
       "  </thead>\n",
       "  <tbody>\n",
       "    <tr>\n",
       "      <th>0</th>\n",
       "      <td>SVM</td>\n",
       "      <td>linear kernel</td>\n",
       "      <td>0.704438</td>\n",
       "      <td>0.509243</td>\n",
       "      <td>0.541502</td>\n",
       "      <td>0.603729</td>\n",
       "      <td>0.720455</td>\n",
       "    </tr>\n",
       "    <tr>\n",
       "      <th>1</th>\n",
       "      <td>Logistic Regression</td>\n",
       "      <td>liblinear, C=0.01</td>\n",
       "      <td>0.704287</td>\n",
       "      <td>0.492167</td>\n",
       "      <td>0.538934</td>\n",
       "      <td>0.542790</td>\n",
       "      <td>0.789685</td>\n",
       "    </tr>\n",
       "  </tbody>\n",
       "</table>\n",
       "</div>"
      ],
      "text/plain": [
       "             Algorithm      Model feature  Accuracy   Jaccard  F1-score  \\\n",
       "0                  SVM      linear kernel  0.704438  0.509243  0.541502   \n",
       "1  Logistic Regression  liblinear, C=0.01  0.704287  0.492167  0.538934   \n",
       "\n",
       "   Log-loss     AUROC  \n",
       "0  0.603729  0.720455  \n",
       "1  0.542790  0.789685  "
      ]
     },
     "execution_count": 51,
     "metadata": {},
     "output_type": "execute_result"
    }
   ],
   "source": [
    "#compile table of results to dictionary\n",
    "results = {'SVM': ['linear kernel',svm_acc,svm_jac,svm_f1,svm_lgl,svm_roc],\n",
    "          'Logistic Regression': ['liblinear, C=0.01',lr_acc,lr_jac,lr_f1,lr_lgl,lr_roc]}\n",
    "\n",
    "#read dictionary to dataframe\n",
    "results_df = pd.DataFrame.from_dict(results,orient='index')\n",
    "results_df.reset_index(drop=False, inplace=True)\n",
    "results_df.columns = ['Algorithm','Model feature','Accuracy','Jaccard','F1-score','Log-loss','AUROC']\n",
    "\n",
    "#display results\n",
    "results_df"
   ]
  },
  {
   "cell_type": "markdown",
   "metadata": {},
   "source": [
    "# cross validation like KFold and Hyperparameter "
   ]
  },
  {
   "cell_type": "code",
   "execution_count": 53,
   "metadata": {},
   "outputs": [],
   "source": [
    "from sklearn.linear_model import LogisticRegression\n",
    "from sklearn.metrics import accuracy_score,confusion_matrix,classification_report\n",
    "from sklearn.model_selection import KFold,GridSearchCV\n",
    "import numpy as np"
   ]
  },
  {
   "cell_type": "code",
   "execution_count": 54,
   "metadata": {},
   "outputs": [],
   "source": [
    "log_class = LogisticRegression()"
   ]
  },
  {
   "cell_type": "code",
   "execution_count": 55,
   "metadata": {},
   "outputs": [],
   "source": [
    "grid ={'C' : 10.0** np.arange(-2,3), 'penalty' :['l1','l2']}"
   ]
  },
  {
   "cell_type": "code",
   "execution_count": 56,
   "metadata": {},
   "outputs": [],
   "source": [
    "cv = KFold(n_splits= 5 , random_state =None, shuffle=False)"
   ]
  },
  {
   "cell_type": "code",
   "execution_count": 57,
   "metadata": {},
   "outputs": [],
   "source": [
    "from sklearn.model_selection import train_test_split"
   ]
  },
  {
   "cell_type": "code",
   "execution_count": 58,
   "metadata": {},
   "outputs": [],
   "source": [
    "X_train,X_test,y_train,y_test = train_test_split(X,y,train_size =0.7)"
   ]
  },
  {
   "cell_type": "code",
   "execution_count": 59,
   "metadata": {},
   "outputs": [],
   "source": [
    "clf = GridSearchCV(log_class,grid,cv=cv,n_jobs =-1 , scoring='f1_macro')"
   ]
  },
  {
   "cell_type": "code",
   "execution_count": 60,
   "metadata": {},
   "outputs": [
    {
     "data": {
      "text/plain": [
       "((67272, 16), (28832, 16), (67272,), (28832,))"
      ]
     },
     "execution_count": 60,
     "metadata": {},
     "output_type": "execute_result"
    }
   ],
   "source": [
    "X_train.shape,X_test.shape,y_train.shape,y_test.shape"
   ]
  },
  {
   "cell_type": "code",
   "execution_count": 61,
   "metadata": {},
   "outputs": [
    {
     "data": {
      "text/plain": [
       "GridSearchCV(cv=KFold(n_splits=5, random_state=None, shuffle=False),\n",
       "             estimator=LogisticRegression(), n_jobs=-1,\n",
       "             param_grid={'C': array([1.e-02, 1.e-01, 1.e+00, 1.e+01, 1.e+02]),\n",
       "                         'penalty': ['l1', 'l2']},\n",
       "             scoring='f1_macro')"
      ]
     },
     "execution_count": 61,
     "metadata": {},
     "output_type": "execute_result"
    }
   ],
   "source": [
    "clf.fit(X_train,y_train)"
   ]
  },
  {
   "cell_type": "code",
   "execution_count": 63,
   "metadata": {},
   "outputs": [],
   "source": [
    "y_pred = clf.predict(X_test)"
   ]
  },
  {
   "cell_type": "code",
   "execution_count": 64,
   "metadata": {},
   "outputs": [
    {
     "name": "stdout",
     "output_type": "stream",
     "text": [
      "[[ 8873  5518]\n",
      " [ 3152 11289]]\n"
     ]
    }
   ],
   "source": [
    "print(confusion_matrix(y_test,y_pred))"
   ]
  },
  {
   "cell_type": "code",
   "execution_count": 65,
   "metadata": {},
   "outputs": [
    {
     "name": "stdout",
     "output_type": "stream",
     "text": [
      "0.6992924528301887\n",
      "              precision    recall  f1-score   support\n",
      "\n",
      "           1       0.74      0.62      0.67     14391\n",
      "           2       0.67      0.78      0.72     14441\n",
      "\n",
      "    accuracy                           0.70     28832\n",
      "   macro avg       0.70      0.70      0.70     28832\n",
      "weighted avg       0.70      0.70      0.70     28832\n",
      "\n"
     ]
    }
   ],
   "source": [
    "print(accuracy_score(y_test,y_pred))\n",
    "print(classification_report(y_test,y_pred))"
   ]
  },
  {
   "cell_type": "markdown",
   "metadata": {},
   "source": [
    "### Random Forest Classifier"
   ]
  },
  {
   "cell_type": "code",
   "execution_count": 69,
   "metadata": {},
   "outputs": [],
   "source": [
    "from sklearn.ensemble import  RandomForestClassifier"
   ]
  },
  {
   "cell_type": "code",
   "execution_count": 70,
   "metadata": {},
   "outputs": [
    {
     "data": {
      "text/plain": [
       "RandomForestClassifier()"
      ]
     },
     "execution_count": 70,
     "metadata": {},
     "output_type": "execute_result"
    }
   ],
   "source": [
    "classifier = RandomForestClassifier()\n",
    "classifier.fit(X_train,y_train)"
   ]
  },
  {
   "cell_type": "code",
   "execution_count": 71,
   "metadata": {},
   "outputs": [
    {
     "name": "stdout",
     "output_type": "stream",
     "text": [
      "[[ 8469  5922]\n",
      " [ 2745 11696]]\n",
      "0.6993965038845728\n",
      "              precision    recall  f1-score   support\n",
      "\n",
      "           1       0.76      0.59      0.66     14391\n",
      "           2       0.66      0.81      0.73     14441\n",
      "\n",
      "    accuracy                           0.70     28832\n",
      "   macro avg       0.71      0.70      0.70     28832\n",
      "weighted avg       0.71      0.70      0.70     28832\n",
      "\n"
     ]
    }
   ],
   "source": [
    "y_pred  = classifier.predict(X_test)\n",
    "print(confusion_matrix(y_test, y_pred))\n",
    "print(accuracy_score(y_test,y_pred))\n",
    "print(classification_report(y_test,y_pred))"
   ]
  },
  {
   "cell_type": "code",
   "execution_count": 72,
   "metadata": {},
   "outputs": [
    {
     "data": {
      "text/plain": [
       "1    33661\n",
       "2    33611\n",
       "Name: SEVERITYCODE, dtype: int64"
      ]
     },
     "execution_count": 72,
     "metadata": {},
     "output_type": "execute_result"
    }
   ],
   "source": [
    "y_train.value_counts()"
   ]
  },
  {
   "cell_type": "code",
   "execution_count": 73,
   "metadata": {},
   "outputs": [],
   "source": [
    "X_train,X_test,y_train,y_test = train_test_split(X,y,train_size =0.7)"
   ]
  },
  {
   "cell_type": "code",
   "execution_count": 75,
   "metadata": {},
   "outputs": [
    {
     "data": {
      "text/plain": [
       "RandomForestClassifier(class_weight={1: 1})"
      ]
     },
     "execution_count": 75,
     "metadata": {},
     "output_type": "execute_result"
    }
   ],
   "source": [
    "# Modeliing\n",
    "class_weight = dict({1:2,1:1})\n",
    "classifier = RandomForestClassifier (class_weight = class_weight)\n",
    "classifier.fit(X_train,y_train)"
   ]
  },
  {
   "cell_type": "code",
   "execution_count": 76,
   "metadata": {},
   "outputs": [
    {
     "name": "stdout",
     "output_type": "stream",
     "text": [
      "[[ 8416  5906]\n",
      " [ 2624 11886]]\n",
      "0.7041481687014428\n",
      "              precision    recall  f1-score   support\n",
      "\n",
      "           1       0.76      0.59      0.66     14322\n",
      "           2       0.67      0.82      0.74     14510\n",
      "\n",
      "    accuracy                           0.70     28832\n",
      "   macro avg       0.72      0.70      0.70     28832\n",
      "weighted avg       0.71      0.70      0.70     28832\n",
      "\n"
     ]
    }
   ],
   "source": [
    "# Prediction \n",
    "\n",
    "y_pred  = classifier.predict(X_test)\n",
    "print(confusion_matrix(y_test, y_pred))\n",
    "print(accuracy_score(y_test,y_pred))\n",
    "print(classification_report(y_test,y_pred))"
   ]
  },
  {
   "cell_type": "code",
   "execution_count": 77,
   "metadata": {},
   "outputs": [
    {
     "data": {
      "text/plain": [
       "1    33730\n",
       "2    33542\n",
       "Name: SEVERITYCODE, dtype: int64"
      ]
     },
     "execution_count": 77,
     "metadata": {},
     "output_type": "execute_result"
    }
   ],
   "source": [
    "y_train.value_counts()"
   ]
  },
  {
   "cell_type": "code",
   "execution_count": 78,
   "metadata": {},
   "outputs": [
    {
     "name": "stdout",
     "output_type": "stream",
     "text": [
      "Accuracy for Decision Tree:  0.7027608213096559\n"
     ]
    }
   ],
   "source": [
    "RFDT = RandomForestClassifier().fit(X_train,y_train)\n",
    "DT_pred = RFDT.predict(X_test)\n",
    "print('Accuracy for Decision Tree: ',metrics.accuracy_score(y_test,DT_pred))"
   ]
  },
  {
   "cell_type": "code",
   "execution_count": 79,
   "metadata": {},
   "outputs": [],
   "source": [
    "DT_prob = RFDT.predict_proba(X_test)"
   ]
  },
  {
   "cell_type": "code",
   "execution_count": 80,
   "metadata": {},
   "outputs": [],
   "source": [
    "dt_acc = metrics.accuracy_score(y_test,DT_pred)\n",
    "dt_jac = jaccard_score(y_test,DT_pred)\n"
   ]
  },
  {
   "cell_type": "code",
   "execution_count": 81,
   "metadata": {},
   "outputs": [],
   "source": [
    "dt_f1 = jaccard_score(y_test,DT_pred,average='weighted')\n",
    "dt_lgl = log_loss(y_test,DT_prob)"
   ]
  },
  {
   "cell_type": "code",
   "execution_count": 82,
   "metadata": {},
   "outputs": [],
   "source": [
    "dt_roc_prob = [p[1] for p in DT_prob]\n",
    "dt_roc = roc_auc_score(y_test,dt_roc_prob)"
   ]
  },
  {
   "cell_type": "code",
   "execution_count": 83,
   "metadata": {},
   "outputs": [
    {
     "data": {
      "text/html": [
       "<div>\n",
       "<style scoped>\n",
       "    .dataframe tbody tr th:only-of-type {\n",
       "        vertical-align: middle;\n",
       "    }\n",
       "\n",
       "    .dataframe tbody tr th {\n",
       "        vertical-align: top;\n",
       "    }\n",
       "\n",
       "    .dataframe thead th {\n",
       "        text-align: right;\n",
       "    }\n",
       "</style>\n",
       "<table border=\"1\" class=\"dataframe\">\n",
       "  <thead>\n",
       "    <tr style=\"text-align: right;\">\n",
       "      <th></th>\n",
       "      <th>Algorithm</th>\n",
       "      <th>Model feature</th>\n",
       "      <th>Accuracy</th>\n",
       "      <th>Jaccard</th>\n",
       "      <th>F1-score</th>\n",
       "      <th>Log-loss</th>\n",
       "      <th>AUROC</th>\n",
       "    </tr>\n",
       "  </thead>\n",
       "  <tbody>\n",
       "    <tr>\n",
       "      <th>0</th>\n",
       "      <td>Decision Tree</td>\n",
       "      <td>Random Forest</td>\n",
       "      <td>0.702761</td>\n",
       "      <td>0.498155</td>\n",
       "      <td>0.538515</td>\n",
       "      <td>0.556559</td>\n",
       "      <td>0.787344</td>\n",
       "    </tr>\n",
       "  </tbody>\n",
       "</table>\n",
       "</div>"
      ],
      "text/plain": [
       "       Algorithm  Model feature  Accuracy   Jaccard  F1-score  Log-loss  \\\n",
       "0  Decision Tree  Random Forest  0.702761  0.498155  0.538515  0.556559   \n",
       "\n",
       "      AUROC  \n",
       "0  0.787344  "
      ]
     },
     "execution_count": 83,
     "metadata": {},
     "output_type": "execute_result"
    }
   ],
   "source": [
    "results = {'Decision Tree': ['Random Forest',dt_acc,dt_jac,dt_f1,dt_lgl,dt_roc]}\n",
    "\n",
    "#read dictionary to dataframe\n",
    "results_df = pd.DataFrame.from_dict(results,orient='index')\n",
    "results_df.reset_index(drop=False, inplace=True)\n",
    "results_df.columns = ['Algorithm','Model feature','Accuracy','Jaccard','F1-score','Log-loss','AUROC']\n",
    "\n",
    "#display results\n",
    "results_df"
   ]
  },
  {
   "cell_type": "code",
   "execution_count": 85,
   "metadata": {},
   "outputs": [
    {
     "data": {
      "text/html": [
       "<div>\n",
       "<style scoped>\n",
       "    .dataframe tbody tr th:only-of-type {\n",
       "        vertical-align: middle;\n",
       "    }\n",
       "\n",
       "    .dataframe tbody tr th {\n",
       "        vertical-align: top;\n",
       "    }\n",
       "\n",
       "    .dataframe thead th {\n",
       "        text-align: right;\n",
       "    }\n",
       "</style>\n",
       "<table border=\"1\" class=\"dataframe\">\n",
       "  <thead>\n",
       "    <tr style=\"text-align: right;\">\n",
       "      <th></th>\n",
       "      <th>Algorithm</th>\n",
       "      <th>Model feature</th>\n",
       "      <th>Accuracy</th>\n",
       "      <th>Jaccard</th>\n",
       "      <th>F1-score</th>\n",
       "      <th>Log-loss</th>\n",
       "      <th>AUROC</th>\n",
       "    </tr>\n",
       "  </thead>\n",
       "  <tbody>\n",
       "    <tr>\n",
       "      <th>0</th>\n",
       "      <td>Decision Tree</td>\n",
       "      <td>Random Forest</td>\n",
       "      <td>0.702761</td>\n",
       "      <td>0.498155</td>\n",
       "      <td>0.538515</td>\n",
       "      <td>0.556559</td>\n",
       "      <td>0.787344</td>\n",
       "    </tr>\n",
       "    <tr>\n",
       "      <th>1</th>\n",
       "      <td>SVM</td>\n",
       "      <td>linear kernel</td>\n",
       "      <td>0.704438</td>\n",
       "      <td>0.509243</td>\n",
       "      <td>0.541502</td>\n",
       "      <td>0.603729</td>\n",
       "      <td>0.720455</td>\n",
       "    </tr>\n",
       "    <tr>\n",
       "      <th>2</th>\n",
       "      <td>Logistic Regression</td>\n",
       "      <td>liblinear, C=0.01</td>\n",
       "      <td>0.704287</td>\n",
       "      <td>0.492167</td>\n",
       "      <td>0.538934</td>\n",
       "      <td>0.542790</td>\n",
       "      <td>0.789685</td>\n",
       "    </tr>\n",
       "  </tbody>\n",
       "</table>\n",
       "</div>"
      ],
      "text/plain": [
       "             Algorithm      Model feature  Accuracy   Jaccard  F1-score  \\\n",
       "0        Decision Tree      Random Forest  0.702761  0.498155  0.538515   \n",
       "1                  SVM      linear kernel  0.704438  0.509243  0.541502   \n",
       "2  Logistic Regression  liblinear, C=0.01  0.704287  0.492167  0.538934   \n",
       "\n",
       "   Log-loss     AUROC  \n",
       "0  0.556559  0.787344  \n",
       "1  0.603729  0.720455  \n",
       "2  0.542790  0.789685  "
      ]
     },
     "execution_count": 85,
     "metadata": {},
     "output_type": "execute_result"
    }
   ],
   "source": [
    "\n",
    "\n",
    "\n",
    "#compile table of results to dictionary\n",
    "results = {'Decision Tree': ['Random Forest',dt_acc,dt_jac,dt_f1,dt_lgl,dt_roc],\n",
    "          'SVM': ['linear kernel',svm_acc,svm_jac,svm_f1,svm_lgl,svm_roc],\n",
    "          'Logistic Regression': ['liblinear, C=0.01',lr_acc,lr_jac,lr_f1,lr_lgl,lr_roc]}\n",
    "\n",
    "#read dictionary to dataframe\n",
    "results_df = pd.DataFrame.from_dict(results,orient='index')\n",
    "results_df.reset_index(drop=False, inplace=True)\n",
    "results_df.columns = ['Algorithm','Model feature','Accuracy','Jaccard','F1-score','Log-loss','AUROC']\n",
    "\n",
    "#display results\n",
    "results_df"
   ]
  },
  {
   "cell_type": "markdown",
   "metadata": {},
   "source": [
    "\n",
    "# KNN\n",
    "## Classification K nearest neighbor (KNN) Import library Classifier implementing the k-nearest neighbors vote.\n"
   ]
  },
  {
   "cell_type": "code",
   "execution_count": 86,
   "metadata": {},
   "outputs": [],
   "source": [
    "from sklearn.neighbors import KNeighborsClassifier"
   ]
  },
  {
   "cell_type": "code",
   "execution_count": 88,
   "metadata": {},
   "outputs": [
    {
     "name": "stdout",
     "output_type": "stream",
     "text": [
      "Train set: (67272, 16) (67272,)\n",
      "Test set: (28832, 16) (28832,)\n"
     ]
    }
   ],
   "source": [
    "from sklearn.model_selection import train_test_split\n",
    "X_train, X_test, y_train, y_test = train_test_split( X, y, test_size=0.3, random_state=4)\n",
    "print ('Train set:', X_train.shape,  y_train.shape)\n",
    "print ('Test set:', X_test.shape,  y_test.shape)"
   ]
  },
  {
   "cell_type": "code",
   "execution_count": 89,
   "metadata": {},
   "outputs": [
    {
     "data": {
      "text/plain": [
       "KNeighborsClassifier(n_neighbors=71)"
      ]
     },
     "execution_count": 89,
     "metadata": {},
     "output_type": "execute_result"
    }
   ],
   "source": [
    "k = 71\n",
    "#Train Model and Predict  \n",
    "neigh = KNeighborsClassifier(n_neighbors = k).fit(X_train,y_train)\n",
    "neigh"
   ]
  },
  {
   "cell_type": "code",
   "execution_count": 90,
   "metadata": {},
   "outputs": [
    {
     "data": {
      "text/plain": [
       "array([2, 2, 2, 1, 1], dtype=int64)"
      ]
     },
     "execution_count": 90,
     "metadata": {},
     "output_type": "execute_result"
    }
   ],
   "source": [
    "yhat = neigh.predict(X_test)\n",
    "yhat[0:5]"
   ]
  },
  {
   "cell_type": "code",
   "execution_count": null,
   "metadata": {},
   "outputs": [],
   "source": []
  },
  {
   "cell_type": "code",
   "execution_count": null,
   "metadata": {},
   "outputs": [],
   "source": []
  },
  {
   "cell_type": "code",
   "execution_count": null,
   "metadata": {},
   "outputs": [],
   "source": []
  },
  {
   "cell_type": "code",
   "execution_count": 91,
   "metadata": {},
   "outputs": [
    {
     "name": "stdout",
     "output_type": "stream",
     "text": [
      "Accuracy for KNN with k=71:  0.702656770255272\n"
     ]
    }
   ],
   "source": [
    "\n",
    "\n",
    "#train a KNN model for k=71\n",
    "KNN_opt = KNeighborsClassifier(n_neighbors=71).fit(X_train,y_train)\n",
    "knn_pred = KNN_opt.predict(X_test)\n",
    "print('Accuracy for KNN with k=71: ' ,metrics.accuracy_score(y_test,knn_pred))"
   ]
  },
  {
   "cell_type": "markdown",
   "metadata": {},
   "source": [
    "Ks = 71\n",
    "mean_acc = np.zeros((Ks-1))\n",
    "std_acc = np.zeros((Ks-1))\n",
    "ConfustionMx = [];\n",
    "for n in range(1,Ks):\n",
    "    \n",
    "    #Train Model and Predict  \n",
    "    neigh = KNeighborsClassifier(n_neighbors = n).fit(X_train,y_train)\n",
    "    yhat=neigh.predict(X_test)\n",
    "    mean_acc[n-1] = metrics.accuracy_score(y_test, yhat)\n",
    "\n",
    "    \n",
    "    std_acc[n-1]=np.std(yhat==y_test)/np.sqrt(yhat.shape[0])\n",
    "\n",
    "mean_acc"
   ]
  },
  {
   "cell_type": "markdown",
   "metadata": {},
   "source": [
    "lt.plot(range(1,Ks),mean_acc,'g')\n",
    "plt.fill_between(range(1,Ks),mean_acc - 1 * std_acc,mean_acc + 1 * std_acc, alpha=0.10)\n",
    "plt.legend(('Accuracy ', '+/- 3xstd'))\n",
    "plt.ylabel('Accuracy ')\n",
    "plt.xlabel('Number of Nabors (K)')\n",
    "plt.tight_layout()\n",
    "plt.show()"
   ]
  },
  {
   "cell_type": "code",
   "execution_count": null,
   "metadata": {},
   "outputs": [],
   "source": []
  },
  {
   "cell_type": "code",
   "execution_count": null,
   "metadata": {},
   "outputs": [],
   "source": []
  },
  {
   "cell_type": "code",
   "execution_count": 92,
   "metadata": {},
   "outputs": [
    {
     "name": "stdout",
     "output_type": "stream",
     "text": [
      "Train set accuracy:  0.7051522178618147\n",
      "Test set accuracy:  0.702656770255272\n"
     ]
    }
   ],
   "source": [
    "#lets compare simple accuracy of the model for both train and test subsets to determine overfitting\n",
    "print('Train set accuracy: ',metrics.accuracy_score(y_train,KNN_opt.predict(X_train)))\n",
    "print('Test set accuracy: ',metrics.accuracy_score(y_test, knn_pred))"
   ]
  },
  {
   "cell_type": "code",
   "execution_count": 93,
   "metadata": {},
   "outputs": [],
   "source": [
    "#lets import a few other metric types from sklearn for further evaluation\n",
    "from sklearn.metrics import classification_report, confusion_matrix\n",
    "#list of prediction classes required for confusion matrix\n",
    "targetNames = df_bal['SEVERITYCODE'].unique().tolist()"
   ]
  },
  {
   "cell_type": "code",
   "execution_count": 94,
   "metadata": {},
   "outputs": [
    {
     "name": "stdout",
     "output_type": "stream",
     "text": [
      "[[ 9177  5207]\n",
      " [ 3366 11082]]\n",
      "              precision    recall  f1-score   support\n",
      "\n",
      "           1       0.73      0.64      0.68     14384\n",
      "           2       0.68      0.77      0.72     14448\n",
      "\n",
      "    accuracy                           0.70     28832\n",
      "   macro avg       0.71      0.70      0.70     28832\n",
      "weighted avg       0.71      0.70      0.70     28832\n",
      "\n"
     ]
    }
   ],
   "source": [
    "#display confision matrix and classification report for KNN model with k=250\n",
    "print(confusion_matrix(y_test,knn_pred,labels=targetNames))\n",
    "print(classification_report(y_test,knn_pred))"
   ]
  },
  {
   "cell_type": "code",
   "execution_count": 99,
   "metadata": {},
   "outputs": [],
   "source": [
    "knn_prob = KNN_opt.predict_proba(X_test)"
   ]
  },
  {
   "cell_type": "code",
   "execution_count": 95,
   "metadata": {},
   "outputs": [],
   "source": [
    "knn_acc = metrics.accuracy_score(y_test,knn_pred)"
   ]
  },
  {
   "cell_type": "code",
   "execution_count": 96,
   "metadata": {},
   "outputs": [],
   "source": [
    "knn_jac = jaccard_score(y_test,knn_pred)"
   ]
  },
  {
   "cell_type": "code",
   "execution_count": 97,
   "metadata": {},
   "outputs": [],
   "source": [
    "knn_f1 = jaccard_score(y_test,knn_pred,average='weighted')"
   ]
  },
  {
   "cell_type": "code",
   "execution_count": 100,
   "metadata": {},
   "outputs": [],
   "source": [
    "knn_lgl = log_loss(y_test,knn_prob)"
   ]
  },
  {
   "cell_type": "code",
   "execution_count": 101,
   "metadata": {},
   "outputs": [],
   "source": [
    "#calculate area under ROC for each model\n",
    "knn_roc_prob = [p[1] for p in knn_prob]\n",
    "knn_roc = roc_auc_score(y_test,knn_roc_prob)"
   ]
  },
  {
   "cell_type": "code",
   "execution_count": null,
   "metadata": {},
   "outputs": [],
   "source": []
  },
  {
   "cell_type": "code",
   "execution_count": null,
   "metadata": {},
   "outputs": [],
   "source": []
  },
  {
   "cell_type": "code",
   "execution_count": null,
   "metadata": {},
   "outputs": [],
   "source": []
  },
  {
   "cell_type": "code",
   "execution_count": 102,
   "metadata": {},
   "outputs": [
    {
     "data": {
      "text/html": [
       "<div>\n",
       "<style scoped>\n",
       "    .dataframe tbody tr th:only-of-type {\n",
       "        vertical-align: middle;\n",
       "    }\n",
       "\n",
       "    .dataframe tbody tr th {\n",
       "        vertical-align: top;\n",
       "    }\n",
       "\n",
       "    .dataframe thead th {\n",
       "        text-align: right;\n",
       "    }\n",
       "</style>\n",
       "<table border=\"1\" class=\"dataframe\">\n",
       "  <thead>\n",
       "    <tr style=\"text-align: right;\">\n",
       "      <th></th>\n",
       "      <th>Algorithm</th>\n",
       "      <th>Model feature</th>\n",
       "      <th>Accuracy</th>\n",
       "      <th>Jaccard</th>\n",
       "      <th>F1-score</th>\n",
       "      <th>Log-loss</th>\n",
       "      <th>AUROC</th>\n",
       "    </tr>\n",
       "  </thead>\n",
       "  <tbody>\n",
       "    <tr>\n",
       "      <th>0</th>\n",
       "      <td>KNN</td>\n",
       "      <td>k=71</td>\n",
       "      <td>0.702657</td>\n",
       "      <td>0.517014</td>\n",
       "      <td>0.540472</td>\n",
       "      <td>0.545047</td>\n",
       "      <td>0.786708</td>\n",
       "    </tr>\n",
       "  </tbody>\n",
       "</table>\n",
       "</div>"
      ],
      "text/plain": [
       "  Algorithm Model feature  Accuracy   Jaccard  F1-score  Log-loss     AUROC\n",
       "0       KNN          k=71  0.702657  0.517014  0.540472  0.545047  0.786708"
      ]
     },
     "execution_count": 102,
     "metadata": {},
     "output_type": "execute_result"
    }
   ],
   "source": [
    "#compile table of results to dictionary\n",
    "results = {'KNN': ['k=71',knn_acc,knn_jac,knn_f1,knn_lgl,knn_roc]}\n",
    "\n",
    "#read dictionary to dataframe\n",
    "results_df = pd.DataFrame.from_dict(results,orient='index')\n",
    "results_df.reset_index(drop=False, inplace=True)\n",
    "results_df.columns = ['Algorithm','Model feature','Accuracy','Jaccard','F1-score','Log-loss','AUROC']\n",
    "\n",
    "#display results\n",
    "results_df"
   ]
  },
  {
   "cell_type": "code",
   "execution_count": null,
   "metadata": {},
   "outputs": [],
   "source": []
  },
  {
   "cell_type": "markdown",
   "metadata": {},
   "source": [
    "#  Final Score "
   ]
  },
  {
   "cell_type": "code",
   "execution_count": 106,
   "metadata": {},
   "outputs": [
    {
     "data": {
      "text/html": [
       "<div>\n",
       "<style scoped>\n",
       "    .dataframe tbody tr th:only-of-type {\n",
       "        vertical-align: middle;\n",
       "    }\n",
       "\n",
       "    .dataframe tbody tr th {\n",
       "        vertical-align: top;\n",
       "    }\n",
       "\n",
       "    .dataframe thead th {\n",
       "        text-align: right;\n",
       "    }\n",
       "</style>\n",
       "<table border=\"1\" class=\"dataframe\">\n",
       "  <thead>\n",
       "    <tr style=\"text-align: right;\">\n",
       "      <th></th>\n",
       "      <th>Algorithm</th>\n",
       "      <th>Model feature</th>\n",
       "      <th>Accuracy</th>\n",
       "      <th>Jaccard</th>\n",
       "      <th>F1-score</th>\n",
       "      <th>Log-loss</th>\n",
       "      <th>AUROC</th>\n",
       "    </tr>\n",
       "  </thead>\n",
       "  <tbody>\n",
       "    <tr>\n",
       "      <th>0</th>\n",
       "      <td>KNN</td>\n",
       "      <td>k=71</td>\n",
       "      <td>0.702657</td>\n",
       "      <td>0.517014</td>\n",
       "      <td>0.540472</td>\n",
       "      <td>0.545047</td>\n",
       "      <td>0.786708</td>\n",
       "    </tr>\n",
       "    <tr>\n",
       "      <th>1</th>\n",
       "      <td>Decision Tree</td>\n",
       "      <td>Random Forest</td>\n",
       "      <td>0.702761</td>\n",
       "      <td>0.498155</td>\n",
       "      <td>0.538515</td>\n",
       "      <td>0.556559</td>\n",
       "      <td>0.787344</td>\n",
       "    </tr>\n",
       "    <tr>\n",
       "      <th>2</th>\n",
       "      <td>SVM</td>\n",
       "      <td>linear kernel</td>\n",
       "      <td>0.704438</td>\n",
       "      <td>0.509243</td>\n",
       "      <td>0.541502</td>\n",
       "      <td>0.603729</td>\n",
       "      <td>0.720455</td>\n",
       "    </tr>\n",
       "    <tr>\n",
       "      <th>3</th>\n",
       "      <td>Logistic Regression</td>\n",
       "      <td>liblinear, C=0.01</td>\n",
       "      <td>0.704287</td>\n",
       "      <td>0.492167</td>\n",
       "      <td>0.538934</td>\n",
       "      <td>0.542790</td>\n",
       "      <td>0.789685</td>\n",
       "    </tr>\n",
       "  </tbody>\n",
       "</table>\n",
       "</div>"
      ],
      "text/plain": [
       "             Algorithm      Model feature  Accuracy   Jaccard  F1-score  \\\n",
       "0                  KNN               k=71  0.702657  0.517014  0.540472   \n",
       "1        Decision Tree      Random Forest  0.702761  0.498155  0.538515   \n",
       "2                  SVM      linear kernel  0.704438  0.509243  0.541502   \n",
       "3  Logistic Regression  liblinear, C=0.01  0.704287  0.492167  0.538934   \n",
       "\n",
       "   Log-loss     AUROC  \n",
       "0  0.545047  0.786708  \n",
       "1  0.556559  0.787344  \n",
       "2  0.603729  0.720455  \n",
       "3  0.542790  0.789685  "
      ]
     },
     "execution_count": 106,
     "metadata": {},
     "output_type": "execute_result"
    }
   ],
   "source": [
    "#compile table of results to dictionary\n",
    "results = {'KNN': ['k=71',knn_acc,knn_jac,knn_f1,knn_lgl,knn_roc],\n",
    "          'Decision Tree': ['Random Forest',dt_acc,dt_jac,dt_f1,dt_lgl,dt_roc],\n",
    "          'SVM': ['linear kernel',svm_acc,svm_jac,svm_f1,svm_lgl,svm_roc],\n",
    "          'Logistic Regression': ['liblinear, C=0.01',lr_acc,lr_jac,lr_f1,lr_lgl,lr_roc]}\n",
    "\n",
    "#read dictionary to dataframe\n",
    "results_df = pd.DataFrame.from_dict(results,orient='index')\n",
    "results_df.reset_index(drop=False, inplace=True)\n",
    "results_df.columns = ['Algorithm','Model feature','Accuracy','Jaccard','F1-score','Log-loss','AUROC']\n",
    "\n",
    "#display results\n",
    "results_df"
   ]
  },
  {
   "cell_type": "code",
   "execution_count": 107,
   "metadata": {},
   "outputs": [
    {
     "data": {
      "text/html": [
       "<div>\n",
       "<style scoped>\n",
       "    .dataframe tbody tr th:only-of-type {\n",
       "        vertical-align: middle;\n",
       "    }\n",
       "\n",
       "    .dataframe tbody tr th {\n",
       "        vertical-align: top;\n",
       "    }\n",
       "\n",
       "    .dataframe thead th {\n",
       "        text-align: right;\n",
       "    }\n",
       "</style>\n",
       "<table border=\"1\" class=\"dataframe\">\n",
       "  <thead>\n",
       "    <tr style=\"text-align: right;\">\n",
       "      <th></th>\n",
       "      <th>Algorithm</th>\n",
       "      <th>Model feature</th>\n",
       "      <th>Accuracy</th>\n",
       "      <th>Jaccard</th>\n",
       "      <th>F1-score</th>\n",
       "      <th>Log-loss</th>\n",
       "      <th>AUROC</th>\n",
       "    </tr>\n",
       "  </thead>\n",
       "  <tbody>\n",
       "    <tr>\n",
       "      <th>0</th>\n",
       "      <td>KNN</td>\n",
       "      <td>k=71</td>\n",
       "      <td>0.702657</td>\n",
       "      <td>0.517014</td>\n",
       "      <td>0.540472</td>\n",
       "      <td>0.545047</td>\n",
       "      <td>0.786708</td>\n",
       "    </tr>\n",
       "    <tr>\n",
       "      <th>1</th>\n",
       "      <td>Decision Tree</td>\n",
       "      <td>Random Forest</td>\n",
       "      <td>0.702761</td>\n",
       "      <td>0.498155</td>\n",
       "      <td>0.538515</td>\n",
       "      <td>0.556559</td>\n",
       "      <td>0.787344</td>\n",
       "    </tr>\n",
       "    <tr>\n",
       "      <th>2</th>\n",
       "      <td>SVM</td>\n",
       "      <td>linear kernel</td>\n",
       "      <td>0.704438</td>\n",
       "      <td>0.509243</td>\n",
       "      <td>0.541502</td>\n",
       "      <td>0.603729</td>\n",
       "      <td>0.720455</td>\n",
       "    </tr>\n",
       "    <tr>\n",
       "      <th>3</th>\n",
       "      <td>Logistic Regression</td>\n",
       "      <td>liblinear, C=0.01</td>\n",
       "      <td>0.704287</td>\n",
       "      <td>0.492167</td>\n",
       "      <td>0.538934</td>\n",
       "      <td>0.542790</td>\n",
       "      <td>0.789685</td>\n",
       "    </tr>\n",
       "  </tbody>\n",
       "</table>\n",
       "</div>"
      ],
      "text/plain": [
       "             Algorithm      Model feature  Accuracy   Jaccard  F1-score  \\\n",
       "0                  KNN               k=71  0.702657  0.517014  0.540472   \n",
       "1        Decision Tree      Random Forest  0.702761  0.498155  0.538515   \n",
       "2                  SVM      linear kernel  0.704438  0.509243  0.541502   \n",
       "3  Logistic Regression  liblinear, C=0.01  0.704287  0.492167  0.538934   \n",
       "\n",
       "   Log-loss     AUROC  \n",
       "0  0.545047  0.786708  \n",
       "1  0.556559  0.787344  \n",
       "2  0.603729  0.720455  \n",
       "3  0.542790  0.789685  "
      ]
     },
     "execution_count": 107,
     "metadata": {},
     "output_type": "execute_result"
    }
   ],
   "source": [
    "results_df"
   ]
  },
  {
   "cell_type": "markdown",
   "metadata": {},
   "source": [
    "## Evaluation Summary:  \n",
    "The results are very similar for each of the different models. \n",
    "\n",
    "The Logistic Regression approach performed best for 2 of the 5 metrics: simple accuracy,and AUROC \n",
    "F1 and log loss  is SVM  \n",
    "\n",
    "while the KNN algorithm was the best according to Jacard.  \n",
    "\n",
    "the Logistic Regression model had the worst Jaccard similarity score of the 3 models.\n",
    "\n",
    "Ultimately, the result are so similar that selecting a model might come down to its performance with respect to predicting against each classification.\n",
    "If being conservative - predicting fewer injury collisions is preferred - \n",
    "\n",
    "then the SVM or KNN models might be best,\n",
    "whereas the Logistic Regression and Decision Tree model might be preferable if higher sensitivity is required for predicting injury type collisions."
   ]
  },
  {
   "cell_type": "code",
   "execution_count": null,
   "metadata": {},
   "outputs": [],
   "source": []
  }
 ],
 "metadata": {
  "kernelspec": {
   "display_name": "Python 3",
   "language": "python",
   "name": "python3"
  },
  "language_info": {
   "codemirror_mode": {
    "name": "ipython",
    "version": 3
   },
   "file_extension": ".py",
   "mimetype": "text/x-python",
   "name": "python",
   "nbconvert_exporter": "python",
   "pygments_lexer": "ipython3",
   "version": "3.7.6"
  }
 },
 "nbformat": 4,
 "nbformat_minor": 4
}
